{
  "nbformat": 4,
  "nbformat_minor": 0,
  "metadata": {
    "colab": {
      "provenance": [],
      "collapsed_sections": [
        "0scDz74j9PcE",
        "4jqZY5lawzZc",
        "iOVCOrDNy1AW",
        "xISuZ91LjYM7",
        "nyZwyNpejil_",
        "li6zjPyKjk-k",
        "lpWaoEkCwrRv",
        "cBeI6nSW2Ib6",
        "u_YKMrKz2Rru",
        "MdFNTcbstjo9",
        "Vk7oboStaGfb",
        "d8LBW0uyvl3Q",
        "_zBJgku2wgdu",
        "ZRqPWYwfkV1q",
        "XnK1ArGhyywc",
        "GpWLM38SynXP",
        "stRdYR_xwo5Z",
        "GywBmg1khUqD",
        "gQxVomrcOuaG",
        "aELue-oecdZe",
        "gQ8YUwcxjSgv",
        "xy6gNqbfF_3I",
        "3ZtCt5TxYzs6",
        "lGUZRMSkvk7e",
        "YJvcJp1yvjsq",
        "BSai4Osyw7na",
        "63R_fR2mhRqe",
        "JMPevk5oE50M",
        "JTpeCxp43WlR",
        "OOPmNTTXt1n4",
        "NCAHJvSPvxuF",
        "3lBWRn3TBegY",
        "XyAlsKYaBNje",
        "YgUnqwCQrfFX",
        "qxYy92nupqXK",
        "cnOa1aUlrX6D",
        "auVOzsRa6JZg",
        "s0w8aCjjqaQg",
        "a8JFGphePYuc",
        "uX5DWJIJ8NrV",
        "7QtW2YtDwroW"
      ]
    },
    "kernelspec": {
      "display_name": "Python 3",
      "language": "python",
      "name": "python3"
    },
    "language_info": {
      "codemirror_mode": {
        "name": "ipython",
        "version": 3
      },
      "file_extension": ".py",
      "mimetype": "text/x-python",
      "name": "python",
      "nbconvert_exporter": "python",
      "pygments_lexer": "ipython3",
      "version": "3.8.5"
    }
  },
  "cells": [
    {
      "cell_type": "code",
      "metadata": {
        "id": "LgVZJ3sarM7O"
      },
      "source": [
        "from google.colab import drive\n",
        "drive.mount('/content/drive/')\n",
        "import os\n",
        "project_path=os.chdir('/content/drive/My Drive/Song data/')"
      ],
      "execution_count": null,
      "outputs": []
    },
    {
      "cell_type": "markdown",
      "metadata": {
        "id": "0scDz74j9PcE"
      },
      "source": [
        "#IMPORT LIBRARIES"
      ]
    },
    {
      "cell_type": "code",
      "metadata": {
        "id": "SfPKI4w32pmi",
        "colab": {
          "base_uri": "https://localhost:8080/"
        },
        "outputId": "ad43cf4a-8701-462a-f658-2d4c8f8fc789"
      },
      "source": [
        "import os\n",
        "import pandas as pd\n",
        "import numpy as np\n",
        "import seaborn as sns\n",
        "import matplotlib.pyplot as plt\n",
        "from sklearn import preprocessing\n",
        "import nltk\n",
        "from nltk.stem import WordNetLemmatizer\n",
        "from nltk.corpus import wordnet\n",
        "from nltk.corpus import stopwords\n",
        "from sklearn.feature_extraction.text import CountVectorizer\n",
        "from sklearn.feature_extraction.text import TfidfTransformer\n",
        "from sklearn.feature_extraction.stop_words import ENGLISH_STOP_WORDS\n",
        "from sklearn.model_selection import KFold\n",
        "from wordcloud import WordCloud, STOPWORDS \n",
        "import matplotlib.pyplot as plt \n",
        "import re\n",
        "from nltk.stem.snowball import SnowballStemmer\n",
        "from sklearn.model_selection import GridSearchCV\n",
        "from sklearn.model_selection import train_test_split\n",
        "from sklearn.naive_bayes import MultinomialNB\n",
        "from sklearn import svm\n",
        "from sklearn.pipeline import Pipeline\n",
        "from tensorflow.keras.preprocessing.text import Tokenizer\n",
        "from tensorflow.keras.preprocessing.sequence import pad_sequences\n",
        "import tensorflow as tf\n",
        "from keras.layers.embeddings import Embedding\n",
        "from tensorflow.keras.models import Sequential\n",
        "from tensorflow.keras.layers import Dense, Embedding, LSTM, SpatialDropout1D\n",
        "from sklearn import metrics\n",
        "from sklearn.metrics import confusion_matrix\n",
        "from sklearn.metrics import classification_report\n",
        "from keras.layers import Bidirectional\n",
        "from contextlib import redirect_stdout\n",
        "with redirect_stdout(open(os.devnull, \"w\")):             ### Silence download progressing by re-directing to stdout\n",
        "   nltk.download('stopwords')\n",
        "   nltk.download('punkt')\n",
        "   nltk.download('averaged_perceptron_tagger')\n",
        "   nltk.download('wordnet')\n",
        "   from nltk.corpus import stopwords\n"
      ],
      "execution_count": null,
      "outputs": [
        {
          "output_type": "stream",
          "text": [
            "/usr/local/lib/python3.7/dist-packages/sklearn/utils/deprecation.py:144: FutureWarning: The sklearn.feature_extraction.stop_words module is  deprecated in version 0.22 and will be removed in version 0.24. The corresponding classes / functions should instead be imported from sklearn.feature_extraction.text. Anything that cannot be imported from sklearn.feature_extraction.text is now part of the private API.\n",
            "  warnings.warn(message, FutureWarning)\n"
          ],
          "name": "stderr"
        }
      ]
    },
    {
      "cell_type": "markdown",
      "metadata": {
        "id": "4jqZY5lawzZc"
      },
      "source": [
        "### Importing data"
      ]
    },
    {
      "cell_type": "code",
      "metadata": {
        "id": "4loW7Rep4cTr"
      },
      "source": [
        "def importing(filename): \n",
        "  path = filename + \".txt\"\n",
        "  \n",
        "  a_file = open(path, \"r\",  encoding='windows-1252')\n",
        "  words = []\n",
        "  for line in a_file:\n",
        "      stripped_line = line.strip()\n",
        "      line_list = stripped_line\n",
        "      words.append(line_list)\n",
        "  a_file.close()\n",
        "  DF = pd.DataFrame()\n",
        "  DF[filename] = words\n",
        "  return DF\n"
      ],
      "execution_count": null,
      "outputs": []
    },
    {
      "cell_type": "markdown",
      "metadata": {
        "id": "iOVCOrDNy1AW"
      },
      "source": [
        "# PREPROCESSING"
      ]
    },
    {
      "cell_type": "markdown",
      "metadata": {
        "id": "xISuZ91LjYM7"
      },
      "source": [
        "## REMOVING STOPWORDS"
      ]
    },
    {
      "cell_type": "code",
      "metadata": {
        "id": "75NGCeWIGNBr"
      },
      "source": [
        "stop = set(stopwords.words('english'))\n",
        "\n",
        "lemmatizer = WordNetLemmatizer()"
      ],
      "execution_count": null,
      "outputs": []
    },
    {
      "cell_type": "code",
      "metadata": {
        "id": "RtKI_Y1vGQjq"
      },
      "source": [
        "# function to convert nltk tag to wordnet tag\n",
        "def nltk_tag_to_wordnet_tag(nltk_tag):\n",
        "    if nltk_tag.startswith('J'):\n",
        "        return wordnet.ADJ\n",
        "    elif nltk_tag.startswith('V'):\n",
        "        return wordnet.VERB\n",
        "    elif nltk_tag.startswith('N'):\n",
        "        return wordnet.NOUN\n",
        "    elif nltk_tag.startswith('R'):\n",
        "        return wordnet.ADV\n",
        "    else:          \n",
        "        return None"
      ],
      "execution_count": null,
      "outputs": []
    },
    {
      "cell_type": "markdown",
      "metadata": {
        "id": "nyZwyNpejil_"
      },
      "source": [
        "## LEMMATIZE"
      ]
    },
    {
      "cell_type": "code",
      "metadata": {
        "id": "aPGGKSoVHXCu"
      },
      "source": [
        "#lemmatization \n",
        "def lemmatize_sentence(sentence):\n",
        "\n",
        "    #tokenize the sentence and find the POS tag for each token\n",
        "    nltk_tagged = nltk.pos_tag(nltk.word_tokenize(sentence))  \n",
        "    \n",
        "    #tuple of (token, wordnet_tag)\n",
        "\n",
        "    wordnet_tagged = map(lambda x: (x[0], nltk_tag_to_wordnet_tag(x[1])), nltk_tagged)\n",
        "    lemmatized_sentence = []\n",
        "    for word, tag in wordnet_tagged:\n",
        "        if tag is None:\n",
        "            #if there is no available tag, append the token as is\n",
        "            lemmatized_sentence.append(word)\n",
        "        else:        \n",
        "            #else use the tag to lemmatize the token\n",
        "            lemmatized_sentence.append(lemmatizer.lemmatize(word, tag))\n",
        "    return \" \".join(lemmatized_sentence)"
      ],
      "execution_count": null,
      "outputs": []
    },
    {
      "cell_type": "markdown",
      "metadata": {
        "id": "li6zjPyKjk-k"
      },
      "source": [
        "## REMOVING BLANK LINES"
      ]
    },
    {
      "cell_type": "code",
      "metadata": {
        "id": "6Hma6uCE1kE6"
      },
      "source": [
        "def removing_lines(df):\n",
        "  col = df.columns[0]\n",
        "  df.dropna(inplace = True)\n",
        "  df.drop([], inplace = True)\n",
        "  df = df[~df[col].str.len().eq(0)]\n",
        "\n",
        "  return df"
      ],
      "execution_count": null,
      "outputs": []
    },
    {
      "cell_type": "markdown",
      "metadata": {
        "id": "Dv8MKeCMjrpk"
      },
      "source": [
        "## FINAL PREPROCESSING"
      ]
    },
    {
      "cell_type": "code",
      "metadata": {
        "id": "TczvKk85FHGC"
      },
      "source": [
        "def listToString(s):  \n",
        "    \n",
        "    # initialize an empty string \n",
        "    str1 = \" \"  \n",
        "    \n",
        "    # traverse in the string   \n",
        "    for ele in s:  \n",
        "        \n",
        "        str1 += ele   \n",
        "        str1+=' '\n",
        "\n",
        "    \n",
        "    # return string   \n",
        "    return str1  "
      ],
      "execution_count": null,
      "outputs": []
    },
    {
      "cell_type": "code",
      "metadata": {
        "id": "hrM8s3tLhihL"
      },
      "source": [
        "# function to identify & remove unwanted characters from text in \"Combined Description\"\n",
        "\n",
        "def preprocess(data):\n",
        "    \n",
        "    temp1 =[]\n",
        "    col = data.columns[0]\n",
        "    for sentence in data[col]:\n",
        "        sentence = sentence.lower() #lower case\n",
        "        cleanr = re.compile('<.*?>')\n",
        "        # sentence = re.sub(cleanr, ' ', sentence)        #removing HTML tags\n",
        "        # sentence = re.sub(r'\\S+@\\S+', 'EmailId', sentence)#removing mail ids\n",
        "        # sentence = re.sub(r'\\S+@\\S+', 'https', sentence)#removing https\n",
        "        # sentence = re.sub(r'\\S+@\\S+', 'http', sentence)#removing http\n",
        "        # sentence = re.sub(r'\\'', '', sentence, re.I|re.A)\n",
        "        # sentence = re.sub(r'[^a-zA-Z0-9\\s]', ' ', sentence)\n",
        "        # sentence = sentence.lower()\n",
        "        # sentence = re.sub(r'com ', ' ', sentence, re.I|re.A)\n",
        "        # sentence = re.sub(r'Subject: ', ' ', sentence, re.I|re.A)\n",
        "        # sentence = re.sub(r'\\[cid:(.*)]', ' ', sentence, re.I|re.A)\n",
        "        # sentence = re.sub(r'hello ', ' ', sentence, re.I|re.A)\n",
        "        # sentence = re.sub(r'The information(.*)infection', ' ', sentence, re.I|re.A)  # footer\n",
        "        # sentence = re.sub(r'Endava Limited is a company(.*)or omissions', ' ', sentence,  re.I|re.A)  # footer\n",
        "        # sentence = re.sub(r'The information in this email is confidential and may be legally(.*)interference if you are not the intended recipient', ' ', sentence, re.I|re.A)  # footer\n",
        "        # sentence = re.sub(r'select the following link to view the disclaimer in an alternate language.', ' ', sentence, re.I|re.A)  # disclaimer footer\n",
        "\n",
        "        sentence = re.sub(r'[^\\w\\s]', '', sentence)  # will remove all punctuations\n",
        "        sentence = re.sub(r'[0-9]', '', sentence, re.I|re.A)  # will remove all digits\n",
        "        sentence = re.sub(r'aint' , '' , sentence)  \n",
        "        sentence = re.sub(\"[\\(\\[].*?[\\)\\]]\", \"\", sentence)  # Will remoce all brackets\n",
        "\n",
        "        l_sentence = lemmatize_sentence(sentence)\n",
        "\n",
        "        words = [word for word in l_sentence.split() if word not in stopwords.words('english')]  # stopword removal\n",
        "        temp1.append(words)\n",
        "        \n",
        "    temp = []\n",
        "    for sentence in temp1:\n",
        "      temp.append(listToString(sentence))\n",
        "    data[col] = temp\n",
        "    return data\n",
        "    #print (\"Sentence = \",sentence)"
      ],
      "execution_count": null,
      "outputs": []
    },
    {
      "cell_type": "markdown",
      "metadata": {
        "id": "lpWaoEkCwrRv"
      },
      "source": [
        "# WORD FREQUENCY"
      ]
    },
    {
      "cell_type": "code",
      "metadata": {
        "id": "_gFF72mK4cT3"
      },
      "source": [
        "def freq_words(x, terms = 30): \n",
        "    all_words = []\n",
        "    #all_words.append([text for text in x])\n",
        "    all_words = ' '.join([text for text in x]) \n",
        "    #[i.split() for i in all_words]\n",
        "    all_words = all_words.split() \n",
        "    fdist = nltk.FreqDist(all_words) \n",
        "    words_df = pd.DataFrame({'word':list(fdist.keys()), 'count':list(fdist.values())}) \n",
        "\n",
        "    # selecting top 20 most frequent words \n",
        "    d = words_df.nlargest(columns=\"count\", n = terms) \n",
        "\n",
        "    # visualize words and frequencies\n",
        "    plt.figure(figsize=(12,15)) \n",
        "    ax = sns.barplot(data=d, x= \"count\", y = \"word\") \n",
        "    ax.set(ylabel = 'Word') \n",
        "    plt.show()\n",
        "    return d\n",
        "# print 100 most frequent words"
      ],
      "execution_count": null,
      "outputs": []
    },
    {
      "cell_type": "markdown",
      "metadata": {
        "id": "cBeI6nSW2Ib6"
      },
      "source": [
        "# WORDCLOUD"
      ]
    },
    {
      "cell_type": "code",
      "metadata": {
        "id": "ckkqyTfZvZaO"
      },
      "source": [
        "# Python program to generate WordCloud \n",
        "def cloud(data):\n",
        "      \n",
        "    comment_words = '' \n",
        "    stopwords = set(STOPWORDS) \n",
        "      \n",
        "    # iterate through the csv file \n",
        "    for val in data: \n",
        "          \n",
        "        # typecaste each val to string \n",
        "        val = str(val) \n",
        "      \n",
        "        # split the value \n",
        "        tokens = val.split() \n",
        "          \n",
        "        # Converts each token into lowercase \n",
        "        for i in range(len(tokens)): \n",
        "            tokens[i] = tokens[i].lower() \n",
        "          \n",
        "        comment_words += \" \".join(tokens)+\" \"\n",
        "      \n",
        "    wordcloud = WordCloud(width = 800, height = 800, \n",
        "                    background_color ='white', \n",
        "                    stopwords = stopwords, \n",
        "                    min_font_size = 10).generate(comment_words) \n",
        "      \n",
        "    # plot the WordCloud image                        \n",
        "    plt.figure(figsize = (8, 8), facecolor = None) \n",
        "    plt.imshow(wordcloud) \n",
        "    plt.axis(\"off\") \n",
        "    plt.tight_layout(pad = 0) \n",
        "      \n",
        "    plt.show() "
      ],
      "execution_count": null,
      "outputs": []
    },
    {
      "cell_type": "markdown",
      "metadata": {
        "id": "u_YKMrKz2Rru"
      },
      "source": [
        "# BI GRAMS"
      ]
    },
    {
      "cell_type": "code",
      "metadata": {
        "id": "h72FRHRAxHTN"
      },
      "source": [
        "def bi_gram(data):\n",
        "  word_vectorizer = CountVectorizer(ngram_range=(2,2), analyzer='word')\n",
        "  sparse_matrix = word_vectorizer.fit_transform(data)\n",
        "  frequencies = sum(sparse_matrix).toarray()[0]\n",
        "  bi_grams_df = pd.DataFrame(frequencies, index=word_vectorizer.get_feature_names(), columns=['frequency'])\n",
        "  print(bi_grams_df.sort_values(by = \"frequency\",ascending=False).head(5))\n"
      ],
      "execution_count": null,
      "outputs": []
    },
    {
      "cell_type": "markdown",
      "metadata": {
        "id": "MdFNTcbstjo9"
      },
      "source": [
        "# TOKENIZE"
      ]
    },
    {
      "cell_type": "code",
      "metadata": {
        "id": "c_kLMS5it6aC"
      },
      "source": [
        "def get_all_words(df):\n",
        "  col = df.columns[0]\n",
        "  all_words = []\n",
        "  for sentence in df[col]:\n",
        "    sentence = sentence.split(' ')\n",
        "    for i in sentence:\n",
        "      if (i not in all_words):\n",
        "        all_words.append(i)\n",
        "  \n",
        "  \n",
        "  \n",
        "  \n",
        "  return all_words"
      ],
      "execution_count": null,
      "outputs": []
    },
    {
      "cell_type": "code",
      "metadata": {
        "id": "Foufkel_74VO"
      },
      "source": [
        "def get_all_wordstest(df):\n",
        "  col = df.columns[0]\n",
        "  all_words = []\n",
        "  for sentence in df[col]:\n",
        "    sentence = sentence.split(' ')\n",
        "    for i in sentence:\n",
        "      if (i not in all_words):\n",
        "        all_words.append(i)\n",
        "  \n",
        "  \n",
        "  \n",
        "  \n",
        "  return all_words"
      ],
      "execution_count": null,
      "outputs": []
    },
    {
      "cell_type": "code",
      "metadata": {
        "id": "vVnnn26tuCen"
      },
      "source": [
        "# def token(df):\n",
        "#   col = df.columns[0]\n",
        "#   vocab_size = len(set(all_words))\n",
        "#   tokenizer = tf.keras.preprocessing.text.Tokenizer(num_words=vocab_size)\n",
        "#   tokenizer.fit_on_texts(df[col])\n",
        "#   X = tokenizer.texts_to_sequences(df[col])\n",
        "#   X = pad_sequences(X, maxlen = 15)\n",
        "#   y = np.asarray(df[col])\n",
        "\n",
        "#   print(\"Vocabulary Size:\", len(X))\n",
        "#   print(X[1])\n",
        "#   print(\"Sentence Size: \", len(y))\n",
        "#   print(y[1])\n",
        "#   return X"
      ],
      "execution_count": null,
      "outputs": []
    },
    {
      "cell_type": "code",
      "metadata": {
        "id": "Dhh6tmqV8H--"
      },
      "source": [
        "# def tokentest(df):\n",
        "#   col = df.columns[0]\n",
        "#   vocab_size = len(set(all_words))\n",
        "#   tokenizer = tf.keras.preprocessing.text.Tokenizer(num_words=vocab_size)\n",
        "#   tokenizer.fit_on_texts(df[col])\n",
        "#   X = tokenizer.texts_to_sequences(df[col])\n",
        "#   X = pad_sequences(X, maxlen = 15)\n",
        "#   y = np.asarray(df[col])\n",
        "\n",
        "  \n",
        "#   return X"
      ],
      "execution_count": null,
      "outputs": []
    },
    {
      "cell_type": "code",
      "metadata": {
        "id": "FOOsTvk8P45S"
      },
      "source": [
        "def labelencoding(df):\n",
        "  col = df.columns[1]\n",
        "  encoder = preprocessing.LabelEncoder()\n",
        "  Y = encoder.fit_transform(df[col])\n",
        "  labelclasses = [0,1,2]\n",
        "  actual = encoder.inverse_transform(labelclasses)\n",
        "  print('The labels or each class are as follows:')\n",
        "  for i in labelclasses:\n",
        "    print(labelclasses[i], actual[i])\n",
        "  return Y\n",
        " "
      ],
      "execution_count": null,
      "outputs": []
    },
    {
      "cell_type": "markdown",
      "metadata": {
        "id": "Vk7oboStaGfb"
      },
      "source": [
        "# Count Vectorizer"
      ]
    },
    {
      "cell_type": "code",
      "metadata": {
        "id": "G9p-cFotaJ1z"
      },
      "source": [
        "from sklearn.feature_extraction.text import CountVectorizer\n",
        "def count_vectorizer(df):\n",
        "\n",
        "  col = df.columns[0]\n",
        "  vectorizer = CountVectorizer()\n",
        "  X = vectorizer.fit_transform(df[col])\n",
        "  return (X.toarray())"
      ],
      "execution_count": null,
      "outputs": []
    },
    {
      "cell_type": "markdown",
      "metadata": {
        "id": "d8LBW0uyvl3Q"
      },
      "source": [
        "#TFIDF VECTORIZER"
      ]
    },
    {
      "cell_type": "code",
      "metadata": {
        "id": "uTeQrOo7crho"
      },
      "source": [
        "from sklearn.feature_extraction.text import TfidfVectorizer\n",
        "\n",
        "def tfidf(df):\n",
        "  col = df.columns[0]\n",
        "  vectorizer = TfidfVectorizer()\n",
        "  X = vectorizer.fit_transform(df[col]).toarray()\n",
        "  #print(vectorizer.get_feature_names())\n",
        "  return X"
      ],
      "execution_count": null,
      "outputs": []
    },
    {
      "cell_type": "markdown",
      "metadata": {
        "id": "_zBJgku2wgdu"
      },
      "source": [
        "#TRAIN DATA PIPELINE"
      ]
    },
    {
      "cell_type": "markdown",
      "metadata": {
        "id": "ZRqPWYwfkV1q"
      },
      "source": [
        "## IMPORTING PIPELINE"
      ]
    },
    {
      "cell_type": "code",
      "metadata": {
        "id": "-ubdqT54kYqJ"
      },
      "source": [
        "drugs = importing('drugs')\n",
        "miso = importing('misogyny')\n",
        "violence = importing('violence')"
      ],
      "execution_count": null,
      "outputs": []
    },
    {
      "cell_type": "code",
      "metadata": {
        "colab": {
          "base_uri": "https://localhost:8080/",
          "height": 197
        },
        "id": "1ISIMG2VlRR3",
        "outputId": "5c8c3d03-de80-4b58-a99a-856756862dc5"
      },
      "source": [
        "drugs.head()"
      ],
      "execution_count": null,
      "outputs": [
        {
          "output_type": "execute_result",
          "data": {
            "text/html": [
              "<div>\n",
              "<style scoped>\n",
              "    .dataframe tbody tr th:only-of-type {\n",
              "        vertical-align: middle;\n",
              "    }\n",
              "\n",
              "    .dataframe tbody tr th {\n",
              "        vertical-align: top;\n",
              "    }\n",
              "\n",
              "    .dataframe thead th {\n",
              "        text-align: right;\n",
              "    }\n",
              "</style>\n",
              "<table border=\"1\" class=\"dataframe\">\n",
              "  <thead>\n",
              "    <tr style=\"text-align: right;\">\n",
              "      <th></th>\n",
              "      <th>drugs</th>\n",
              "    </tr>\n",
              "  </thead>\n",
              "  <tbody>\n",
              "    <tr>\n",
              "      <th>0</th>\n",
              "      <td>I drink I smoke</td>\n",
              "    </tr>\n",
              "    <tr>\n",
              "      <th>1</th>\n",
              "      <td>And who the fuck care smoking on this kush til...</td>\n",
              "    </tr>\n",
              "    <tr>\n",
              "      <th>2</th>\n",
              "      <td>I drink I smoke</td>\n",
              "    </tr>\n",
              "    <tr>\n",
              "      <th>3</th>\n",
              "      <td>Pot, pot gimme some pot</td>\n",
              "    </tr>\n",
              "    <tr>\n",
              "      <th>4</th>\n",
              "      <td>High, high I wanna get high</td>\n",
              "    </tr>\n",
              "  </tbody>\n",
              "</table>\n",
              "</div>"
            ],
            "text/plain": [
              "                                               drugs\n",
              "0                                    I drink I smoke\n",
              "1  And who the fuck care smoking on this kush til...\n",
              "2                                    I drink I smoke\n",
              "3                            Pot, pot gimme some pot\n",
              "4                        High, high I wanna get high"
            ]
          },
          "metadata": {
            "tags": []
          },
          "execution_count": 18
        }
      ]
    },
    {
      "cell_type": "code",
      "metadata": {
        "colab": {
          "base_uri": "https://localhost:8080/",
          "height": 197
        },
        "id": "XJmxz4VOlnwQ",
        "outputId": "e60e134b-35b4-45fa-c381-4bc7ca75d17b"
      },
      "source": [
        "miso.head()"
      ],
      "execution_count": null,
      "outputs": [
        {
          "output_type": "execute_result",
          "data": {
            "text/html": [
              "<div>\n",
              "<style scoped>\n",
              "    .dataframe tbody tr th:only-of-type {\n",
              "        vertical-align: middle;\n",
              "    }\n",
              "\n",
              "    .dataframe tbody tr th {\n",
              "        vertical-align: top;\n",
              "    }\n",
              "\n",
              "    .dataframe thead th {\n",
              "        text-align: right;\n",
              "    }\n",
              "</style>\n",
              "<table border=\"1\" class=\"dataframe\">\n",
              "  <thead>\n",
              "    <tr style=\"text-align: right;\">\n",
              "      <th></th>\n",
              "      <th>misogyny</th>\n",
              "    </tr>\n",
              "  </thead>\n",
              "  <tbody>\n",
              "    <tr>\n",
              "      <th>0</th>\n",
              "      <td>Turn around bitch I got a use for you</td>\n",
              "    </tr>\n",
              "    <tr>\n",
              "      <th>1</th>\n",
              "      <td>Annie's twelve years old in two more she'll be...</td>\n",
              "    </tr>\n",
              "    <tr>\n",
              "      <th>2</th>\n",
              "      <td>Is the seven horny brothers and a drunk-ass dad</td>\n",
              "    </tr>\n",
              "    <tr>\n",
              "      <th>3</th>\n",
              "      <td>My psychic told me she'll have a ass like Serena</td>\n",
              "    </tr>\n",
              "    <tr>\n",
              "      <th>4</th>\n",
              "      <td>If you fuckin' with this girl, then you better...</td>\n",
              "    </tr>\n",
              "  </tbody>\n",
              "</table>\n",
              "</div>"
            ],
            "text/plain": [
              "                                            misogyny\n",
              "0              Turn around bitch I got a use for you\n",
              "1  Annie's twelve years old in two more she'll be...\n",
              "2    Is the seven horny brothers and a drunk-ass dad\n",
              "3   My psychic told me she'll have a ass like Serena\n",
              "4  If you fuckin' with this girl, then you better..."
            ]
          },
          "metadata": {
            "tags": []
          },
          "execution_count": 19
        }
      ]
    },
    {
      "cell_type": "code",
      "metadata": {
        "colab": {
          "base_uri": "https://localhost:8080/",
          "height": 197
        },
        "id": "OQNcNQRjlrmJ",
        "outputId": "00ef223c-a1e9-4aca-9561-ccef6ea66cab"
      },
      "source": [
        "violence.head()"
      ],
      "execution_count": null,
      "outputs": [
        {
          "output_type": "execute_result",
          "data": {
            "text/html": [
              "<div>\n",
              "<style scoped>\n",
              "    .dataframe tbody tr th:only-of-type {\n",
              "        vertical-align: middle;\n",
              "    }\n",
              "\n",
              "    .dataframe tbody tr th {\n",
              "        vertical-align: top;\n",
              "    }\n",
              "\n",
              "    .dataframe thead th {\n",
              "        text-align: right;\n",
              "    }\n",
              "</style>\n",
              "<table border=\"1\" class=\"dataframe\">\n",
              "  <thead>\n",
              "    <tr style=\"text-align: right;\">\n",
              "      <th></th>\n",
              "      <th>violence</th>\n",
              "    </tr>\n",
              "  </thead>\n",
              "  <tbody>\n",
              "    <tr>\n",
              "      <th>0</th>\n",
              "      <td>You have a fight , One of you tries to grab a ...</td>\n",
              "    </tr>\n",
              "    <tr>\n",
              "      <th>1</th>\n",
              "      <td>He accidentally gets his Adam's apple sliced.</td>\n",
              "    </tr>\n",
              "    <tr>\n",
              "      <th>2</th>\n",
              "      <td>panics And he gets his throat cut So now they ...</td>\n",
              "    </tr>\n",
              "    <tr>\n",
              "      <th>3</th>\n",
              "      <td>you slash your own throat So now it's double h...</td>\n",
              "    </tr>\n",
              "    <tr>\n",
              "      <th>4</th>\n",
              "      <td>your head cut off They'll find you with your b...</td>\n",
              "    </tr>\n",
              "  </tbody>\n",
              "</table>\n",
              "</div>"
            ],
            "text/plain": [
              "                                            violence\n",
              "0  You have a fight , One of you tries to grab a ...\n",
              "1      He accidentally gets his Adam's apple sliced.\n",
              "2  panics And he gets his throat cut So now they ...\n",
              "3  you slash your own throat So now it's double h...\n",
              "4  your head cut off They'll find you with your b..."
            ]
          },
          "metadata": {
            "tags": []
          },
          "execution_count": 20
        }
      ]
    },
    {
      "cell_type": "markdown",
      "metadata": {
        "id": "XnK1ArGhyywc"
      },
      "source": [
        "##MERGE"
      ]
    },
    {
      "cell_type": "code",
      "metadata": {
        "id": "LgiS9MiYmCU9"
      },
      "source": [
        "df = pd.DataFrame()\n",
        "df['text'] = miso['misogyny']\n",
        "df['labels'] = 'misogyny'\n",
        "\n",
        "df2 = pd.DataFrame()\n",
        "df2['text'] = drugs['drugs']\n",
        "df2['labels'] = 'drugs'\n",
        "\n",
        "df = df.append(df2 , ignore_index=True)\n",
        "\n",
        "\n",
        "df3 = pd.DataFrame()\n",
        "df3['text'] = violence['violence']\n",
        "df3['labels'] = 'violence'\n",
        "df = df.append(df3 , ignore_index=True)\n"
      ],
      "execution_count": null,
      "outputs": []
    },
    {
      "cell_type": "markdown",
      "metadata": {
        "id": "DBnXH2gvii5x"
      },
      "source": [
        "##PREPROCESSING PIPELINE"
      ]
    },
    {
      "cell_type": "code",
      "metadata": {
        "id": "4bvxZbIGlwZw"
      },
      "source": [
        "df = removing_lines(df)\n",
        "df = preprocess(df)\n",
        "\n",
        "\n",
        "drugs = preprocess(drugs)\n",
        "miso = preprocess(miso)\n",
        "violence = preprocess(violence)"
      ],
      "execution_count": null,
      "outputs": []
    },
    {
      "cell_type": "code",
      "metadata": {
        "colab": {
          "base_uri": "https://localhost:8080/",
          "height": 197
        },
        "id": "kOSeKhMKwCE3",
        "outputId": "5f8e2afb-3580-4b05-ebb5-d062abc34cf2"
      },
      "source": [
        "df.head()"
      ],
      "execution_count": null,
      "outputs": [
        {
          "output_type": "execute_result",
          "data": {
            "text/html": [
              "<div>\n",
              "<style scoped>\n",
              "    .dataframe tbody tr th:only-of-type {\n",
              "        vertical-align: middle;\n",
              "    }\n",
              "\n",
              "    .dataframe tbody tr th {\n",
              "        vertical-align: top;\n",
              "    }\n",
              "\n",
              "    .dataframe thead th {\n",
              "        text-align: right;\n",
              "    }\n",
              "</style>\n",
              "<table border=\"1\" class=\"dataframe\">\n",
              "  <thead>\n",
              "    <tr style=\"text-align: right;\">\n",
              "      <th></th>\n",
              "      <th>text</th>\n",
              "      <th>labels</th>\n",
              "    </tr>\n",
              "  </thead>\n",
              "  <tbody>\n",
              "    <tr>\n",
              "      <th>0</th>\n",
              "      <td>turn around bitch get use</td>\n",
              "      <td>misogyny</td>\n",
              "    </tr>\n",
              "    <tr>\n",
              "      <th>1</th>\n",
              "      <td>annies twelve year old two shell whore</td>\n",
              "      <td>misogyny</td>\n",
              "    </tr>\n",
              "    <tr>\n",
              "      <th>2</th>\n",
              "      <td>seven horny brother drunkass dad</td>\n",
              "      <td>misogyny</td>\n",
              "    </tr>\n",
              "    <tr>\n",
              "      <th>3</th>\n",
              "      <td>psychic tell shell like serena</td>\n",
              "      <td>misogyny</td>\n",
              "    </tr>\n",
              "    <tr>\n",
              "      <th>4</th>\n",
              "      <td>fuckin girl better pay</td>\n",
              "      <td>misogyny</td>\n",
              "    </tr>\n",
              "  </tbody>\n",
              "</table>\n",
              "</div>"
            ],
            "text/plain": [
              "                                       text    labels\n",
              "0                turn around bitch get use   misogyny\n",
              "1   annies twelve year old two shell whore   misogyny\n",
              "2         seven horny brother drunkass dad   misogyny\n",
              "3           psychic tell shell like serena   misogyny\n",
              "4                   fuckin girl better pay   misogyny"
            ]
          },
          "metadata": {
            "tags": []
          },
          "execution_count": 23
        }
      ]
    },
    {
      "cell_type": "code",
      "metadata": {
        "id": "AIJYGQIjzpXT"
      },
      "source": [
        "# miso = miso[0:99]\n",
        "# violence = violence[0:99]"
      ],
      "execution_count": null,
      "outputs": []
    },
    {
      "cell_type": "code",
      "metadata": {
        "colab": {
          "base_uri": "https://localhost:8080/"
        },
        "id": "piSJrUnXjDAF",
        "outputId": "635c765c-a232-43fa-c643-9258329f7bcb"
      },
      "source": [
        "print(miso.shape)\n",
        "print(violence.shape)\n",
        "print(drugs.shape)"
      ],
      "execution_count": null,
      "outputs": [
        {
          "output_type": "stream",
          "text": [
            "(224, 1)\n",
            "(201, 1)\n",
            "(212, 1)\n"
          ],
          "name": "stdout"
        }
      ]
    },
    {
      "cell_type": "code",
      "metadata": {
        "id": "T10Y4w_jzzBR"
      },
      "source": [
        "all_words_miso = get_all_words(miso)\n",
        "all_words_violence = get_all_words(violence)\n",
        "all_words_drugs = get_all_words(drugs)"
      ],
      "execution_count": null,
      "outputs": []
    },
    {
      "cell_type": "code",
      "metadata": {
        "id": "3fywxHShuuCY"
      },
      "source": [
        "worddf = pd.DataFrame()\n",
        "worddf['text'] = all_words_miso\n",
        "worddf['labels'] = 'misogyny'\n",
        "\n",
        "df2 = pd.DataFrame()\n",
        "df2['text'] = all_words_drugs\n",
        "df2['labels'] = 'drugs'\n",
        "\n",
        "worddf = worddf.append(df2 , ignore_index=True)\n",
        "\n",
        "\n",
        "df3 = pd.DataFrame()\n",
        "df3['text'] = all_words_violence\n",
        "df3['labels'] = 'violence'\n",
        "worddf = worddf.append(df3 , ignore_index=True)\n",
        "worddf = removing_lines(worddf)\n",
        "worddf = preprocess(worddf)\n",
        "\n"
      ],
      "execution_count": null,
      "outputs": []
    },
    {
      "cell_type": "code",
      "metadata": {
        "colab": {
          "base_uri": "https://localhost:8080/"
        },
        "id": "7RbINMD9Sxbg",
        "outputId": "e1bc3430-a054-4ed2-9887-2e964c94fbcc"
      },
      "source": [
        "print(df.head())"
      ],
      "execution_count": null,
      "outputs": [
        {
          "output_type": "stream",
          "text": [
            "                                       text    labels\n",
            "0                turn around bitch get use   misogyny\n",
            "1   annies twelve year old two shell whore   misogyny\n",
            "2         seven horny brother drunkass dad   misogyny\n",
            "3           psychic tell shell like serena   misogyny\n",
            "4                   fuckin girl better pay   misogyny\n"
          ],
          "name": "stdout"
        }
      ]
    },
    {
      "cell_type": "markdown",
      "metadata": {
        "id": "GpWLM38SynXP"
      },
      "source": [
        "## VISUALIZATIONS PIPELINE"
      ]
    },
    {
      "cell_type": "code",
      "metadata": {
        "colab": {
          "base_uri": "https://localhost:8080/"
        },
        "id": "xzpIdC5v9GdA",
        "outputId": "fe27be3b-22bb-4a77-c74b-e30570cd8b22"
      },
      "source": [
        "bi_gram(miso['misogyny'])\n",
        "bi_gram(drugs['drugs'])\n",
        "bi_gram(violence['violence'])\n"
      ],
      "execution_count": null,
      "outputs": [
        {
          "output_type": "stream",
          "text": [
            "            frequency\n",
            "bitch shit          6\n",
            "fuck bitch          5\n",
            "say dick            4\n",
            "bitch get           4\n",
            "pussy like          3\n",
            "            frequency\n",
            "get high           14\n",
            "get ta              8\n",
            "ganja burn          6\n",
            "im stoner           4\n",
            "little bit          4\n",
            "             frequency\n",
            "get ta               3\n",
            "dead body            3\n",
            "body hit             2\n",
            "gon na               2\n",
            "fuck around          2\n"
          ],
          "name": "stdout"
        }
      ]
    },
    {
      "cell_type": "code",
      "metadata": {
        "id": "T1KhQc4Slp4r"
      },
      "source": [
        "all_words = get_all_words(df)"
      ],
      "execution_count": null,
      "outputs": []
    },
    {
      "cell_type": "code",
      "metadata": {
        "colab": {
          "base_uri": "https://localhost:8080/"
        },
        "id": "05CRpk6rq6Gr",
        "outputId": "8dd46e2a-c392-4043-f246-4c033a9ab551"
      },
      "source": [
        "len(all_words)"
      ],
      "execution_count": null,
      "outputs": [
        {
          "output_type": "execute_result",
          "data": {
            "text/plain": [
              "1021"
            ]
          },
          "metadata": {
            "tags": []
          },
          "execution_count": 31
        }
      ]
    },
    {
      "cell_type": "markdown",
      "metadata": {
        "id": "stRdYR_xwo5Z"
      },
      "source": [
        "#SWARAD MODELS"
      ]
    },
    {
      "cell_type": "markdown",
      "metadata": {
        "id": "GywBmg1khUqD"
      },
      "source": [
        "# Random Forest Classifier"
      ]
    },
    {
      "cell_type": "code",
      "metadata": {
        "colab": {
          "base_uri": "https://localhost:8080/"
        },
        "id": "jguN9a4khcch",
        "outputId": "8f656837-22a2-4e70-ee17-f7dae3ae473f"
      },
      "source": [
        "from sklearn.ensemble import RandomForestClassifier\n",
        "\n",
        "#vec = tfidf(df)\n",
        "vec = count_vectorizer(df)\n",
        "Y = labelencoding(df)\n",
        "\n",
        "rf = RandomForestClassifier()\n",
        "param = {\n",
        "    'n_estimators' : [10,150,300],\n",
        "    'max_depth' : [30,60,90,None] ,\n",
        "}\n",
        "gs = GridSearchCV(rf , param , cv=3)\n",
        "gs_fit = gs.fit(vec , Y)\n"
      ],
      "execution_count": null,
      "outputs": [
        {
          "output_type": "stream",
          "text": [
            "The labels or each class are as follows:\n",
            "0 drugs\n",
            "1 misogyny\n",
            "2 violence\n"
          ],
          "name": "stdout"
        }
      ]
    },
    {
      "cell_type": "code",
      "metadata": {
        "colab": {
          "base_uri": "https://localhost:8080/",
          "height": 467
        },
        "id": "c5eXrzO634dK",
        "outputId": "aef139a3-b92f-413b-8770-16e14b55c047"
      },
      "source": [
        "pd.DataFrame(gs_fit.cv_results_).sort_values('mean_test_score' , ascending = False).head()"
      ],
      "execution_count": null,
      "outputs": [
        {
          "output_type": "execute_result",
          "data": {
            "text/html": [
              "<div>\n",
              "<style scoped>\n",
              "    .dataframe tbody tr th:only-of-type {\n",
              "        vertical-align: middle;\n",
              "    }\n",
              "\n",
              "    .dataframe tbody tr th {\n",
              "        vertical-align: top;\n",
              "    }\n",
              "\n",
              "    .dataframe thead th {\n",
              "        text-align: right;\n",
              "    }\n",
              "</style>\n",
              "<table border=\"1\" class=\"dataframe\">\n",
              "  <thead>\n",
              "    <tr style=\"text-align: right;\">\n",
              "      <th></th>\n",
              "      <th>mean_fit_time</th>\n",
              "      <th>std_fit_time</th>\n",
              "      <th>mean_score_time</th>\n",
              "      <th>std_score_time</th>\n",
              "      <th>param_max_depth</th>\n",
              "      <th>param_n_estimators</th>\n",
              "      <th>params</th>\n",
              "      <th>split0_test_score</th>\n",
              "      <th>split1_test_score</th>\n",
              "      <th>split2_test_score</th>\n",
              "      <th>mean_test_score</th>\n",
              "      <th>std_test_score</th>\n",
              "      <th>rank_test_score</th>\n",
              "    </tr>\n",
              "  </thead>\n",
              "  <tbody>\n",
              "    <tr>\n",
              "      <th>4</th>\n",
              "      <td>0.351304</td>\n",
              "      <td>0.004304</td>\n",
              "      <td>0.019359</td>\n",
              "      <td>0.000313</td>\n",
              "      <td>60</td>\n",
              "      <td>150</td>\n",
              "      <td>{'max_depth': 60, 'n_estimators': 150}</td>\n",
              "      <td>0.819512</td>\n",
              "      <td>0.726829</td>\n",
              "      <td>0.759804</td>\n",
              "      <td>0.768715</td>\n",
              "      <td>0.038359</td>\n",
              "      <td>1</td>\n",
              "    </tr>\n",
              "    <tr>\n",
              "      <th>8</th>\n",
              "      <td>0.741019</td>\n",
              "      <td>0.007576</td>\n",
              "      <td>0.041474</td>\n",
              "      <td>0.000887</td>\n",
              "      <td>90</td>\n",
              "      <td>300</td>\n",
              "      <td>{'max_depth': 90, 'n_estimators': 300}</td>\n",
              "      <td>0.814634</td>\n",
              "      <td>0.731707</td>\n",
              "      <td>0.759804</td>\n",
              "      <td>0.768715</td>\n",
              "      <td>0.034436</td>\n",
              "      <td>1</td>\n",
              "    </tr>\n",
              "    <tr>\n",
              "      <th>10</th>\n",
              "      <td>0.373609</td>\n",
              "      <td>0.004813</td>\n",
              "      <td>0.021615</td>\n",
              "      <td>0.000398</td>\n",
              "      <td>None</td>\n",
              "      <td>150</td>\n",
              "      <td>{'max_depth': None, 'n_estimators': 150}</td>\n",
              "      <td>0.819512</td>\n",
              "      <td>0.721951</td>\n",
              "      <td>0.759804</td>\n",
              "      <td>0.767089</td>\n",
              "      <td>0.040161</td>\n",
              "      <td>3</td>\n",
              "    </tr>\n",
              "    <tr>\n",
              "      <th>5</th>\n",
              "      <td>0.698301</td>\n",
              "      <td>0.007974</td>\n",
              "      <td>0.039755</td>\n",
              "      <td>0.003180</td>\n",
              "      <td>60</td>\n",
              "      <td>300</td>\n",
              "      <td>{'max_depth': 60, 'n_estimators': 300}</td>\n",
              "      <td>0.814634</td>\n",
              "      <td>0.726829</td>\n",
              "      <td>0.745098</td>\n",
              "      <td>0.762187</td>\n",
              "      <td>0.037828</td>\n",
              "      <td>4</td>\n",
              "    </tr>\n",
              "    <tr>\n",
              "      <th>2</th>\n",
              "      <td>0.606908</td>\n",
              "      <td>0.012574</td>\n",
              "      <td>0.037045</td>\n",
              "      <td>0.002854</td>\n",
              "      <td>30</td>\n",
              "      <td>300</td>\n",
              "      <td>{'max_depth': 30, 'n_estimators': 300}</td>\n",
              "      <td>0.800000</td>\n",
              "      <td>0.707317</td>\n",
              "      <td>0.759804</td>\n",
              "      <td>0.755707</td>\n",
              "      <td>0.037948</td>\n",
              "      <td>5</td>\n",
              "    </tr>\n",
              "  </tbody>\n",
              "</table>\n",
              "</div>"
            ],
            "text/plain": [
              "    mean_fit_time  std_fit_time  ...  std_test_score  rank_test_score\n",
              "4        0.351304      0.004304  ...        0.038359                1\n",
              "8        0.741019      0.007576  ...        0.034436                1\n",
              "10       0.373609      0.004813  ...        0.040161                3\n",
              "5        0.698301      0.007974  ...        0.037828                4\n",
              "2        0.606908      0.012574  ...        0.037948                5\n",
              "\n",
              "[5 rows x 13 columns]"
            ]
          },
          "metadata": {
            "tags": []
          },
          "execution_count": 35
        }
      ]
    },
    {
      "cell_type": "markdown",
      "metadata": {
        "id": "gQxVomrcOuaG"
      },
      "source": [
        "# Naive Bayes Theorem"
      ]
    },
    {
      "cell_type": "markdown",
      "metadata": {
        "id": "aELue-oecdZe"
      },
      "source": [
        "##### Multinomial NB implements the naive Bayes algorithm for multinomially distributed data, and is one of the two classic naive Bayes variants used in text classification (where the data are typically represented as word vector counts, although tf-idf vectors are also known to work well in practice)"
      ]
    },
    {
      "cell_type": "code",
      "metadata": {
        "id": "3T1FRVhMOz1p"
      },
      "source": [
        "from sklearn.naive_bayes import MultinomialNB \n",
        "mnb = MultinomialNB()\n",
        "\n",
        "col = df.columns[0]\n",
        "vectorizer = CountVectorizer()\n",
        "x_train = vectorizer.fit_transform(df[col]).toarray()\n",
        "# print(vectorizer.get_feature_names())\n",
        "\n",
        "x_test = importing('test')\n",
        "x_test = removing_lines(x_test)\n",
        "x_test = preprocess(x_test)\n",
        "print(x_test)\n",
        "\n",
        "col = x_test.columns[0]\n",
        "x_test = vectorizer.transform(x_test[col]).toarray()\n",
        "x_test[1]"
      ],
      "execution_count": null,
      "outputs": []
    },
    {
      "cell_type": "code",
      "metadata": {
        "id": "nSXWXTNGTz5Q"
      },
      "source": [
        "# print(Y_pred.shape)\n",
        "m = [1]*15\n",
        "v = [2]*13\n",
        "d = [0]*19\n",
        "Y_test = []\n",
        "Y_test = m + v + d\n",
        "print(len(Y_test))\n",
        "print(x_test.shape)\n",
        "\n",
        "mnb.fit(x_train, Y)   # Fitting the data"
      ],
      "execution_count": null,
      "outputs": []
    },
    {
      "cell_type": "code",
      "metadata": {
        "id": "IcdAa82_sKj9"
      },
      "source": [
        "Y_pred = mnb.predict(x_test)    # Predicting "
      ],
      "execution_count": null,
      "outputs": []
    },
    {
      "cell_type": "code",
      "metadata": {
        "id": "1oq4YdxhUTsA"
      },
      "source": [
        "length = len(Y_test)\n",
        "count = 0 \n",
        "for x in range(len(Y_test)):\n",
        "  if Y_pred[x] == Y_test[x]:\n",
        "    count += 1\n",
        "print(\"Accuracy: {} %\".format(count/length * 100))"
      ],
      "execution_count": null,
      "outputs": []
    },
    {
      "cell_type": "code",
      "metadata": {
        "id": "YxFBFb1x3I4k"
      },
      "source": [
        "print(Y_pred)\n",
        "print(Y_test)"
      ],
      "execution_count": null,
      "outputs": []
    },
    {
      "cell_type": "markdown",
      "metadata": {
        "id": "gQ8YUwcxjSgv"
      },
      "source": [
        "# SVM"
      ]
    },
    {
      "cell_type": "code",
      "metadata": {
        "colab": {
          "base_uri": "https://localhost:8080/"
        },
        "id": "dfpERaQXj_G5",
        "outputId": "9cea6093-ca1e-4863-d805-e4fabbe6225a"
      },
      "source": [
        "Svm = svm.SVC(C=1.0 , kernel='linear', degree=3, gamma='auto')\n",
        "Svm.fit(x_train ,Y)\n",
        "\n",
        "Y_pred = Svm.predict(x_test)\n",
        "length = len(Y_test)\n",
        "count = 0\n",
        "\n",
        "for x in range(len(Y_test)):\n",
        "  if Y_pred[x] == Y_test[x]:\n",
        "    count += 1\n",
        "print(\"Accuracy: {} %\".format(count/length * 100))"
      ],
      "execution_count": null,
      "outputs": [
        {
          "output_type": "stream",
          "text": [
            "Accuracy: 79.3103448275862 %\n"
          ],
          "name": "stdout"
        }
      ]
    },
    {
      "cell_type": "markdown",
      "metadata": {
        "id": "xy6gNqbfF_3I"
      },
      "source": [
        "# MNB using TFIDF Vector"
      ]
    },
    {
      "cell_type": "code",
      "metadata": {
        "colab": {
          "base_uri": "https://localhost:8080/"
        },
        "id": "iGW8d971GEni",
        "outputId": "e02f0c73-b30c-42d9-91d7-7931a05ff1c3"
      },
      "source": [
        "vec = tfidf(df)\n",
        "\n",
        "mnb = MultinomialNB()\n",
        "X_train, X_test, Y_train, Y_test = train_test_split(vec, Y , test_size = 0.30)\n",
        "\n",
        "mnb.fit(X_train, Y_train)\n",
        "\n",
        "Y_pred = mnb.predict(X_test)\n",
        "print(Y_pred)\n",
        "print(Y_test)\n",
        "\n",
        "length = len(Y_test)\n",
        "\n",
        "count = 0 \n",
        "for x in range(len(Y_test)):\n",
        "  if Y_pred[x] == Y_test[x]:\n",
        "    count += 1\n",
        "print(\"Accuracy: {} %\".format(count/length * 100))"
      ],
      "execution_count": null,
      "outputs": [
        {
          "output_type": "stream",
          "text": [
            "[0 0 0 0 0 1 0 2 0 0 0 0 0 0 0 1 0 1 0 0 1 1 1 0 0 0 0 0 0 0 0 0 1 0 0 0 0\n",
            " 0 0 0 0 1 0 2 0 0 2 1 0 0 0 0 2 0 0 0 0 1 0 1 0 1 0 0 0 0 0 0 0 0 0 0 0 0\n",
            " 0 0 0 0 0 0 0 0 0 0 0 0 0 0 1 0 0 0 0 0 1]\n",
            "[0 0 0 2 0 1 2 2 0 1 2 0 0 1 0 1 1 1 0 0 1 1 1 0 0 2 0 0 2 2 0 1 1 2 1 2 0\n",
            " 0 2 0 2 0 0 2 0 2 2 2 0 2 0 2 2 0 2 1 1 1 0 1 0 0 0 0 0 0 0 0 0 0 0 2 0 0\n",
            " 2 2 0 0 2 2 2 0 0 0 2 2 1 0 1 0 0 0 0 0 1]\n",
            "Accuracy: 65.26315789473685 %\n"
          ],
          "name": "stdout"
        }
      ]
    },
    {
      "cell_type": "markdown",
      "metadata": {
        "id": "3ZtCt5TxYzs6"
      },
      "source": [
        "# Bernoulli Naive Bayes"
      ]
    },
    {
      "cell_type": "code",
      "metadata": {
        "colab": {
          "base_uri": "https://localhost:8080/"
        },
        "id": "20cc-wSSY-oJ",
        "outputId": "d15ed4fb-c3df-4733-e9df-d4e408930427"
      },
      "source": [
        "from sklearn.naive_bayes import BernoulliNB\n",
        "bnb = BernoulliNB(binarize=0.0)\n",
        "\n",
        "bnb.fit(X_train,Y_train)"
      ],
      "execution_count": null,
      "outputs": [
        {
          "output_type": "execute_result",
          "data": {
            "text/plain": [
              "BernoulliNB(alpha=1.0, binarize=0.0, class_prior=None, fit_prior=True)"
            ]
          },
          "metadata": {
            "tags": []
          },
          "execution_count": 281
        }
      ]
    },
    {
      "cell_type": "code",
      "metadata": {
        "colab": {
          "base_uri": "https://localhost:8080/"
        },
        "id": "TgAjM5DHZWu9",
        "outputId": "e5e3c6e4-0665-494a-9b14-13e997b6ed45"
      },
      "source": [
        "Y_pred = bnb.predict(X_test)\n",
        "count = 0 \n",
        "for x in range(len(Y_test)):\n",
        "  if Y_pred[x] == Y_test[x]:\n",
        "    count += 1\n",
        "print(\"Accuracy: {} %\".format(count/length * 100))"
      ],
      "execution_count": null,
      "outputs": [
        {
          "output_type": "stream",
          "text": [
            "Accuracy: 56.84210526315789 %\n"
          ],
          "name": "stdout"
        }
      ]
    },
    {
      "cell_type": "code",
      "metadata": {
        "colab": {
          "base_uri": "https://localhost:8080/"
        },
        "id": "yQTmPV0m59O7",
        "outputId": "5b1ee353-f3e2-4c63-c3de-dab0a2e18e90"
      },
      "source": [
        "print(Y_pred)\n",
        "print(Y_test)"
      ],
      "execution_count": null,
      "outputs": [
        {
          "output_type": "stream",
          "text": [
            "[0 1 0 0 1 0 0 0 0 0 1 0 0 0 0 0 0 0 0 0 2 0 0 0 0 0 0 0 0 0 0 1 0 0 0 0 0\n",
            " 0 0 1 0 0 0 0 1 1 0 1 1 0 0 0 0 0 0 0 0 0 0 0 0 0 0 0 0 1 0 2 0 0 0 0 0 0\n",
            " 0 0 0 0 0 0 0 0 0 0 1 0 0]\n",
            "[2 2 0 2 2 0 0 2 2 0 0 1 1 1 0 0 2 1 0 0 2 1 0 1 1 0 0 2 0 0 1 1 0 2 0 0 0\n",
            " 0 0 1 2 2 2 0 1 1 2 1 2 0 2 1 1 1 2 2 0 0 2 0 2 0 0 1 0 1 0 2 0 0 0 1 0 0\n",
            " 2 1 2 2 2 2 2 1 1 0 1 0 2]\n"
          ],
          "name": "stdout"
        }
      ]
    },
    {
      "cell_type": "markdown",
      "metadata": {
        "id": "lGUZRMSkvk7e"
      },
      "source": [
        "#Glove"
      ]
    },
    {
      "cell_type": "code",
      "metadata": {
        "id": "1xom636FvnAs"
      },
      "source": [
        "from numpy import zeros\n",
        "embeddings_index = dict()\n",
        "f = open('./glove.6B.100d.txt')\n",
        "\n",
        "for line in f:\n",
        "\tvalues = line.split()\n",
        "\tword = values[0]\n",
        "\tcoefs = np.asarray(values[1:], dtype='float32')\n",
        "\tembeddings_index[word] = coefs\n",
        "f.close()\n",
        "print('Loaded %s word vectors.' % len(embeddings_index))\n"
      ],
      "execution_count": null,
      "outputs": []
    },
    {
      "cell_type": "code",
      "metadata": {
        "colab": {
          "background_save": true,
          "base_uri": "https://localhost:8080/"
        },
        "id": "NWD042n8wNK0",
        "outputId": "2d61ca2a-b6b3-4516-8c87-032b9887193d"
      },
      "source": [
        "max_features = 700\n",
        "tokenizer= Tokenizer(num_words= max_features)\n",
        "tokenizer.fit_on_texts(df[\"text\"])\n",
        "\n",
        "vocab_size = len(get_all_words(df))\n",
        "embedding_matrix = zeros((vocab_size+1, 100))\n",
        "for word, i in tokenizer.word_index.items():\n",
        "\tembedding_vector = embeddings_index.get(word)\n",
        "\tif embedding_vector is not None:\n",
        "\t\tembedding_matrix[i] = embedding_vector"
      ],
      "execution_count": null,
      "outputs": [
        {
          "output_type": "stream",
          "text": [
            "['', 'turn', 'around', 'bitch', 'get', 'use', 'besides', 'nothin', 'good', 'annies', 'twelve', 'year', 'old', 'two', 'shell', 'whore', 'im', 'staring', 'tit', 'wrong', 'way', 'strong', 'man', 'take', 'maid', 'need', 'keep', 'house', 'clean', 'fix', 'meal', 'go', 'away', 'someone', 'sit', 'move', 'ill', 'beat', 'shit', 'quit', 'cry', 'always', 'make', 'shout', 'tryna', 'fuck', 'first', 'night', 'different', 'page', 'swappin', 'ho', 'put', 'molly', 'champagne', 'even', 'know', 'home', 'enjoy', 'bag', 'play', 'save', 'phone', 'big', 'booty', 'hoe', 'trick', 'suckin', 'dick', 'buck', 'try', 'domesticate', 'ya', 'girl', 'little', 'bad', 'side', 'pull', 'sayin', 'gold', 'digger', 'messin', 'broke', 'niggas', 'tuesday', 'whatd', 'screw', 'dre', 'fake', 'lie', 'slut', 'never', 'tell', 'id', 'third', 'person', 'today', 'think', 'wouldnt', 'lot', 'easy', 'drop', 'dead', 'cause', 'drive', 'drink', 'back', 'whole', 'new', 'hatred', 'blonde', 'bias', 'hate', 'want', 'die', 'rather', 'leave', 'ditch', 'complain', 'listen', 'still', 'throw', 'thats', 'call', 'pitchin', 'bicth', 'problem', 'one', 'shes', 'machine', 'gun', 'actress', 'whoa', 'well', 'thing', 'mattress', 'youre', 'irreplaceable', 'collectible', 'like', 'fine', 'china', 'alright', 'dangerous', 'mine', 'generous', 'tonight', 'dj', 'eazy', 'station', 'slap', 'across', 'fat', 'meet', 'last', 'baby', 'open', 'gap', 'respect', 'lady', 'give', 'pussy', 'licked', 'ball', 'number', 'cabinet', 'promise', 'next', 'time', 'feelin', 'kinda', 'horny', 'come', 'break', 'cant', 'day', 'lay', 'mouth', 'suppose', 'pay', 'pussys', 'ima', 'couple', 'theres', 'nothing', 'else', 'pas', 'homie', 'hit', 'nuthin', 'yall', 'advise', 'trust', 'silly', 'fall', 'love', 'iti', 'buy', 'pet', 'anyway', 'every', 'lick', 'nut', 'suck', 'sucker', 'momma', 'tub', 'work', 'nigga', 'fiendin', 'yo', 'ever', 'see', 'fact', 'medusa', 'titty', 'full', 'grown', 'look', 'stone', 'yeah', 'tie', 'bed', 'let', 'hickey', 'top', 'sick', 'weekly', 'fuckin', 'toss', 'sleep', 'forgets', 'less', 'ta', 'worry', 'moneyhungry', 'scandalous', 'groupie', 'ridin', 'pocket', 'run', 'money', 'btch', 'wind', 'family', 'seven', 'brother', 'drunkass', 'dad', 'street', 'green', 'clit', 'corhoto', 'oh', 'piss', 'sucking', 'cunt', 'lip', 'punk', 'smoke', 'hard', 'sippin', 'patron', 'till', 'taste', 'water', 'care', 'kush', 'air', 'la', 'pot', 'gim', 'forget', 'high', 'wan', 'na', 'dont', 'drug', 'joint', 'morning', 'afternoon', 'feel', 'right', 'peace', 'war', 'cigarette', 'til', 'toke', 'spliff', 'sensimillia', 'sensamill', 'e', 'catch', 'slippin', 'hell', 'smokin', 'weed', 'havin', 'party', 'bring', 'lighter', 'blunt', 'gettin', 'ashtray', 'place', 'pipe', 'low', 'life', 'stay', 'stoner', 'motherfucking', 'waste', 'gta', 'wasted', 'mind', 'cocaine', 'basement', 'n', 'wax', 'paper', 'medication', 'maybe', 'adhd', 'trippin', 'bail', 'marijuana', 'gshit', 'none', 'dat', 'unless', 'stick', 'crumblin', 'herb', 'rollin', 'swishers', 'cologne', 'minute', 'blowin', 'heavy', 'occasion', 'everyday', 'flame', 'change', 'est', 'gang', 'face', 'quick', 'muhfuckers', 'pass', 'dutch', 'nickle', 'crumble', 'george', 'washington', 'order', 'quarter', 'connect', 'mix', 'purple', 'lemon', 'g', 'billow', 'haze', 'drinkin', 'spin', 'merrygo', 'shot', 'shoot', 'woman', 'late', 'hot', 'takin', 'pill', 'dope', 'could', 'bunch', 'flyin', 'might', 'really', 'hold', 'indo', 'gin', 'juice', 'gon', 'ounce', 'em', 'coke', 'say', 'sell', 'crack', 'ibiza', 'ah', 'room', 'needle', 'spoon', 'another', 'pain', 'beach', 'hen', 'bacardi', 'dark', 'kick', 'hardly', 'talk', 'everytime', 'sniff', 'glue', 'tube', 'rubix', 'cube', 'everywhere', 'trip', 'moon', 'white', 'line', 'long', 'either', 'nose', 'vein', 'gain', 'except', 'killin', 'brain', 'hustlin', 'breathe', 'almost', 'creative', 'much', 'floor', 'habit', 'cool', 'alive', 'deep', 'ganja', 'burn', 'crush', 'blue', 'inhale', 'early', 'round', 'husband', 'fightone', 'grab', 'knife', 'strugglehe', 'accidentally', 'adam', 'apple', 'slice', 'noand', 'son', 'wake', 'upand', 'walk', 'panicsand', 'throat', 'cut', 'godso', 'slash', 'throatso', 'double', 'homicide', 'suicide', 'note', 'pluck', 'chicken', 'wit', 'head', 'offtheyll', 'find', 'leg', 'offand', 'mothafuckin', 'lifeknow', 'aight', 'dump', 'body', 'trash', 'herblood', 'runnin', 'gutter', 'sewerher', 'stunk', 'week', 'horse', 'manure', 'ls', 'crime', 'follow', 'hittin', 'model', 'stabbin', 'broken', 'wine', 'bottle', 'chump', 'split', 'bread', 'sticksi', 'sex', 'chick', 'hand', 'everybody', 'start', 'kill', 'stop', 'violence', 'yet', 'stray', 'dog', 'bloodstain', 'remain', 'jacket', 'shoulda', 'pack', 'cock', 'extra', 'clip', 'reload', 'explode', 'rasshole', 'hardcore', 'c', 'door', 'beef', 'weapon', 'girlfriend', 'talkin', 'bullet', 'load', 'gauge', 'front', 'represent', 'killer', 'th', 'broadway', 'crackedget', 'snap', 'armtwist', 'rib', 'fair', 'kid', 'nappedyou', 'real', 'posse', 'crazieryour', 'mom', 'mob', 'rap', 'saudi', 'arabia', 'comin', 'da', 'glock', 'toy', 'half', 'steppin', 'safety', 'neck', 'pistol', 'throatblow', 'motherfucker', 'choke', 'ground', 'floorsomeone', 'pick', 'morgue', 'knock', 'doormatmake', 'mistake', 'hesitate', 'hop', 'seat', 'revolver', 'blass', 'distract', 'whack', 'enter', 'bar', 'attack', 'scream', 'reach', 'wifeshot', 'shank', 'knifeand', 'anybody', 'wwthey', 'duesyou', 'lose', 'midnight', 'crib', 'spot', 'watch', 'ready', 'mac', 'outsandwiched', 'feeder', 'unloaded', 'dirt', 'empty', 'mehow', 'many', 'bust', 'tobrain', 'fragment', 'shotgun', 'blasting', 'breath', 'murder', 'fo', 'fun', 'job', 'donefrom', 'morn', 'setting', 'sunbad', 'men', 'funthe', 'hundred', 'drum', 'tommy', 'gunbe', 'cat', 'hum', 'tongueme', 'ox', 'funtalk', 'gucci', 'mane', 'wait', 'spraymy', 'rot', 'fourfifth', 'piti', 'shatter', 'splatter', 'bone', 'nerve', 'openlay', 'stretcher', 'pumpto', 'opposition', 'chest', 'jumpwhen', 'light', 'uhh', 'gangsta', 'believe', 'bro', 'lovin', 'beneath', 'mornin', 'hear', 'us', 'official', 'queensbridge', 'murderer', 'mobb', 'equip', 'warfare', 'beware', 'nough', 'share', 'rock', 'stab', 'self', 'land', 'hole', 'crew', 'featherweight', 'gunshotsll', 'levitateanother', 'decease', 'story', 'live', 'diamond', 'captain', 'fucking', 'reason', 'desert', 'storm', 'bomb', 'hang', 'barbed', 'wire', 'graf', 'dig', 'goodbye', 'struggle', 'panic', 'god', 'hammer', 'imma', 'public', 'gotsa', 'motherfuckin', 'beatin', 'stomp', 'punch', 'bashin', 'nine', 'inch', 'pullin', 'trigger', 'got', 'whip', 'fell', 'conscious', 'bloody', 'layin', 'red', 'press', 'charge', 'guarantee', 'interrupt', 'whoopin', 'blood', 'remorse', 'enough', 'crazy', 'behind', 'wig', 'machete', 'crips', 'bout', 'gut', 'spill', 'somebody', 'muhfucker', 'millimeter', 'huntin', 'hangin', 'tree', 'ak', 'nina', 'nineteen', 'twenty', 'chop', 'three', 'separate', 'hack', 'axe', 'soak', 'preschool', 'death', 'wooden', 'block', 'villain', 'rapin', 'nun', 'ayo', 'handicapped', 'cripple', 'instead', 'rape', 'wife', 'givin', 'shoutout', 'thief', 'arm', 'robber', 'serial', 'psychos', 'lunatic', 'fool', 'snitch', 'happy', 'dug', 'chair', 'spaghetti']\n",
            "Size of vocabulary: 770\n"
          ],
          "name": "stdout"
        }
      ]
    },
    {
      "cell_type": "code",
      "metadata": {
        "colab": {
          "background_save": true,
          "base_uri": "https://localhost:8080/"
        },
        "id": "Mdk9-6p2xoKL",
        "outputId": "8ae68354-dafb-43b4-c4d8-ba5b373649e1"
      },
      "source": [
        "embedding_matrix[200]"
      ],
      "execution_count": null,
      "outputs": [
        {
          "output_type": "execute_result",
          "data": {
            "text/plain": [
              "array([-0.11599   ,  0.24951001,  0.12368   ,  0.22826999, -0.98004001,\n",
              "        0.90442002, -0.066431  ,  1.00759995, -0.51786   , -0.89721   ,\n",
              "        0.06033   ,  0.45635   , -0.12329   ,  0.66055   ,  0.80738997,\n",
              "       -0.22172   , -0.95432001,  0.11728   , -0.17465   , -0.32144001,\n",
              "       -0.039212  , -0.14715999,  0.0085009 , -0.24536   , -0.11316   ,\n",
              "        0.34656999, -0.19769   , -0.93313003,  0.40368   ,  0.45205   ,\n",
              "       -0.21028   , -0.12304   , -0.34011999,  0.50079   , -0.60297   ,\n",
              "        0.49643999, -0.27208   ,  0.58858001,  0.85881001, -0.33818999,\n",
              "       -0.32652   ,  0.29934999, -0.49107   , -0.39021999, -0.25044   ,\n",
              "       -0.29198   , -0.57297999,  0.42765   , -0.19709   , -1.02530003,\n",
              "       -0.34852001, -0.77165002, -0.099004  ,  0.58822   ,  1.05879998,\n",
              "       -1.46949995,  0.53688002,  0.29931   ,  0.82280999,  0.37577   ,\n",
              "        0.27201   ,  1.13639998, -0.20126   , -0.82683003,  0.31854999,\n",
              "        0.91860002,  0.66797   , -1.03639996,  0.39477   , -0.29925999,\n",
              "       -0.61724001, -0.41690001,  0.85496002, -0.017057  , -0.1772    ,\n",
              "        0.22447   , -0.10753   , -0.57367003,  0.07241   ,  0.13060001,\n",
              "       -0.097262  ,  0.089236  , -0.78650999,  0.84688997, -1.58080006,\n",
              "        0.41703999,  0.54065001,  0.11574   , -1.19710004,  0.57489002,\n",
              "        0.52265   , -0.45175999,  1.05280006,  0.1206    ,  0.062941  ,\n",
              "        0.204     ,  0.46638   , -0.15943   ,  0.43351999, -0.19394   ])"
            ]
          },
          "metadata": {
            "tags": []
          },
          "execution_count": 0
        }
      ]
    },
    {
      "cell_type": "markdown",
      "metadata": {
        "id": "YJvcJp1yvjsq"
      },
      "source": [
        "# LSTM MODEL"
      ]
    },
    {
      "cell_type": "code",
      "metadata": {
        "colab": {
          "base_uri": "https://localhost:8080/"
        },
        "id": "poSo_RK783oV",
        "outputId": "d52fd5fd-41b3-47c5-c932-89ab5d1c1411"
      },
      "source": [
        "len(set(all_words))"
      ],
      "execution_count": null,
      "outputs": [
        {
          "output_type": "execute_result",
          "data": {
            "text/plain": [
              "601"
            ]
          },
          "metadata": {
            "tags": []
          },
          "execution_count": 77
        }
      ]
    },
    {
      "cell_type": "code",
      "metadata": {
        "colab": {
          "base_uri": "https://localhost:8080/"
        },
        "id": "Hjz1WOmpz3bz",
        "outputId": "3e74e31b-0875-4427-e239-d59e1b779de2"
      },
      "source": [
        "tokenizer = tf.keras.preprocessing.text.Tokenizer(num_words=vocab_size)\n",
        "tokenizer.fit_on_texts(df['text'])\n",
        "\n",
        "X = tokenizer.texts_to_sequences(df[\"text\"])\n",
        "X = pad_sequences(X, maxlen = 15)\n",
        "y = np.asarray(df['labels'])\n",
        "\n",
        "print(\"Number of Samples:\", len(X))\n",
        "\n",
        "print(\"Number of Labels: \", len(y))"
      ],
      "execution_count": null,
      "outputs": [
        {
          "output_type": "stream",
          "text": [
            "Number of Samples: 288\n",
            "Number of Labels:  288\n"
          ],
          "name": "stdout"
        }
      ]
    },
    {
      "cell_type": "code",
      "metadata": {
        "id": "_VXItmd71T4b"
      },
      "source": [
        "from sklearn import preprocessing\n",
        "encoder = preprocessing.LabelEncoder()\n",
        "\n",
        "Y = encoder.fit_transform(df[\"labels\"])"
      ],
      "execution_count": null,
      "outputs": []
    },
    {
      "cell_type": "code",
      "metadata": {
        "colab": {
          "base_uri": "https://localhost:8080/"
        },
        "id": "Z_XGrwUu8-Vm",
        "outputId": "208fa6ca-824a-4c06-d4c5-dcf22fa444ad"
      },
      "source": [
        "labelclasses = [0,1,2]\n",
        "actual = encoder.inverse_transform(labelclasses)\n",
        "print('The labels or each class are as follows:')\n",
        "for i in labelclasses:\n",
        "  print(labelclasses[i], actual[i])"
      ],
      "execution_count": null,
      "outputs": [
        {
          "output_type": "stream",
          "text": [
            "The labels or each class are as follows:\n",
            "0 drugs\n",
            "1 misogyny\n",
            "2 violence\n"
          ],
          "name": "stdout"
        }
      ]
    },
    {
      "cell_type": "code",
      "metadata": {
        "id": "0ulBKdbA7bH8"
      },
      "source": [
        "X_train, X_test, Y_train, Y_test = train_test_split(X, Y, test_size = 0.30)"
      ],
      "execution_count": null,
      "outputs": []
    },
    {
      "cell_type": "code",
      "metadata": {
        "colab": {
          "base_uri": "https://localhost:8080/"
        },
        "id": "CWeBVxhmy6i3",
        "outputId": "8c31b312-e759-47f6-c55b-925fa4a6f7f6"
      },
      "source": [
        "vocab_size"
      ],
      "execution_count": null,
      "outputs": [
        {
          "output_type": "execute_result",
          "data": {
            "text/plain": [
              "601"
            ]
          },
          "metadata": {
            "tags": []
          },
          "execution_count": 82
        }
      ]
    },
    {
      "cell_type": "code",
      "metadata": {
        "colab": {
          "base_uri": "https://localhost:8080/",
          "height": 277
        },
        "id": "s1mkR9NXvbq0",
        "outputId": "5467b9d0-8465-4607-e579-b05bad7d8f6b"
      },
      "source": [
        "embed_dim = 128\n",
        "lstm_out = 196\n",
        "max_length = 15\n",
        "\n",
        "model = Sequential()\n",
        "model.add(Embedding(vocab_size+1, 100, weights=[embedding_matrix], input_length=max_length, trainable=False))\n",
        "model.add(SpatialDropout1D(0.4))\n",
        "model.add(LSTM(lstm_out, dropout=0.2, recurrent_dropout=0.4))\n",
        "model.add(Dense(3,activation='softmax'))\n",
        "model.compile(loss = 'sparse_categorical_crossentropy', optimizer='adam',metrics = ['accuracy'])\n",
        "print(model.summary())\n",
        "\n",
        "tf.keras.utils.plot_model(\n",
        "    model, to_file='model.png', show_shapes=False, show_dtype=False,\n",
        "    show_layer_names=True, rankdir='TB', expand_nested=False, dpi=96\n",
        ")"
      ],
      "execution_count": null,
      "outputs": [
        {
          "output_type": "error",
          "ename": "NameError",
          "evalue": "ignored",
          "traceback": [
            "\u001b[0;31m---------------------------------------------------------------------------\u001b[0m",
            "\u001b[0;31mNameError\u001b[0m                                 Traceback (most recent call last)",
            "\u001b[0;32m<ipython-input-83-107757a90b32>\u001b[0m in \u001b[0;36m<module>\u001b[0;34m()\u001b[0m\n\u001b[1;32m      4\u001b[0m \u001b[0;34m\u001b[0m\u001b[0m\n\u001b[1;32m      5\u001b[0m \u001b[0mmodel\u001b[0m \u001b[0;34m=\u001b[0m \u001b[0mSequential\u001b[0m\u001b[0;34m(\u001b[0m\u001b[0;34m)\u001b[0m\u001b[0;34m\u001b[0m\u001b[0;34m\u001b[0m\u001b[0m\n\u001b[0;32m----> 6\u001b[0;31m \u001b[0mmodel\u001b[0m\u001b[0;34m.\u001b[0m\u001b[0madd\u001b[0m\u001b[0;34m(\u001b[0m\u001b[0mEmbedding\u001b[0m\u001b[0;34m(\u001b[0m\u001b[0mvocab_size\u001b[0m\u001b[0;34m+\u001b[0m\u001b[0;36m1\u001b[0m\u001b[0;34m,\u001b[0m \u001b[0;36m100\u001b[0m\u001b[0;34m,\u001b[0m \u001b[0mweights\u001b[0m\u001b[0;34m=\u001b[0m\u001b[0;34m[\u001b[0m\u001b[0membedding_matrix\u001b[0m\u001b[0;34m]\u001b[0m\u001b[0;34m,\u001b[0m \u001b[0minput_length\u001b[0m\u001b[0;34m=\u001b[0m\u001b[0mmax_length\u001b[0m\u001b[0;34m,\u001b[0m \u001b[0mtrainable\u001b[0m\u001b[0;34m=\u001b[0m\u001b[0;32mFalse\u001b[0m\u001b[0;34m)\u001b[0m\u001b[0;34m)\u001b[0m\u001b[0;34m\u001b[0m\u001b[0;34m\u001b[0m\u001b[0m\n\u001b[0m\u001b[1;32m      7\u001b[0m \u001b[0mmodel\u001b[0m\u001b[0;34m.\u001b[0m\u001b[0madd\u001b[0m\u001b[0;34m(\u001b[0m\u001b[0mSpatialDropout1D\u001b[0m\u001b[0;34m(\u001b[0m\u001b[0;36m0.4\u001b[0m\u001b[0;34m)\u001b[0m\u001b[0;34m)\u001b[0m\u001b[0;34m\u001b[0m\u001b[0;34m\u001b[0m\u001b[0m\n\u001b[1;32m      8\u001b[0m \u001b[0mmodel\u001b[0m\u001b[0;34m.\u001b[0m\u001b[0madd\u001b[0m\u001b[0;34m(\u001b[0m\u001b[0mLSTM\u001b[0m\u001b[0;34m(\u001b[0m\u001b[0mlstm_out\u001b[0m\u001b[0;34m,\u001b[0m \u001b[0mdropout\u001b[0m\u001b[0;34m=\u001b[0m\u001b[0;36m0.2\u001b[0m\u001b[0;34m,\u001b[0m \u001b[0mrecurrent_dropout\u001b[0m\u001b[0;34m=\u001b[0m\u001b[0;36m0.4\u001b[0m\u001b[0;34m)\u001b[0m\u001b[0;34m)\u001b[0m\u001b[0;34m\u001b[0m\u001b[0;34m\u001b[0m\u001b[0m\n",
            "\u001b[0;31mNameError\u001b[0m: name 'embedding_matrix' is not defined"
          ]
        }
      ]
    },
    {
      "cell_type": "code",
      "metadata": {
        "id": "jztpD6ZfiUL2"
      },
      "source": [
        "model.compile?"
      ],
      "execution_count": null,
      "outputs": []
    },
    {
      "cell_type": "markdown",
      "metadata": {
        "id": "BSai4Osyw7na"
      },
      "source": [
        "#FIT DATA ON MODEL"
      ]
    },
    {
      "cell_type": "code",
      "metadata": {
        "colab": {
          "background_save": true,
          "base_uri": "https://localhost:8080/"
        },
        "id": "-cZHrONfw2It",
        "outputId": "6c9ead67-b6dd-4081-fa3d-a567bbfc70e3"
      },
      "source": [
        "batch_size = 32\n",
        "history = model.fit(X_train, Y_train, validation_data=(X_test, Y_test), shuffle = True,  epochs = 70, batch_size= 50, verbose = 2)"
      ],
      "execution_count": null,
      "outputs": [
        {
          "output_type": "stream",
          "text": [
            "Epoch 1/70\n",
            "5/5 - 3s - loss: 1.0803 - accuracy: 0.4026 - val_loss: 1.0111 - val_accuracy: 0.5657\n",
            "Epoch 2/70\n",
            "5/5 - 0s - loss: 0.9760 - accuracy: 0.5584 - val_loss: 0.9180 - val_accuracy: 0.6465\n",
            "Epoch 3/70\n",
            "5/5 - 0s - loss: 0.8739 - accuracy: 0.6667 - val_loss: 0.8257 - val_accuracy: 0.6869\n",
            "Epoch 4/70\n",
            "5/5 - 0s - loss: 0.8197 - accuracy: 0.6970 - val_loss: 0.7337 - val_accuracy: 0.7071\n",
            "Epoch 5/70\n",
            "5/5 - 0s - loss: 0.7311 - accuracy: 0.7662 - val_loss: 0.6753 - val_accuracy: 0.6970\n",
            "Epoch 6/70\n",
            "5/5 - 0s - loss: 0.6831 - accuracy: 0.7316 - val_loss: 0.6588 - val_accuracy: 0.7273\n",
            "Epoch 7/70\n",
            "5/5 - 0s - loss: 0.6465 - accuracy: 0.7359 - val_loss: 0.6076 - val_accuracy: 0.7374\n",
            "Epoch 8/70\n",
            "5/5 - 0s - loss: 0.6070 - accuracy: 0.7403 - val_loss: 0.5932 - val_accuracy: 0.7374\n",
            "Epoch 9/70\n",
            "5/5 - 0s - loss: 0.6115 - accuracy: 0.7229 - val_loss: 0.5707 - val_accuracy: 0.7374\n",
            "Epoch 10/70\n",
            "5/5 - 0s - loss: 0.5552 - accuracy: 0.7619 - val_loss: 0.5529 - val_accuracy: 0.7677\n",
            "Epoch 11/70\n",
            "5/5 - 0s - loss: 0.5602 - accuracy: 0.7662 - val_loss: 0.5225 - val_accuracy: 0.7778\n",
            "Epoch 12/70\n",
            "5/5 - 0s - loss: 0.5229 - accuracy: 0.7792 - val_loss: 0.5105 - val_accuracy: 0.7879\n",
            "Epoch 13/70\n",
            "5/5 - 0s - loss: 0.5149 - accuracy: 0.8052 - val_loss: 0.5739 - val_accuracy: 0.7374\n",
            "Epoch 14/70\n",
            "5/5 - 0s - loss: 0.4535 - accuracy: 0.8225 - val_loss: 0.5355 - val_accuracy: 0.7778\n",
            "Epoch 15/70\n",
            "5/5 - 0s - loss: 0.5054 - accuracy: 0.7749 - val_loss: 0.5236 - val_accuracy: 0.7778\n",
            "Epoch 16/70\n",
            "5/5 - 0s - loss: 0.4818 - accuracy: 0.8009 - val_loss: 0.5547 - val_accuracy: 0.7576\n",
            "Epoch 17/70\n",
            "5/5 - 0s - loss: 0.4413 - accuracy: 0.8052 - val_loss: 0.5986 - val_accuracy: 0.7172\n",
            "Epoch 18/70\n",
            "5/5 - 0s - loss: 0.4264 - accuracy: 0.8312 - val_loss: 0.5517 - val_accuracy: 0.7879\n",
            "Epoch 19/70\n",
            "5/5 - 0s - loss: 0.4726 - accuracy: 0.8052 - val_loss: 0.5655 - val_accuracy: 0.7778\n",
            "Epoch 20/70\n",
            "5/5 - 0s - loss: 0.4402 - accuracy: 0.8485 - val_loss: 0.6290 - val_accuracy: 0.7475\n",
            "Epoch 21/70\n",
            "5/5 - 0s - loss: 0.4475 - accuracy: 0.8225 - val_loss: 0.5752 - val_accuracy: 0.7576\n",
            "Epoch 22/70\n",
            "5/5 - 0s - loss: 0.4338 - accuracy: 0.8095 - val_loss: 0.5648 - val_accuracy: 0.7576\n",
            "Epoch 23/70\n",
            "5/5 - 0s - loss: 0.3576 - accuracy: 0.8745 - val_loss: 0.5779 - val_accuracy: 0.7475\n",
            "Epoch 24/70\n",
            "5/5 - 0s - loss: 0.3871 - accuracy: 0.8528 - val_loss: 0.6068 - val_accuracy: 0.7576\n",
            "Epoch 25/70\n",
            "5/5 - 0s - loss: 0.3705 - accuracy: 0.8485 - val_loss: 0.6664 - val_accuracy: 0.6869\n",
            "Epoch 26/70\n",
            "5/5 - 0s - loss: 0.3393 - accuracy: 0.8831 - val_loss: 0.5690 - val_accuracy: 0.7273\n",
            "Epoch 27/70\n",
            "5/5 - 0s - loss: 0.4233 - accuracy: 0.8225 - val_loss: 0.5628 - val_accuracy: 0.7172\n",
            "Epoch 28/70\n",
            "5/5 - 0s - loss: 0.3726 - accuracy: 0.8355 - val_loss: 0.7120 - val_accuracy: 0.6667\n",
            "Epoch 29/70\n",
            "5/5 - 0s - loss: 0.3725 - accuracy: 0.8528 - val_loss: 0.5813 - val_accuracy: 0.7475\n",
            "Epoch 30/70\n",
            "5/5 - 0s - loss: 0.3094 - accuracy: 0.8745 - val_loss: 0.5507 - val_accuracy: 0.7475\n",
            "Epoch 31/70\n",
            "5/5 - 0s - loss: 0.4166 - accuracy: 0.8139 - val_loss: 0.5601 - val_accuracy: 0.7778\n",
            "Epoch 32/70\n",
            "5/5 - 0s - loss: 0.3314 - accuracy: 0.8961 - val_loss: 0.6566 - val_accuracy: 0.7374\n",
            "Epoch 33/70\n",
            "5/5 - 0s - loss: 0.3514 - accuracy: 0.8874 - val_loss: 0.5857 - val_accuracy: 0.7677\n",
            "Epoch 34/70\n",
            "5/5 - 0s - loss: 0.3036 - accuracy: 0.8918 - val_loss: 0.5862 - val_accuracy: 0.7475\n",
            "Epoch 35/70\n",
            "5/5 - 0s - loss: 0.2818 - accuracy: 0.8831 - val_loss: 0.5946 - val_accuracy: 0.7273\n",
            "Epoch 36/70\n",
            "5/5 - 0s - loss: 0.3117 - accuracy: 0.8788 - val_loss: 0.5951 - val_accuracy: 0.7374\n",
            "Epoch 37/70\n",
            "5/5 - 0s - loss: 0.2629 - accuracy: 0.8831 - val_loss: 0.6092 - val_accuracy: 0.7475\n",
            "Epoch 38/70\n",
            "5/5 - 0s - loss: 0.2759 - accuracy: 0.8874 - val_loss: 0.6061 - val_accuracy: 0.7374\n",
            "Epoch 39/70\n",
            "5/5 - 0s - loss: 0.3338 - accuracy: 0.8831 - val_loss: 0.6062 - val_accuracy: 0.7576\n",
            "Epoch 40/70\n",
            "5/5 - 0s - loss: 0.2634 - accuracy: 0.8961 - val_loss: 0.6168 - val_accuracy: 0.7475\n",
            "Epoch 41/70\n",
            "5/5 - 0s - loss: 0.2560 - accuracy: 0.9048 - val_loss: 0.6464 - val_accuracy: 0.7475\n",
            "Epoch 42/70\n",
            "5/5 - 0s - loss: 0.2387 - accuracy: 0.9307 - val_loss: 0.6136 - val_accuracy: 0.7576\n",
            "Epoch 43/70\n",
            "5/5 - 0s - loss: 0.2666 - accuracy: 0.8961 - val_loss: 0.6542 - val_accuracy: 0.7778\n",
            "Epoch 44/70\n",
            "5/5 - 0s - loss: 0.2525 - accuracy: 0.9177 - val_loss: 0.7104 - val_accuracy: 0.7273\n",
            "Epoch 45/70\n",
            "5/5 - 0s - loss: 0.2841 - accuracy: 0.8961 - val_loss: 0.6784 - val_accuracy: 0.7475\n",
            "Epoch 46/70\n",
            "5/5 - 0s - loss: 0.2504 - accuracy: 0.9004 - val_loss: 0.6748 - val_accuracy: 0.7172\n",
            "Epoch 47/70\n",
            "5/5 - 0s - loss: 0.2800 - accuracy: 0.8701 - val_loss: 0.6924 - val_accuracy: 0.7374\n",
            "Epoch 48/70\n",
            "5/5 - 0s - loss: 0.2709 - accuracy: 0.8831 - val_loss: 0.7576 - val_accuracy: 0.7071\n",
            "Epoch 49/70\n",
            "5/5 - 0s - loss: 0.2165 - accuracy: 0.9221 - val_loss: 0.6844 - val_accuracy: 0.7273\n",
            "Epoch 50/70\n",
            "5/5 - 0s - loss: 0.2102 - accuracy: 0.9264 - val_loss: 0.6460 - val_accuracy: 0.7374\n",
            "Epoch 51/70\n",
            "5/5 - 0s - loss: 0.1809 - accuracy: 0.9481 - val_loss: 0.6426 - val_accuracy: 0.7172\n",
            "Epoch 52/70\n",
            "5/5 - 0s - loss: 0.1658 - accuracy: 0.9567 - val_loss: 0.6939 - val_accuracy: 0.7374\n",
            "Epoch 53/70\n",
            "5/5 - 0s - loss: 0.1696 - accuracy: 0.9481 - val_loss: 0.7355 - val_accuracy: 0.7273\n",
            "Epoch 54/70\n",
            "5/5 - 0s - loss: 0.2111 - accuracy: 0.9307 - val_loss: 0.7044 - val_accuracy: 0.7172\n",
            "Epoch 55/70\n",
            "5/5 - 0s - loss: 0.2557 - accuracy: 0.8961 - val_loss: 0.7052 - val_accuracy: 0.7071\n",
            "Epoch 56/70\n",
            "5/5 - 0s - loss: 0.1540 - accuracy: 0.9437 - val_loss: 0.7259 - val_accuracy: 0.7172\n",
            "Epoch 57/70\n",
            "5/5 - 0s - loss: 0.1898 - accuracy: 0.9264 - val_loss: 0.7132 - val_accuracy: 0.6970\n",
            "Epoch 58/70\n",
            "5/5 - 0s - loss: 0.1843 - accuracy: 0.9351 - val_loss: 0.7392 - val_accuracy: 0.6970\n",
            "Epoch 59/70\n",
            "5/5 - 0s - loss: 0.1836 - accuracy: 0.9437 - val_loss: 0.7303 - val_accuracy: 0.7273\n",
            "Epoch 60/70\n",
            "5/5 - 0s - loss: 0.1590 - accuracy: 0.9481 - val_loss: 0.6952 - val_accuracy: 0.6970\n",
            "Epoch 61/70\n",
            "5/5 - 0s - loss: 0.1858 - accuracy: 0.9351 - val_loss: 0.8160 - val_accuracy: 0.7273\n",
            "Epoch 62/70\n",
            "5/5 - 0s - loss: 0.1898 - accuracy: 0.9221 - val_loss: 0.8516 - val_accuracy: 0.7172\n",
            "Epoch 63/70\n",
            "5/5 - 0s - loss: 0.2561 - accuracy: 0.8918 - val_loss: 0.6844 - val_accuracy: 0.7071\n",
            "Epoch 64/70\n",
            "5/5 - 0s - loss: 0.1727 - accuracy: 0.9437 - val_loss: 0.6897 - val_accuracy: 0.6970\n",
            "Epoch 65/70\n",
            "5/5 - 0s - loss: 0.1313 - accuracy: 0.9481 - val_loss: 0.8046 - val_accuracy: 0.7172\n",
            "Epoch 66/70\n",
            "5/5 - 0s - loss: 0.1346 - accuracy: 0.9524 - val_loss: 0.7628 - val_accuracy: 0.7374\n",
            "Epoch 67/70\n",
            "5/5 - 0s - loss: 0.1745 - accuracy: 0.9264 - val_loss: 0.7048 - val_accuracy: 0.6869\n",
            "Epoch 68/70\n",
            "5/5 - 0s - loss: 0.1465 - accuracy: 0.9437 - val_loss: 0.6921 - val_accuracy: 0.7273\n",
            "Epoch 69/70\n",
            "5/5 - 0s - loss: 0.1221 - accuracy: 0.9610 - val_loss: 0.7145 - val_accuracy: 0.7172\n",
            "Epoch 70/70\n",
            "5/5 - 0s - loss: 0.1490 - accuracy: 0.9567 - val_loss: 0.7325 - val_accuracy: 0.7273\n"
          ],
          "name": "stdout"
        }
      ]
    },
    {
      "cell_type": "markdown",
      "metadata": {
        "id": "63R_fR2mhRqe"
      },
      "source": [
        "# MODEL EVALUATION"
      ]
    },
    {
      "cell_type": "code",
      "metadata": {
        "colab": {
          "background_save": true,
          "base_uri": "https://localhost:8080/",
          "height": 573
        },
        "id": "4G9GXJBzw9ph",
        "outputId": "90643d39-b3c5-41db-c25a-c28fa86f0e1b"
      },
      "source": [
        "plt.plot(history.history['accuracy'])\n",
        "plt.plot(history.history['val_accuracy'])\n",
        "\n",
        "plt.title('model accuracy')\n",
        "plt.ylabel('accuracy')\n",
        "plt.xlabel('epoch')\n",
        "plt.legend(['train','test'], loc='upper left')\n",
        "plt.show()\n",
        "\n",
        "plt.plot(history.history['loss'])\n",
        "plt.plot(history.history['val_loss'])\n",
        "\n",
        "plt.title('model loss')\n",
        "plt.ylabel('loss')\n",
        "plt.xlabel('epoch')\n",
        "plt.legend(['train','test'], loc='upper left')\n",
        "plt.show()"
      ],
      "execution_count": null,
      "outputs": [
        {
          "output_type": "display_data",
          "data": {
            "image/png": "[encoded data removed]",
            "text/plain": [
              "<Figure size 432x288 with 1 Axes>"
            ]
          },
          "metadata": {
            "tags": []
          }
        },
        {
          "output_type": "display_data",
          "data": {
            "image/png": "[encoded data removed]",
            "text/plain": [
              "<Figure size 432x288 with 1 Axes>"
            ]
          },
          "metadata": {
            "tags": []
          }
        }
      ]
    },
    {
      "cell_type": "code",
      "metadata": {
        "colab": {
          "background_save": true
        },
        "id": "7Cukx-Szxmf2"
      },
      "source": [
        "# print(metrics.classification_report (Y_test, np.argmax(Y_pred, axis = 1),zero_division=1,target_names=np.unique(encoder.inverse_transform(Y_test))))"
      ],
      "execution_count": null,
      "outputs": []
    },
    {
      "cell_type": "code",
      "metadata": {
        "colab": {
          "background_save": true
        },
        "id": "2A8tmViQyJv6"
      },
      "source": [
        "Y_pred = model.predict(X_test, verbose=0)\n",
        "#Y_pred"
      ],
      "execution_count": null,
      "outputs": []
    },
    {
      "cell_type": "code",
      "metadata": {
        "colab": {
          "background_save": true
        },
        "id": "BmyvwnfNyS93"
      },
      "source": [
        "predictions = []\n",
        "for i in range (len(Y_pred)):\n",
        "  for j in range (3):\n",
        "      if (Y_pred[i][j] == Y_pred[i].max()):\n",
        "        predictions.append(j)\n",
        "predictions = np.array(predictions)"
      ],
      "execution_count": null,
      "outputs": []
    },
    {
      "cell_type": "code",
      "metadata": {
        "colab": {
          "background_save": true,
          "base_uri": "https://localhost:8080/"
        },
        "id": "2Ga0XBkFzjOn",
        "outputId": "594416a0-fd68-4e7c-aece-be901ec006c3"
      },
      "source": [
        "print(Y_test)\n",
        "print(predictions)"
      ],
      "execution_count": null,
      "outputs": [
        {
          "output_type": "stream",
          "text": [
            "[1 1 2 1 1 2 1 2 0 2 0 2 2 1 0 2 1 0 0 2 0 2 0 0 2 2 1 2 2 0 2 1 1 0 1 1 2\n",
            " 2 2 2 2 2 0 0 0 0 0 0 0 0 0 0 2 1 1 0 2 0 1 1 2 1 2 0 0 1 0 1 1 1 0 0 0 0\n",
            " 1 1 1 2 1 2 2 1 0 0 0 0 1 0 0 2 0 2 0 0 1 2 1 1 2]\n",
            "[2 1 2 1 1 2 2 0 0 2 2 2 2 1 0 2 1 1 0 2 1 1 0 0 1 2 1 2 2 0 2 0 2 1 0 1 2\n",
            " 2 1 2 2 2 1 2 0 0 0 0 0 0 0 2 1 2 1 0 1 0 1 0 2 1 1 0 1 1 0 1 2 0 0 0 0 0\n",
            " 1 1 1 2 1 2 1 1 0 0 0 0 0 0 0 2 0 2 0 0 1 2 1 0 2]\n"
          ],
          "name": "stdout"
        }
      ]
    },
    {
      "cell_type": "code",
      "metadata": {
        "colab": {
          "background_save": true,
          "base_uri": "https://localhost:8080/"
        },
        "id": "8aqGtRDJ4pzb",
        "outputId": "410af453-e23c-4d69-b83d-bfee5994b3db"
      },
      "source": [
        "length = len(Y_test)\n",
        "count = 0\n",
        "for x in range(length):\n",
        "  if predictions[x] == Y_test[x]:\n",
        "    count += 1\n",
        "print(\"Accuracy: {} %\".format(count/length * 100))"
      ],
      "execution_count": null,
      "outputs": [
        {
          "output_type": "stream",
          "text": [
            "Accuracy: 72.72727272727273 %\n"
          ],
          "name": "stdout"
        }
      ]
    },
    {
      "cell_type": "code",
      "metadata": {
        "colab": {
          "background_save": true
        },
        "id": "yJ0xDRLjDKdP"
      },
      "source": [
        "thresholds = []\n",
        "flag = 0\n",
        "for i in range (len(Y_pred)):\n",
        "  for j in range (3):\n",
        "      if (Y_pred[i][j] >= 0.7):\n",
        "        thresholds.append(j)\n",
        "        flag = 1\n",
        "      \n",
        "  if (flag==0):\n",
        "    thresholds.append(9)\n",
        "  flag = 0\n",
        "thresholds = np.array(thresholds)"
      ],
      "execution_count": null,
      "outputs": []
    },
    {
      "cell_type": "code",
      "metadata": {
        "colab": {
          "background_save": true,
          "base_uri": "https://localhost:8080/"
        },
        "id": "u8S5zo2kY_zp",
        "outputId": "745c023e-0d5c-4017-fd3f-dde467a3aa94"
      },
      "source": [
        "print(Y_test)\n",
        "print(thresholds)"
      ],
      "execution_count": null,
      "outputs": [
        {
          "output_type": "stream",
          "text": [
            "[1 1 2 1 1 2 1 2 0 2 0 2 2 1 0 2 1 0 0 2 0 2 0 0 2 2 1 2 2 0 2 1 1 0 1 1 2\n",
            " 2 2 2 2 2 0 0 0 0 0 0 0 0 0 0 2 1 1 0 2 0 1 1 2 1 2 0 0 1 0 1 1 1 0 0 0 0\n",
            " 1 1 1 2 1 2 2 1 0 0 0 0 1 0 0 2 0 2 0 0 1 2 1 1 2]\n",
            "[2 1 2 1 1 2 9 9 9 2 2 2 2 1 0 2 9 1 0 2 1 1 0 0 1 9 9 2 2 0 2 0 2 1 9 1 2\n",
            " 2 1 9 9 2 1 2 9 0 0 0 0 0 0 2 1 9 1 9 1 0 1 9 2 9 9 0 9 1 0 1 9 9 0 0 0 0\n",
            " 1 1 1 2 1 2 1 1 0 0 0 0 9 0 0 2 0 9 0 0 1 9 1 0 2]\n"
          ],
          "name": "stdout"
        }
      ]
    },
    {
      "cell_type": "markdown",
      "metadata": {
        "id": "GUDuST1nOQVY"
      },
      "source": [
        "#LSTM NEW"
      ]
    },
    {
      "cell_type": "code",
      "metadata": {
        "colab": {
          "base_uri": "https://localhost:8080/",
          "height": 173
        },
        "id": "rskToolFvlo2",
        "outputId": "685b5423-aa74-4e3f-d524-75b84809b7de"
      },
      "source": [
        "all_words = get_all_words(df)"
      ],
      "execution_count": null,
      "outputs": [
        {
          "output_type": "error",
          "ename": "NameError",
          "evalue": "ignored",
          "traceback": [
            "\u001b[0;31m---------------------------------------------------------------------------\u001b[0m",
            "\u001b[0;31mNameError\u001b[0m                                 Traceback (most recent call last)",
            "\u001b[0;32m<ipython-input-24-ba5e7f8e8dcb>\u001b[0m in \u001b[0;36m<module>\u001b[0;34m()\u001b[0m\n\u001b[0;32m----> 1\u001b[0;31m \u001b[0mall_words\u001b[0m \u001b[0;34m=\u001b[0m \u001b[0mget_all_words\u001b[0m\u001b[0;34m(\u001b[0m\u001b[0mdf\u001b[0m\u001b[0;34m)\u001b[0m\u001b[0;34m\u001b[0m\u001b[0;34m\u001b[0m\u001b[0m\n\u001b[0m",
            "\u001b[0;31mNameError\u001b[0m: name 'df' is not defined"
          ]
        }
      ]
    },
    {
      "cell_type": "code",
      "metadata": {
        "colab": {
          "base_uri": "https://localhost:8080/"
        },
        "id": "1guhpxMtwT_0",
        "outputId": "e8f424e4-6694-4fe6-c115-43567f264f91"
      },
      "source": [
        "df.shape"
      ],
      "execution_count": null,
      "outputs": [
        {
          "output_type": "execute_result",
          "data": {
            "text/plain": [
              "(614, 2)"
            ]
          },
          "metadata": {
            "tags": []
          },
          "execution_count": 41
        }
      ]
    },
    {
      "cell_type": "code",
      "metadata": {
        "colab": {
          "base_uri": "https://localhost:8080/",
          "height": 210
        },
        "id": "6HYhkH0_TJks",
        "outputId": "971b3b19-0239-4acd-e254-b6f6d878577c"
      },
      "source": [
        "df.head()"
      ],
      "execution_count": null,
      "outputs": [
        {
          "output_type": "execute_result",
          "data": {
            "text/html": [
              "<div>\n",
              "<style scoped>\n",
              "    .dataframe tbody tr th:only-of-type {\n",
              "        vertical-align: middle;\n",
              "    }\n",
              "\n",
              "    .dataframe tbody tr th {\n",
              "        vertical-align: top;\n",
              "    }\n",
              "\n",
              "    .dataframe thead th {\n",
              "        text-align: right;\n",
              "    }\n",
              "</style>\n",
              "<table border=\"1\" class=\"dataframe\">\n",
              "  <thead>\n",
              "    <tr style=\"text-align: right;\">\n",
              "      <th></th>\n",
              "      <th>text</th>\n",
              "      <th>labels</th>\n",
              "    </tr>\n",
              "  </thead>\n",
              "  <tbody>\n",
              "    <tr>\n",
              "      <th>0</th>\n",
              "      <td>turn around bitch get use</td>\n",
              "      <td>misogyny</td>\n",
              "    </tr>\n",
              "    <tr>\n",
              "      <th>1</th>\n",
              "      <td>annies twelve year old two shell whore</td>\n",
              "      <td>misogyny</td>\n",
              "    </tr>\n",
              "    <tr>\n",
              "      <th>2</th>\n",
              "      <td>seven horny brother drunkass dad</td>\n",
              "      <td>misogyny</td>\n",
              "    </tr>\n",
              "    <tr>\n",
              "      <th>3</th>\n",
              "      <td>psychic tell shell like serena</td>\n",
              "      <td>misogyny</td>\n",
              "    </tr>\n",
              "    <tr>\n",
              "      <th>4</th>\n",
              "      <td>fuckin girl better pay</td>\n",
              "      <td>misogyny</td>\n",
              "    </tr>\n",
              "  </tbody>\n",
              "</table>\n",
              "</div>"
            ],
            "text/plain": [
              "                                       text    labels\n",
              "0                turn around bitch get use   misogyny\n",
              "1   annies twelve year old two shell whore   misogyny\n",
              "2         seven horny brother drunkass dad   misogyny\n",
              "3           psychic tell shell like serena   misogyny\n",
              "4                   fuckin girl better pay   misogyny"
            ]
          },
          "metadata": {
            "tags": []
          },
          "execution_count": 42
        }
      ]
    },
    {
      "cell_type": "code",
      "metadata": {
        "id": "VKkkKmxiOTmm"
      },
      "source": [
        "# vocab_size = len(set(all_words)) \n",
        "# tokenizer = tf.keras.preprocessing.text.Tokenizer(num_words=vocab_size)\n",
        "# tokenizer.fit_on_texts(df['text'])\n",
        "\n",
        "# train_inputs = tokenizer.texts_to_sequences(df['text'])\n",
        "\n",
        "vocab_size = len(set(all_words))\n",
        "tokenizer = tf.keras.preprocessing.text.Tokenizer(num_words=vocab_size)\n",
        "tokenizer.fit_on_texts(df['text'])\n",
        "\n",
        "X = tokenizer.texts_to_sequences(df['text'])\n",
        "X = pad_sequences(X, maxlen = 15)\n",
        "y = np.asarray(df['text'])\n"
      ],
      "execution_count": null,
      "outputs": []
    },
    {
      "cell_type": "code",
      "metadata": {
        "colab": {
          "base_uri": "https://localhost:8080/"
        },
        "id": "fhHfl7DSOjWi",
        "outputId": "ac24b1fc-12b7-41e9-c369-6fe0a347b848"
      },
      "source": [
        "# X = tokenizer.texts_to_sequences(df['text'])\n",
        "# X = pad_sequences(X, maxlen = 15)\n",
        "# y = np.asarray(df['text'])\n",
        "\n",
        "print(\"Number of Samples:\", len(X))\n",
        "print(X[8])\n",
        "print(\"Number of Labels: \", len(y))\n",
        "print(y[8])"
      ],
      "execution_count": null,
      "outputs": [
        {
          "output_type": "stream",
          "text": [
            "Number of Samples: 614\n",
            "[  0   0   0   0   0   0   0   0   0   0   0   0   2   6 384]\n",
            "Number of Labels:  614\n",
            " bitch fuck tuesday \n"
          ],
          "name": "stdout"
        }
      ]
    },
    {
      "cell_type": "code",
      "metadata": {
        "colab": {
          "base_uri": "https://localhost:8080/"
        },
        "id": "UbR-Yhz_uFzq",
        "outputId": "5caac709-16eb-4550-c985-e453ad446d0c"
      },
      "source": [
        "encoder = preprocessing.LabelEncoder()\n",
        "Y = encoder.fit_transform(df['labels'])\n",
        "labelclasses = [0,1,2]\n",
        "actual = encoder.inverse_transform(labelclasses)\n",
        "print('The labels or each class are as follows:')\n",
        "for i in labelclasses:\n",
        "  print(labelclasses[i], actual[i])"
      ],
      "execution_count": null,
      "outputs": [
        {
          "output_type": "stream",
          "text": [
            "The labels or each class are as follows:\n",
            "0 drugs\n",
            "1 misogyny\n",
            "2 violence\n"
          ],
          "name": "stdout"
        }
      ]
    },
    {
      "cell_type": "code",
      "metadata": {
        "colab": {
          "base_uri": "https://localhost:8080/"
        },
        "id": "_lpwlqKwOjpq",
        "outputId": "93463cad-1061-49d9-e165-c311c285f8ec"
      },
      "source": [
        "X_train, X_test, Y_train, Y_test = train_test_split(X,Y, test_size = 0.30)\n",
        "print(X_train.shape,Y_train.shape)\n",
        "print(X_test.shape,Y_test.shape)"
      ],
      "execution_count": null,
      "outputs": [
        {
          "output_type": "stream",
          "text": [
            "(429, 15) (429,)\n",
            "(185, 15) (185,)\n"
          ],
          "name": "stdout"
        }
      ]
    },
    {
      "cell_type": "code",
      "metadata": {
        "colab": {
          "base_uri": "https://localhost:8080/"
        },
        "id": "shRnKMv_PECS",
        "outputId": "536c545e-e4b1-4b69-fc0f-561109667891"
      },
      "source": [
        "Embedding(len(set(all_words)) , 32, input_length=15)"
      ],
      "execution_count": null,
      "outputs": [
        {
          "output_type": "execute_result",
          "data": {
            "text/plain": [
              "<tensorflow.python.keras.layers.embeddings.Embedding at 0x7f498520d790>"
            ]
          },
          "metadata": {
            "tags": []
          },
          "execution_count": 49
        }
      ]
    },
    {
      "cell_type": "code",
      "metadata": {
        "colab": {
          "base_uri": "https://localhost:8080/"
        },
        "id": "uSoi8PEsPEGd",
        "outputId": "6294c3d3-2e2b-444f-f356-487782452951"
      },
      "source": [
        "embed_dim = 128\n",
        "lstm_out = 196\n",
        "\n",
        "model = Sequential()\n",
        "model.add(Embedding(vocab_size, embed_dim,input_length = 15))\n",
        "model.add(SpatialDropout1D(0.4))\n",
        "model.add(LSTM(lstm_out, dropout=0.2, recurrent_dropout=0.2))\n",
        "model.add(Dense(3,activation='softmax'))\n",
        "model.compile(loss = 'sparse_categorical_crossentropy', optimizer='adam',metrics = ['accuracy'])\n",
        "print(model.summary())"
      ],
      "execution_count": null,
      "outputs": [
        {
          "output_type": "stream",
          "text": [
            "Model: \"sequential\"\n",
            "_________________________________________________________________\n",
            "Layer (type)                 Output Shape              Param #   \n",
            "=================================================================\n",
            "embedding_1 (Embedding)      (None, 15, 128)           130688    \n",
            "_________________________________________________________________\n",
            "spatial_dropout1d (SpatialDr (None, 15, 128)           0         \n",
            "_________________________________________________________________\n",
            "lstm (LSTM)                  (None, 196)               254800    \n",
            "_________________________________________________________________\n",
            "dense (Dense)                (None, 3)                 591       \n",
            "=================================================================\n",
            "Total params: 386,079\n",
            "Trainable params: 386,079\n",
            "Non-trainable params: 0\n",
            "_________________________________________________________________\n",
            "None\n"
          ],
          "name": "stdout"
        }
      ]
    },
    {
      "cell_type": "code",
      "metadata": {
        "colab": {
          "base_uri": "https://localhost:8080/"
        },
        "id": "8lUW2INWPEQM",
        "outputId": "30ddb80e-ffaa-4d70-d1f9-4177a53a01b3"
      },
      "source": [
        "from keras.callbacks import ModelCheckpoint\n",
        "checkpoint = ModelCheckpoint(\"best_model2.hdf5\", monitor='val_accuracy',  verbose=1,\n",
        "    save_best_only=True, mode='max', period=1)\n"
      ],
      "execution_count": null,
      "outputs": [
        {
          "output_type": "stream",
          "text": [
            "WARNING:tensorflow:`period` argument is deprecated. Please use `save_freq` to specify the frequency in number of batches seen.\n"
          ],
          "name": "stdout"
        }
      ]
    },
    {
      "cell_type": "code",
      "metadata": {
        "colab": {
          "base_uri": "https://localhost:8080/"
        },
        "id": "KGeFKd_9PEXE",
        "outputId": "858164ad-75ef-4fbc-99e8-9a35ca9feb6a"
      },
      "source": [
        "batch_size = 32\n",
        "history = model.fit(X_train, Y_train, validation_data=(X_test, Y_test), epochs = 20, batch_size=batch_size, verbose = 2, callbacks=[checkpoint])"
      ],
      "execution_count": null,
      "outputs": [
        {
          "output_type": "stream",
          "text": [
            "Epoch 1/20\n",
            "14/14 - 6s - loss: 1.0977 - accuracy: 0.3473 - val_loss: 1.0854 - val_accuracy: 0.4324\n",
            "\n",
            "Epoch 00001: val_accuracy improved from -inf to 0.43243, saving model to best_model2.hdf5\n",
            "Epoch 2/20\n",
            "14/14 - 1s - loss: 1.0630 - accuracy: 0.5361 - val_loss: 1.0525 - val_accuracy: 0.5568\n",
            "\n",
            "Epoch 00002: val_accuracy improved from 0.43243 to 0.55676, saving model to best_model2.hdf5\n",
            "Epoch 3/20\n",
            "14/14 - 1s - loss: 0.9741 - accuracy: 0.7203 - val_loss: 0.9494 - val_accuracy: 0.6703\n",
            "\n",
            "Epoch 00003: val_accuracy improved from 0.55676 to 0.67027, saving model to best_model2.hdf5\n",
            "Epoch 4/20\n",
            "14/14 - 1s - loss: 0.7599 - accuracy: 0.7949 - val_loss: 0.7181 - val_accuracy: 0.7459\n",
            "\n",
            "Epoch 00004: val_accuracy improved from 0.67027 to 0.74595, saving model to best_model2.hdf5\n",
            "Epoch 5/20\n",
            "14/14 - 1s - loss: 0.4268 - accuracy: 0.8834 - val_loss: 0.5841 - val_accuracy: 0.8108\n",
            "\n",
            "Epoch 00005: val_accuracy improved from 0.74595 to 0.81081, saving model to best_model2.hdf5\n",
            "Epoch 6/20\n",
            "14/14 - 1s - loss: 0.2446 - accuracy: 0.9371 - val_loss: 0.5146 - val_accuracy: 0.8324\n",
            "\n",
            "Epoch 00006: val_accuracy improved from 0.81081 to 0.83243, saving model to best_model2.hdf5\n",
            "Epoch 7/20\n",
            "14/14 - 1s - loss: 0.1272 - accuracy: 0.9627 - val_loss: 0.4637 - val_accuracy: 0.8378\n",
            "\n",
            "Epoch 00007: val_accuracy improved from 0.83243 to 0.83784, saving model to best_model2.hdf5\n",
            "Epoch 8/20\n",
            "14/14 - 1s - loss: 0.0973 - accuracy: 0.9814 - val_loss: 0.4970 - val_accuracy: 0.8486\n",
            "\n",
            "Epoch 00008: val_accuracy improved from 0.83784 to 0.84865, saving model to best_model2.hdf5\n",
            "Epoch 9/20\n",
            "14/14 - 1s - loss: 0.0674 - accuracy: 0.9814 - val_loss: 0.4595 - val_accuracy: 0.8541\n",
            "\n",
            "Epoch 00009: val_accuracy improved from 0.84865 to 0.85405, saving model to best_model2.hdf5\n",
            "Epoch 10/20\n",
            "14/14 - 1s - loss: 0.0494 - accuracy: 0.9953 - val_loss: 0.5892 - val_accuracy: 0.8541\n",
            "\n",
            "Epoch 00010: val_accuracy did not improve from 0.85405\n",
            "Epoch 11/20\n",
            "14/14 - 1s - loss: 0.0303 - accuracy: 0.9953 - val_loss: 0.5585 - val_accuracy: 0.8703\n",
            "\n",
            "Epoch 00011: val_accuracy improved from 0.85405 to 0.87027, saving model to best_model2.hdf5\n",
            "Epoch 12/20\n",
            "14/14 - 1s - loss: 0.0155 - accuracy: 1.0000 - val_loss: 0.5112 - val_accuracy: 0.8595\n",
            "\n",
            "Epoch 00012: val_accuracy did not improve from 0.87027\n",
            "Epoch 13/20\n",
            "14/14 - 1s - loss: 0.0124 - accuracy: 0.9977 - val_loss: 0.6198 - val_accuracy: 0.8270\n",
            "\n",
            "Epoch 00013: val_accuracy did not improve from 0.87027\n",
            "Epoch 14/20\n",
            "14/14 - 1s - loss: 0.0153 - accuracy: 1.0000 - val_loss: 0.5391 - val_accuracy: 0.8541\n",
            "\n",
            "Epoch 00014: val_accuracy did not improve from 0.87027\n",
            "Epoch 15/20\n",
            "14/14 - 1s - loss: 0.0064 - accuracy: 1.0000 - val_loss: 0.6101 - val_accuracy: 0.8595\n",
            "\n",
            "Epoch 00015: val_accuracy did not improve from 0.87027\n",
            "Epoch 16/20\n",
            "14/14 - 1s - loss: 0.0087 - accuracy: 0.9977 - val_loss: 0.5762 - val_accuracy: 0.8649\n",
            "\n",
            "Epoch 00016: val_accuracy did not improve from 0.87027\n",
            "Epoch 17/20\n",
            "14/14 - 1s - loss: 0.0038 - accuracy: 1.0000 - val_loss: 0.6798 - val_accuracy: 0.8378\n",
            "\n",
            "Epoch 00017: val_accuracy did not improve from 0.87027\n",
            "Epoch 18/20\n",
            "14/14 - 1s - loss: 0.0044 - accuracy: 1.0000 - val_loss: 0.6184 - val_accuracy: 0.8595\n",
            "\n",
            "Epoch 00018: val_accuracy did not improve from 0.87027\n",
            "Epoch 19/20\n",
            "14/14 - 1s - loss: 0.0040 - accuracy: 0.9977 - val_loss: 0.7071 - val_accuracy: 0.8216\n",
            "\n",
            "Epoch 00019: val_accuracy did not improve from 0.87027\n",
            "Epoch 20/20\n",
            "14/14 - 1s - loss: 0.0046 - accuracy: 0.9977 - val_loss: 0.5983 - val_accuracy: 0.8595\n",
            "\n",
            "Epoch 00020: val_accuracy did not improve from 0.87027\n"
          ],
          "name": "stdout"
        }
      ]
    },
    {
      "cell_type": "code",
      "metadata": {
        "colab": {
          "base_uri": "https://localhost:8080/"
        },
        "id": "IY9N5ft9wdue",
        "outputId": "7e9003ef-c4b7-438e-8757-cdaf2e58e0c4"
      },
      "source": [
        "X.shape"
      ],
      "execution_count": null,
      "outputs": [
        {
          "output_type": "execute_result",
          "data": {
            "text/plain": [
              "(630, 15)"
            ]
          },
          "metadata": {
            "tags": []
          },
          "execution_count": 512
        }
      ]
    },
    {
      "cell_type": "markdown",
      "metadata": {
        "id": "JMPevk5oE50M"
      },
      "source": [
        "# Grid Search for LSTM"
      ]
    },
    {
      "cell_type": "code",
      "metadata": {
        "colab": {
          "background_save": true
        },
        "id": "K1x-r-NsLQt-"
      },
      "source": [
        "GridSearchCV?"
      ],
      "execution_count": null,
      "outputs": []
    },
    {
      "cell_type": "code",
      "metadata": {
        "colab": {
          "background_save": true
        },
        "id": "lGcv92BGE9od"
      },
      "source": [
        "# epochs = [30,50,100]\n",
        "# learn_rate = [0.01 , 0.03 , 0.09]\n",
        "# dropout_rate =[0.0, 0.1, 0.5, 0.9]\n",
        "\n",
        "# param_grid = dict(epochs=epochs, learn_rate = learn_rate , dropout_rate = dropout_rate)\n",
        "# grid = GridSearchCV(estimator=model , param_grid=param_grid , n_jobs=-1)\n",
        "# grid_result = grid.fit(X_train , Y_train)"
      ],
      "execution_count": null,
      "outputs": []
    },
    {
      "cell_type": "code",
      "metadata": {
        "colab": {
          "background_save": true,
          "base_uri": "https://localhost:8080/",
          "height": 398
        },
        "id": "j1rI9a6WMNfP",
        "outputId": "a611a8bb-aa58-4619-8901-eb56be809b36"
      },
      "source": [
        "from sklearn.metrics import fbeta_score, make_scorer\n",
        "ftwo_scorer = make_scorer(fbeta_score, beta=2)\n",
        "\n",
        "batch_size = [10, 20, 40, 60, 80, 100]\n",
        "epochs = [10, 50, 100]\n",
        "param_grid = dict(batch_size=batch_size, epochs=epochs)\n",
        "grid = GridSearchCV(estimator=model, param_grid=param_grid, n_jobs=-1, scoring=ftwo_scorer, cv=3)\n",
        "grid_result = grid.fit(X_train, Y_train)"
      ],
      "execution_count": null,
      "outputs": [
        {
          "output_type": "error",
          "ename": "TypeError",
          "evalue": "ignored",
          "traceback": [
            "\u001b[0;31m---------------------------------------------------------------------------\u001b[0m",
            "\u001b[0;31mTypeError\u001b[0m                                 Traceback (most recent call last)",
            "\u001b[0;32m<ipython-input-75-d8f4db494269>\u001b[0m in \u001b[0;36m<module>\u001b[0;34m()\u001b[0m\n\u001b[1;32m      6\u001b[0m \u001b[0mparam_grid\u001b[0m \u001b[0;34m=\u001b[0m \u001b[0mdict\u001b[0m\u001b[0;34m(\u001b[0m\u001b[0mbatch_size\u001b[0m\u001b[0;34m=\u001b[0m\u001b[0mbatch_size\u001b[0m\u001b[0;34m,\u001b[0m \u001b[0mepochs\u001b[0m\u001b[0;34m=\u001b[0m\u001b[0mepochs\u001b[0m\u001b[0;34m)\u001b[0m\u001b[0;34m\u001b[0m\u001b[0;34m\u001b[0m\u001b[0m\n\u001b[1;32m      7\u001b[0m \u001b[0mgrid\u001b[0m \u001b[0;34m=\u001b[0m \u001b[0mGridSearchCV\u001b[0m\u001b[0;34m(\u001b[0m\u001b[0mestimator\u001b[0m\u001b[0;34m=\u001b[0m\u001b[0mmodel\u001b[0m\u001b[0;34m,\u001b[0m \u001b[0mparam_grid\u001b[0m\u001b[0;34m=\u001b[0m\u001b[0mparam_grid\u001b[0m\u001b[0;34m,\u001b[0m \u001b[0mn_jobs\u001b[0m\u001b[0;34m=\u001b[0m\u001b[0;34m-\u001b[0m\u001b[0;36m1\u001b[0m\u001b[0;34m,\u001b[0m \u001b[0mscoring\u001b[0m\u001b[0;34m=\u001b[0m\u001b[0mftwo_scorer\u001b[0m\u001b[0;34m,\u001b[0m \u001b[0mcv\u001b[0m\u001b[0;34m=\u001b[0m\u001b[0;36m3\u001b[0m\u001b[0;34m)\u001b[0m\u001b[0;34m\u001b[0m\u001b[0;34m\u001b[0m\u001b[0m\n\u001b[0;32m----> 8\u001b[0;31m \u001b[0mgrid_result\u001b[0m \u001b[0;34m=\u001b[0m \u001b[0mgrid\u001b[0m\u001b[0;34m.\u001b[0m\u001b[0mfit\u001b[0m\u001b[0;34m(\u001b[0m\u001b[0mX_train\u001b[0m\u001b[0;34m,\u001b[0m \u001b[0mY_train\u001b[0m\u001b[0;34m)\u001b[0m\u001b[0;34m\u001b[0m\u001b[0;34m\u001b[0m\u001b[0m\n\u001b[0m",
            "\u001b[0;32m/usr/local/lib/python3.7/dist-packages/sklearn/model_selection/_search.py\u001b[0m in \u001b[0;36mfit\u001b[0;34m(self, X, y, groups, **fit_params)\u001b[0m\n\u001b[1;32m    653\u001b[0m         \u001b[0mn_splits\u001b[0m \u001b[0;34m=\u001b[0m \u001b[0mcv\u001b[0m\u001b[0;34m.\u001b[0m\u001b[0mget_n_splits\u001b[0m\u001b[0;34m(\u001b[0m\u001b[0mX\u001b[0m\u001b[0;34m,\u001b[0m \u001b[0my\u001b[0m\u001b[0;34m,\u001b[0m \u001b[0mgroups\u001b[0m\u001b[0;34m)\u001b[0m\u001b[0;34m\u001b[0m\u001b[0;34m\u001b[0m\u001b[0m\n\u001b[1;32m    654\u001b[0m \u001b[0;34m\u001b[0m\u001b[0m\n\u001b[0;32m--> 655\u001b[0;31m         \u001b[0mbase_estimator\u001b[0m \u001b[0;34m=\u001b[0m \u001b[0mclone\u001b[0m\u001b[0;34m(\u001b[0m\u001b[0mself\u001b[0m\u001b[0;34m.\u001b[0m\u001b[0mestimator\u001b[0m\u001b[0;34m)\u001b[0m\u001b[0;34m\u001b[0m\u001b[0;34m\u001b[0m\u001b[0m\n\u001b[0m\u001b[1;32m    656\u001b[0m \u001b[0;34m\u001b[0m\u001b[0m\n\u001b[1;32m    657\u001b[0m         parallel = Parallel(n_jobs=self.n_jobs, verbose=self.verbose,\n",
            "\u001b[0;32m/usr/local/lib/python3.7/dist-packages/sklearn/base.py\u001b[0m in \u001b[0;36mclone\u001b[0;34m(estimator, safe)\u001b[0m\n\u001b[1;32m     65\u001b[0m                             \u001b[0;34m\"it does not seem to be a scikit-learn estimator \"\u001b[0m\u001b[0;34m\u001b[0m\u001b[0;34m\u001b[0m\u001b[0m\n\u001b[1;32m     66\u001b[0m                             \u001b[0;34m\"as it does not implement a 'get_params' methods.\"\u001b[0m\u001b[0;34m\u001b[0m\u001b[0;34m\u001b[0m\u001b[0m\n\u001b[0;32m---> 67\u001b[0;31m                             % (repr(estimator), type(estimator)))\n\u001b[0m\u001b[1;32m     68\u001b[0m     \u001b[0mklass\u001b[0m \u001b[0;34m=\u001b[0m \u001b[0mestimator\u001b[0m\u001b[0;34m.\u001b[0m\u001b[0m__class__\u001b[0m\u001b[0;34m\u001b[0m\u001b[0;34m\u001b[0m\u001b[0m\n\u001b[1;32m     69\u001b[0m     \u001b[0mnew_object_params\u001b[0m \u001b[0;34m=\u001b[0m \u001b[0mestimator\u001b[0m\u001b[0;34m.\u001b[0m\u001b[0mget_params\u001b[0m\u001b[0;34m(\u001b[0m\u001b[0mdeep\u001b[0m\u001b[0;34m=\u001b[0m\u001b[0;32mFalse\u001b[0m\u001b[0;34m)\u001b[0m\u001b[0;34m\u001b[0m\u001b[0;34m\u001b[0m\u001b[0m\n",
            "\u001b[0;31mTypeError\u001b[0m: Cannot clone object '<tensorflow.python.keras.engine.sequential.Sequential object at 0x7f1f88908d50>' (type <class 'tensorflow.python.keras.engine.sequential.Sequential'>): it does not seem to be a scikit-learn estimator as it does not implement a 'get_params' methods."
          ]
        }
      ]
    },
    {
      "cell_type": "markdown",
      "metadata": {
        "id": "gxQl8G4-voJj"
      },
      "source": [
        "#REDEFINE MODEL AND TOKENIZER"
      ]
    },
    {
      "cell_type": "code",
      "metadata": {
        "colab": {
          "base_uri": "https://localhost:8080/"
        },
        "id": "MRy8ieIfdqE4",
        "outputId": "90b85597-82e3-4b9e-d811-a41b87a7a964"
      },
      "source": [
        "embed_dim = 128\n",
        "lstm_out = 196\n",
        "\n",
        "model = Sequential()\n",
        "model.add(Embedding(1021, embed_dim,input_length = 15))\n",
        "model.add(SpatialDropout1D(0.4))\n",
        "model.add(LSTM(lstm_out, dropout=0.2, recurrent_dropout=0.2))\n",
        "model.add(Dense(3,activation='softmax'))\n",
        "model.compile(loss = 'sparse_categorical_crossentropy', optimizer='adam',metrics = ['accuracy'])\n",
        "print(model.summary())\n",
        "\n",
        "model.load_weights(\"Working.hdf5\")"
      ],
      "execution_count": null,
      "outputs": [
        {
          "output_type": "stream",
          "text": [
            "Model: \"sequential\"\n",
            "_________________________________________________________________\n",
            "Layer (type)                 Output Shape              Param #   \n",
            "=================================================================\n",
            "embedding (Embedding)        (None, 15, 128)           130688    \n",
            "_________________________________________________________________\n",
            "spatial_dropout1d (SpatialDr (None, 15, 128)           0         \n",
            "_________________________________________________________________\n",
            "lstm (LSTM)                  (None, 196)               254800    \n",
            "_________________________________________________________________\n",
            "dense (Dense)                (None, 3)                 591       \n",
            "=================================================================\n",
            "Total params: 386,079\n",
            "Trainable params: 386,079\n",
            "Non-trainable params: 0\n",
            "_________________________________________________________________\n",
            "None\n"
          ],
          "name": "stdout"
        }
      ]
    },
    {
      "cell_type": "code",
      "metadata": {
        "id": "FsLMPPCIUI0Q"
      },
      "source": [
        "vocab_size = len(set(all_words))\n",
        "tokenizer = tf.keras.preprocessing.text.Tokenizer(num_words=vocab_size)\n",
        "tokenizer.fit_on_texts(df['text'])"
      ],
      "execution_count": null,
      "outputs": []
    },
    {
      "cell_type": "markdown",
      "metadata": {
        "id": "JTpeCxp43WlR"
      },
      "source": [
        "# MASS TESTING FUNCTIONS"
      ]
    },
    {
      "cell_type": "code",
      "metadata": {
        "id": "5Rgq-H-s3LoU"
      },
      "source": [
        "def importfortest(directory , filename): \n",
        "  path = directory + filename\n",
        "  \n",
        "  a_file = open(path, \"r\", encoding='utf8')\n",
        "  words = []\n",
        "  for line in a_file:\n",
        "      stripped_line = line.strip()\n",
        "      line_list = stripped_line\n",
        "      words.append(line_list)\n",
        "  a_file.close()\n",
        "  DF = pd.DataFrame()\n",
        "  \n",
        "  DF['text'] = words\n",
        "  return DF\n"
      ],
      "execution_count": null,
      "outputs": []
    },
    {
      "cell_type": "code",
      "metadata": {
        "id": "YEjKiMv18VWA"
      },
      "source": [
        "def findthresholds(Y_pred):\n",
        "  thresholds = []\n",
        "  flag = 0\n",
        "  for i in range (len(Y_pred)):\n",
        "    for j in range (3):\n",
        "        if (Y_pred[i][j] >= 0.8):\n",
        "          thresholds.append(j)\n",
        "          flag = 1\n",
        "        \n",
        "    if (flag==0):\n",
        "      thresholds.append(9)\n",
        "    flag = 0\n",
        "  thresholds = np.array(thresholds)\n",
        "  return thresholds"
      ],
      "execution_count": null,
      "outputs": []
    },
    {
      "cell_type": "code",
      "metadata": {
        "id": "K3WC0ZNHbz-2"
      },
      "source": [
        "# def findthresholds(Y_pred):\n",
        "\n",
        "#   Y_new = []\n",
        "#   flag = 0      #flag signifies whether 0.8+ probability is present or not\n",
        "\n",
        "#   for i in range(Y_pred.shape[0]):\n",
        "\n",
        "#     for j in range(Y_pred.shape[1]):\n",
        "\n",
        "#       if Y_pred[i][j] >= 0.8:\n",
        "#         flag = 1\n",
        "    \n",
        "#     if flag:\n",
        "#       Y_new.append(np.argmax(Y_pred[i]))\n",
        "#     else:\n",
        "#       Y_new.append(9)\n",
        "    \n",
        "#     flag = 0\n",
        "\n",
        "#   # print(Y_new)\n",
        "#   # print(Y_pred)\n",
        "\n",
        "#   return Y_new\n"
      ],
      "execution_count": null,
      "outputs": []
    },
    {
      "cell_type": "code",
      "metadata": {
        "id": "HsW7nIZ58rrp"
      },
      "source": [
        "def findpercentages(thresholds):\n",
        "    drugs = 0\n",
        "    miso = 0\n",
        "    violence = 0\n",
        "    count9 = 0\n",
        "    for i in thresholds:\n",
        "      if i == 0:\n",
        "        drugs+=1\n",
        "      elif i == 1: \n",
        "        miso+=1\n",
        "      elif i == 2:\n",
        "        violence+=1\n",
        "      elif i == 9:\n",
        "        count9+=1\n",
        "    total = drugs + miso + violence + count9\n",
        "    return (drugs/total)*100, (miso/total)*100, (violence/total)*100, (count9/total)*100"
      ],
      "execution_count": null,
      "outputs": []
    },
    {
      "cell_type": "markdown",
      "metadata": {
        "id": "OOPmNTTXt1n4"
      },
      "source": [
        "\n",
        "\n",
        "```\n",
        "# This is formatted as code\n",
        "```\n",
        "\n",
        "# OPEN THIS And run for new excel sheet"
      ]
    },
    {
      "cell_type": "code",
      "metadata": {
        "id": "hlTJn4B7tCak"
      },
      "source": [
        "allrecords = pd.DataFrame()"
      ],
      "execution_count": null,
      "outputs": []
    },
    {
      "cell_type": "code",
      "metadata": {
        "id": "Mg4CPIQ09lSW",
        "cellView": "form"
      },
      "source": [
        "#@title \n",
        "Year = 2013 #@param {type:\"integer\"}\n",
        "Enter_Again = \"2013\" #@param {type:\"string\"}\n"
      ],
      "execution_count": null,
      "outputs": []
    },
    {
      "cell_type": "markdown",
      "metadata": {
        "id": "NCAHJvSPvxuF"
      },
      "source": [
        "#PIPELINE (MASS TESTING)"
      ]
    },
    {
      "cell_type": "code",
      "metadata": {
        "id": "X1XvyHhc2H3z",
        "colab": {
          "base_uri": "https://localhost:8080/"
        },
        "outputId": "fbfeefa9-3491-4204-a6df-4f46283b3eaa"
      },
      "source": [
        "#FOR ACCEPTED AND WORDWISE TESTING\n",
        "import os\n",
        "\n",
        "directory = Enter_Again + \"/\"\n",
        "all_words = get_all_words(df)\n",
        "records = pd.DataFrame()\n",
        "drugpercentage = []\n",
        "violencepercentage = []\n",
        "misopercentage = []\n",
        "peacepercentage = []\n",
        "year = []\n",
        "song = []\n",
        "label = []\n",
        "miso_count = 0\n",
        "drug_count = 0\n",
        "vio_count = 0\n",
        "peace_count = 0\n",
        "year_wise = pd.DataFrame()\n",
        "\n",
        "for filename in os.listdir(directory):\n",
        "    \n",
        "    \n",
        "    if filename.endswith(\".txt\"): \n",
        "          testdf = importfortest(directory, filename)\n",
        "          testdf = removing_lines(testdf)\n",
        "          testdf = preprocess(testdf)\n",
        "       \n",
        "          test_all_words = get_all_wordstest(testdf)\n",
        "          all_words = get_all_words(df)\n",
        "\n",
        "                    \n",
        "          final_sen = []\n",
        "          for sentence in testdf['text']:\n",
        "            sentence = sentence.split(' ')\n",
        "            sentence1 = ''\n",
        "            for word in sentence:\n",
        "        \n",
        "              if word in all_words:\n",
        "                sentence1 = sentence1 + ' ' + word\n",
        "            \n",
        "            final_sen.append(sentence1)\n",
        "\n",
        "          X = tokenizer.texts_to_sequences(final_sen)\n",
        "          X = pad_sequences(X, maxlen = 15)\n",
        "          \n",
        "          Y_pred = model.predict(X, verbose=0)\n",
        "          thresholds = findthresholds(Y_pred)\n",
        "          drugs, miso, violence, peace = findpercentages(thresholds)\n",
        "          drugpercentage.append(drugs)\n",
        "          misopercentage.append(miso)\n",
        "          violencepercentage.append(violence)\n",
        "          peacepercentage.append(peace)\n",
        "          year.append(Year)\n",
        "          song.append(filename)\n",
        "\n",
        "\n",
        "          if peace > 60:\n",
        "\n",
        "              if miso>20:\n",
        "                label.append('Misogyny')\n",
        "                miso_count += 1\n",
        "\n",
        "              elif drugs>20:\n",
        "                label.append('Drugs')\n",
        "                drug_count += 1\n",
        "\n",
        "              elif violence>20:\n",
        "                label.append('Violence')\n",
        "                vio_count += 1\n",
        "                \n",
        "              else:\n",
        "                label.append('Peace')\n",
        "                peace_count += 1\n",
        "\n",
        "          else:\n",
        "              if miso>drugs and miso>violence:\n",
        "                label.append('Misogyny')\n",
        "                miso_count += 1\n",
        "          \n",
        "              elif drugs>miso and drugs>violence:\n",
        "                label.append('Drugs')\n",
        "                drug_count += 1\n",
        "\n",
        "              else:\n",
        "                label.append('Violence')\n",
        "                vio_count += 1      \n",
        "\n",
        "          continue\n",
        "    else:\n",
        "          continue\n",
        "\n",
        "\n",
        "print(\"Miso:\",miso_count)\n",
        "print(\"Drugs:\",drug_count)\n",
        "print(\"Violence:\",vio_count)\n",
        "\n",
        "\n",
        "# except:\n",
        "#   continue\n",
        "records['Year'] = year\n",
        "records['song'] = song\n",
        "records['drug%'] = drugpercentage\n",
        "records['misogyny%'] = misopercentage\n",
        "records['violence%'] = violencepercentage\n",
        "records['peace%'] = peacepercentage\n",
        "records['Label'] = label\n",
        "allrecords = allrecords.append(records)"
      ],
      "execution_count": null,
      "outputs": [
        {
          "output_type": "stream",
          "text": [
            "Miso: 46\n",
            "Drugs: 20\n",
            "Violence: 18\n"
          ],
          "name": "stdout"
        }
      ]
    },
    {
      "cell_type": "code",
      "metadata": {
        "id": "gwSQysvOmqRp"
      },
      "source": [
        "# import os\n",
        "# #FOR NORMAL SENTENCE WISE WITH ALL WORDS\n",
        "# directory = Enter_Again + \"/\"\n",
        "# all_words = get_all_words(df)\n",
        "# records = pd.DataFrame()\n",
        "# drugpercentage = []\n",
        "# violencepercentage = []\n",
        "# misopercentage = []\n",
        "# peacepercentage = []\n",
        "# year = []\n",
        "# song = []\n",
        "\n",
        "    \n",
        "    \n",
        "#     if filename.endswith(\".txt\"): \n",
        "#           testdf = importfortest(directory, filename)\n",
        "#           testdf = removing_lines(testdf)\n",
        "#           testdf = preprocess(testdf)\n",
        "#           test_all_words = get_all_wordstest(testdf)\n",
        "          \n",
        "#           X = tokenizer.texts_to_sequences(testdf['text'])\n",
        "#           X = pad_sequences(X, maxlen = 15)\n",
        "#           vocab_size = len(set(test_all_words)) \n",
        "#           Y_pred = model.predict(X, verbose=0)\n",
        "#           thresholds = findthresholds(Y_pred)\n",
        "#           drugs, miso, violence, peace = findpercentages(thresholds)\n",
        "#           drugpercentage.append(drugs)\n",
        "#           misopercentage.append(miso)\n",
        "#           violencepercentage.append(violence)\n",
        "#           peacepercentage.append(peace)\n",
        "#           year.append(Year)\n",
        "#           song.append(filename)\n",
        "          \n",
        "          \n",
        "#           continue\n",
        "#     else:\n",
        "#           continue\n",
        "# # except:\n",
        "# #   continue\n",
        "# records['Year'] = year\n",
        "# records['song'] = song\n",
        "# records['drug%'] = drugpercentage\n",
        "# records['misogyny%'] = misopercentage\n",
        "# records['violence%'] = violencepercentage\n",
        "# records['peace%'] = peacepercentage\n",
        "# allrecords = allrecords.append(records)"
      ],
      "execution_count": null,
      "outputs": []
    },
    {
      "cell_type": "markdown",
      "metadata": {
        "id": "3lBWRn3TBegY"
      },
      "source": [
        "#MASS TEST OUTPUT"
      ]
    },
    {
      "cell_type": "code",
      "metadata": {
        "colab": {
          "base_uri": "https://localhost:8080/",
          "height": 1000
        },
        "id": "OFS_WWy8BhyD",
        "outputId": "3a08856e-6aae-4be8-e99e-bfca4750c1e1"
      },
      "source": [
        "allrecords.head(50)"
      ],
      "execution_count": null,
      "outputs": [
        {
          "output_type": "execute_result",
          "data": {
            "text/html": [
              "<div>\n",
              "<style scoped>\n",
              "    .dataframe tbody tr th:only-of-type {\n",
              "        vertical-align: middle;\n",
              "    }\n",
              "\n",
              "    .dataframe tbody tr th {\n",
              "        vertical-align: top;\n",
              "    }\n",
              "\n",
              "    .dataframe thead th {\n",
              "        text-align: right;\n",
              "    }\n",
              "</style>\n",
              "<table border=\"1\" class=\"dataframe\">\n",
              "  <thead>\n",
              "    <tr style=\"text-align: right;\">\n",
              "      <th></th>\n",
              "      <th>Year</th>\n",
              "      <th>song</th>\n",
              "      <th>drug%</th>\n",
              "      <th>misogyny%</th>\n",
              "      <th>violence%</th>\n",
              "      <th>peace%</th>\n",
              "    </tr>\n",
              "  </thead>\n",
              "  <tbody>\n",
              "    <tr>\n",
              "      <th>0</th>\n",
              "      <td>2011</td>\n",
              "      <td>My Last.txt</td>\n",
              "      <td>11.340206</td>\n",
              "      <td>13.402062</td>\n",
              "      <td>22.680412</td>\n",
              "      <td>52.577320</td>\n",
              "    </tr>\n",
              "    <tr>\n",
              "      <th>1</th>\n",
              "      <td>2011</td>\n",
              "      <td>The Greatest Story Never told.txt</td>\n",
              "      <td>25.263158</td>\n",
              "      <td>11.578947</td>\n",
              "      <td>11.578947</td>\n",
              "      <td>51.578947</td>\n",
              "    </tr>\n",
              "    <tr>\n",
              "      <th>2</th>\n",
              "      <td>2011</td>\n",
              "      <td>Lord Knows.txt</td>\n",
              "      <td>14.606742</td>\n",
              "      <td>28.089888</td>\n",
              "      <td>15.730337</td>\n",
              "      <td>41.573034</td>\n",
              "    </tr>\n",
              "    <tr>\n",
              "      <th>3</th>\n",
              "      <td>2011</td>\n",
              "      <td>Freaks and Geeks.txt</td>\n",
              "      <td>12.307692</td>\n",
              "      <td>32.307692</td>\n",
              "      <td>15.384615</td>\n",
              "      <td>40.000000</td>\n",
              "    </tr>\n",
              "    <tr>\n",
              "      <th>4</th>\n",
              "      <td>2011</td>\n",
              "      <td>Rigamortus.txt</td>\n",
              "      <td>18.181818</td>\n",
              "      <td>9.090909</td>\n",
              "      <td>25.974026</td>\n",
              "      <td>46.753247</td>\n",
              "    </tr>\n",
              "    <tr>\n",
              "      <th>5</th>\n",
              "      <td>2011</td>\n",
              "      <td>Cocoa Butter.txt</td>\n",
              "      <td>28.571429</td>\n",
              "      <td>9.821429</td>\n",
              "      <td>14.285714</td>\n",
              "      <td>47.321429</td>\n",
              "    </tr>\n",
              "    <tr>\n",
              "      <th>6</th>\n",
              "      <td>2011</td>\n",
              "      <td>Late for the sky.txt</td>\n",
              "      <td>5.714286</td>\n",
              "      <td>31.428571</td>\n",
              "      <td>8.571429</td>\n",
              "      <td>54.285714</td>\n",
              "    </tr>\n",
              "    <tr>\n",
              "      <th>7</th>\n",
              "      <td>2011</td>\n",
              "      <td>Fuck Your Ethnicity.txt</td>\n",
              "      <td>17.910448</td>\n",
              "      <td>17.910448</td>\n",
              "      <td>11.940299</td>\n",
              "      <td>52.238806</td>\n",
              "    </tr>\n",
              "    <tr>\n",
              "      <th>8</th>\n",
              "      <td>2011</td>\n",
              "      <td>Lighters.txt</td>\n",
              "      <td>26.262626</td>\n",
              "      <td>14.141414</td>\n",
              "      <td>14.141414</td>\n",
              "      <td>45.454545</td>\n",
              "    </tr>\n",
              "    <tr>\n",
              "      <th>9</th>\n",
              "      <td>2011</td>\n",
              "      <td>Dance in the reign.txt</td>\n",
              "      <td>11.111111</td>\n",
              "      <td>23.809524</td>\n",
              "      <td>12.698413</td>\n",
              "      <td>52.380952</td>\n",
              "    </tr>\n",
              "    <tr>\n",
              "      <th>10</th>\n",
              "      <td>2011</td>\n",
              "      <td>Keshas Song(Her Pain).txt</td>\n",
              "      <td>14.864865</td>\n",
              "      <td>27.027027</td>\n",
              "      <td>12.162162</td>\n",
              "      <td>45.945946</td>\n",
              "    </tr>\n",
              "    <tr>\n",
              "      <th>11</th>\n",
              "      <td>2011</td>\n",
              "      <td>another naive individual glorifying greed &amp; en...</td>\n",
              "      <td>48.958333</td>\n",
              "      <td>10.416667</td>\n",
              "      <td>15.625000</td>\n",
              "      <td>25.000000</td>\n",
              "    </tr>\n",
              "    <tr>\n",
              "      <th>12</th>\n",
              "      <td>2011</td>\n",
              "      <td>Made in America.txt</td>\n",
              "      <td>16.901408</td>\n",
              "      <td>19.718310</td>\n",
              "      <td>8.450704</td>\n",
              "      <td>54.929577</td>\n",
              "    </tr>\n",
              "    <tr>\n",
              "      <th>13</th>\n",
              "      <td>2011</td>\n",
              "      <td>Born in the trap.txt</td>\n",
              "      <td>18.571429</td>\n",
              "      <td>14.285714</td>\n",
              "      <td>17.142857</td>\n",
              "      <td>50.000000</td>\n",
              "    </tr>\n",
              "    <tr>\n",
              "      <th>14</th>\n",
              "      <td>2011</td>\n",
              "      <td>Zan with that Lean.txt</td>\n",
              "      <td>7.812500</td>\n",
              "      <td>28.125000</td>\n",
              "      <td>12.500000</td>\n",
              "      <td>51.562500</td>\n",
              "    </tr>\n",
              "    <tr>\n",
              "      <th>15</th>\n",
              "      <td>2011</td>\n",
              "      <td>Lost Ones.txt</td>\n",
              "      <td>17.525773</td>\n",
              "      <td>29.896907</td>\n",
              "      <td>15.463918</td>\n",
              "      <td>37.113402</td>\n",
              "    </tr>\n",
              "    <tr>\n",
              "      <th>16</th>\n",
              "      <td>2011</td>\n",
              "      <td>Tupac Back.txt</td>\n",
              "      <td>10.126582</td>\n",
              "      <td>36.708861</td>\n",
              "      <td>17.721519</td>\n",
              "      <td>35.443038</td>\n",
              "    </tr>\n",
              "    <tr>\n",
              "      <th>17</th>\n",
              "      <td>2011</td>\n",
              "      <td>Murder to Excellence.txt</td>\n",
              "      <td>12.500000</td>\n",
              "      <td>8.333333</td>\n",
              "      <td>34.375000</td>\n",
              "      <td>44.791667</td>\n",
              "    </tr>\n",
              "    <tr>\n",
              "      <th>18</th>\n",
              "      <td>2011</td>\n",
              "      <td>Scottie Pippen.txt</td>\n",
              "      <td>25.806452</td>\n",
              "      <td>22.580645</td>\n",
              "      <td>9.677419</td>\n",
              "      <td>41.935484</td>\n",
              "    </tr>\n",
              "    <tr>\n",
              "      <th>19</th>\n",
              "      <td>2011</td>\n",
              "      <td>Toast to the dead.txt</td>\n",
              "      <td>11.428571</td>\n",
              "      <td>8.571429</td>\n",
              "      <td>27.142857</td>\n",
              "      <td>52.857143</td>\n",
              "    </tr>\n",
              "    <tr>\n",
              "      <th>20</th>\n",
              "      <td>2011</td>\n",
              "      <td>Hard White(Up in the club).txt</td>\n",
              "      <td>18.292683</td>\n",
              "      <td>20.731707</td>\n",
              "      <td>8.536585</td>\n",
              "      <td>52.439024</td>\n",
              "    </tr>\n",
              "    <tr>\n",
              "      <th>21</th>\n",
              "      <td>2011</td>\n",
              "      <td>Harsh.txt</td>\n",
              "      <td>20.202020</td>\n",
              "      <td>23.232323</td>\n",
              "      <td>15.151515</td>\n",
              "      <td>41.414141</td>\n",
              "    </tr>\n",
              "    <tr>\n",
              "      <th>22</th>\n",
              "      <td>2011</td>\n",
              "      <td>Wonton Soup.txt</td>\n",
              "      <td>1.041667</td>\n",
              "      <td>53.125000</td>\n",
              "      <td>12.500000</td>\n",
              "      <td>33.333333</td>\n",
              "    </tr>\n",
              "    <tr>\n",
              "      <th>23</th>\n",
              "      <td>2011</td>\n",
              "      <td>Underground Kings.txt</td>\n",
              "      <td>17.391304</td>\n",
              "      <td>36.231884</td>\n",
              "      <td>7.246377</td>\n",
              "      <td>39.130435</td>\n",
              "    </tr>\n",
              "    <tr>\n",
              "      <th>24</th>\n",
              "      <td>2011</td>\n",
              "      <td>Tower Heist.txt</td>\n",
              "      <td>20.588235</td>\n",
              "      <td>17.647059</td>\n",
              "      <td>5.882353</td>\n",
              "      <td>55.882353</td>\n",
              "    </tr>\n",
              "    <tr>\n",
              "      <th>25</th>\n",
              "      <td>2011</td>\n",
              "      <td>Im on one.txt</td>\n",
              "      <td>17.272727</td>\n",
              "      <td>43.636364</td>\n",
              "      <td>2.727273</td>\n",
              "      <td>36.363636</td>\n",
              "    </tr>\n",
              "    <tr>\n",
              "      <th>26</th>\n",
              "      <td>2011</td>\n",
              "      <td>All Black Everything.txt</td>\n",
              "      <td>12.195122</td>\n",
              "      <td>20.731707</td>\n",
              "      <td>7.317073</td>\n",
              "      <td>59.756098</td>\n",
              "    </tr>\n",
              "    <tr>\n",
              "      <th>27</th>\n",
              "      <td>2011</td>\n",
              "      <td>Armor of god.txt</td>\n",
              "      <td>9.302326</td>\n",
              "      <td>9.302326</td>\n",
              "      <td>32.558140</td>\n",
              "      <td>48.837209</td>\n",
              "    </tr>\n",
              "    <tr>\n",
              "      <th>28</th>\n",
              "      <td>2011</td>\n",
              "      <td>A.D.H.D.txt</td>\n",
              "      <td>28.571429</td>\n",
              "      <td>9.523810</td>\n",
              "      <td>8.333333</td>\n",
              "      <td>53.571429</td>\n",
              "    </tr>\n",
              "    <tr>\n",
              "      <th>29</th>\n",
              "      <td>2011</td>\n",
              "      <td>He's a Mental Giant.txt</td>\n",
              "      <td>10.638298</td>\n",
              "      <td>11.702128</td>\n",
              "      <td>9.574468</td>\n",
              "      <td>68.085106</td>\n",
              "    </tr>\n",
              "    <tr>\n",
              "      <th>30</th>\n",
              "      <td>2011</td>\n",
              "      <td>Dont Hold Your Applause.txt</td>\n",
              "      <td>29.090909</td>\n",
              "      <td>21.818182</td>\n",
              "      <td>5.454545</td>\n",
              "      <td>43.636364</td>\n",
              "    </tr>\n",
              "    <tr>\n",
              "      <th>31</th>\n",
              "      <td>2011</td>\n",
              "      <td>Sweet.txt</td>\n",
              "      <td>9.009009</td>\n",
              "      <td>22.522523</td>\n",
              "      <td>8.108108</td>\n",
              "      <td>60.360360</td>\n",
              "    </tr>\n",
              "    <tr>\n",
              "      <th>32</th>\n",
              "      <td>2011</td>\n",
              "      <td>Amen.txt</td>\n",
              "      <td>11.594203</td>\n",
              "      <td>17.391304</td>\n",
              "      <td>10.144928</td>\n",
              "      <td>60.869565</td>\n",
              "    </tr>\n",
              "    <tr>\n",
              "      <th>33</th>\n",
              "      <td>2011</td>\n",
              "      <td>Nasty.txt</td>\n",
              "      <td>37.662338</td>\n",
              "      <td>9.090909</td>\n",
              "      <td>3.896104</td>\n",
              "      <td>49.350649</td>\n",
              "    </tr>\n",
              "    <tr>\n",
              "      <th>34</th>\n",
              "      <td>2011</td>\n",
              "      <td>You See Me.txt</td>\n",
              "      <td>13.888889</td>\n",
              "      <td>27.777778</td>\n",
              "      <td>11.111111</td>\n",
              "      <td>47.222222</td>\n",
              "    </tr>\n",
              "    <tr>\n",
              "      <th>35</th>\n",
              "      <td>2011</td>\n",
              "      <td>Golden.txt</td>\n",
              "      <td>21.276596</td>\n",
              "      <td>12.765957</td>\n",
              "      <td>0.000000</td>\n",
              "      <td>65.957447</td>\n",
              "    </tr>\n",
              "    <tr>\n",
              "      <th>36</th>\n",
              "      <td>2011</td>\n",
              "      <td>Mr. Nice Watch.txt</td>\n",
              "      <td>8.433735</td>\n",
              "      <td>31.325301</td>\n",
              "      <td>8.433735</td>\n",
              "      <td>51.807229</td>\n",
              "    </tr>\n",
              "    <tr>\n",
              "      <th>37</th>\n",
              "      <td>2011</td>\n",
              "      <td>I Still wanna.txt</td>\n",
              "      <td>30.952381</td>\n",
              "      <td>14.285714</td>\n",
              "      <td>9.523810</td>\n",
              "      <td>45.238095</td>\n",
              "    </tr>\n",
              "    <tr>\n",
              "      <th>38</th>\n",
              "      <td>2011</td>\n",
              "      <td>Dance(Ass)(Remix).txt</td>\n",
              "      <td>1.449275</td>\n",
              "      <td>26.086957</td>\n",
              "      <td>11.594203</td>\n",
              "      <td>60.869565</td>\n",
              "    </tr>\n",
              "    <tr>\n",
              "      <th>39</th>\n",
              "      <td>2011</td>\n",
              "      <td>Ricky.txt</td>\n",
              "      <td>5.084746</td>\n",
              "      <td>47.457627</td>\n",
              "      <td>8.474576</td>\n",
              "      <td>38.983051</td>\n",
              "    </tr>\n",
              "    <tr>\n",
              "      <th>40</th>\n",
              "      <td>2011</td>\n",
              "      <td>Look at me now.txt</td>\n",
              "      <td>12.280702</td>\n",
              "      <td>35.087719</td>\n",
              "      <td>12.280702</td>\n",
              "      <td>40.350877</td>\n",
              "    </tr>\n",
              "    <tr>\n",
              "      <th>41</th>\n",
              "      <td>2011</td>\n",
              "      <td>Ima Boss(Remix).txt</td>\n",
              "      <td>11.111111</td>\n",
              "      <td>30.555556</td>\n",
              "      <td>16.666667</td>\n",
              "      <td>41.666667</td>\n",
              "    </tr>\n",
              "    <tr>\n",
              "      <th>42</th>\n",
              "      <td>2011</td>\n",
              "      <td>Trouble On My Mind.txt</td>\n",
              "      <td>30.985915</td>\n",
              "      <td>12.676056</td>\n",
              "      <td>22.535211</td>\n",
              "      <td>33.802817</td>\n",
              "    </tr>\n",
              "    <tr>\n",
              "      <th>43</th>\n",
              "      <td>2011</td>\n",
              "      <td>Burning the Mirror.txt</td>\n",
              "      <td>9.302326</td>\n",
              "      <td>18.604651</td>\n",
              "      <td>16.279070</td>\n",
              "      <td>55.813953</td>\n",
              "    </tr>\n",
              "    <tr>\n",
              "      <th>44</th>\n",
              "      <td>2011</td>\n",
              "      <td>SLR(Super Lupe Rap).txt</td>\n",
              "      <td>23.076923</td>\n",
              "      <td>12.820513</td>\n",
              "      <td>11.111111</td>\n",
              "      <td>52.991453</td>\n",
              "    </tr>\n",
              "    <tr>\n",
              "      <th>45</th>\n",
              "      <td>2011</td>\n",
              "      <td>Ghetto Dreams.txt</td>\n",
              "      <td>10.000000</td>\n",
              "      <td>26.666667</td>\n",
              "      <td>16.666667</td>\n",
              "      <td>46.666667</td>\n",
              "    </tr>\n",
              "    <tr>\n",
              "      <th>46</th>\n",
              "      <td>2011</td>\n",
              "      <td>I'm flexin.txt</td>\n",
              "      <td>39.495798</td>\n",
              "      <td>16.806723</td>\n",
              "      <td>5.042017</td>\n",
              "      <td>38.655462</td>\n",
              "    </tr>\n",
              "    <tr>\n",
              "      <th>47</th>\n",
              "      <td>2011</td>\n",
              "      <td>HiiiPower.txt</td>\n",
              "      <td>17.021277</td>\n",
              "      <td>12.765957</td>\n",
              "      <td>11.702128</td>\n",
              "      <td>58.510638</td>\n",
              "    </tr>\n",
              "    <tr>\n",
              "      <th>48</th>\n",
              "      <td>2011</td>\n",
              "      <td>Gucci Gucci.txt</td>\n",
              "      <td>9.523810</td>\n",
              "      <td>33.333333</td>\n",
              "      <td>3.174603</td>\n",
              "      <td>53.968254</td>\n",
              "    </tr>\n",
              "    <tr>\n",
              "      <th>49</th>\n",
              "      <td>2011</td>\n",
              "      <td>Blue Sky.txt</td>\n",
              "      <td>15.000000</td>\n",
              "      <td>35.000000</td>\n",
              "      <td>10.000000</td>\n",
              "      <td>40.000000</td>\n",
              "    </tr>\n",
              "  </tbody>\n",
              "</table>\n",
              "</div>"
            ],
            "text/plain": [
              "    Year  ...     peace%\n",
              "0   2011  ...  52.577320\n",
              "1   2011  ...  51.578947\n",
              "2   2011  ...  41.573034\n",
              "3   2011  ...  40.000000\n",
              "4   2011  ...  46.753247\n",
              "5   2011  ...  47.321429\n",
              "6   2011  ...  54.285714\n",
              "7   2011  ...  52.238806\n",
              "8   2011  ...  45.454545\n",
              "9   2011  ...  52.380952\n",
              "10  2011  ...  45.945946\n",
              "11  2011  ...  25.000000\n",
              "12  2011  ...  54.929577\n",
              "13  2011  ...  50.000000\n",
              "14  2011  ...  51.562500\n",
              "15  2011  ...  37.113402\n",
              "16  2011  ...  35.443038\n",
              "17  2011  ...  44.791667\n",
              "18  2011  ...  41.935484\n",
              "19  2011  ...  52.857143\n",
              "20  2011  ...  52.439024\n",
              "21  2011  ...  41.414141\n",
              "22  2011  ...  33.333333\n",
              "23  2011  ...  39.130435\n",
              "24  2011  ...  55.882353\n",
              "25  2011  ...  36.363636\n",
              "26  2011  ...  59.756098\n",
              "27  2011  ...  48.837209\n",
              "28  2011  ...  53.571429\n",
              "29  2011  ...  68.085106\n",
              "30  2011  ...  43.636364\n",
              "31  2011  ...  60.360360\n",
              "32  2011  ...  60.869565\n",
              "33  2011  ...  49.350649\n",
              "34  2011  ...  47.222222\n",
              "35  2011  ...  65.957447\n",
              "36  2011  ...  51.807229\n",
              "37  2011  ...  45.238095\n",
              "38  2011  ...  60.869565\n",
              "39  2011  ...  38.983051\n",
              "40  2011  ...  40.350877\n",
              "41  2011  ...  41.666667\n",
              "42  2011  ...  33.802817\n",
              "43  2011  ...  55.813953\n",
              "44  2011  ...  52.991453\n",
              "45  2011  ...  46.666667\n",
              "46  2011  ...  38.655462\n",
              "47  2011  ...  58.510638\n",
              "48  2011  ...  53.968254\n",
              "49  2011  ...  40.000000\n",
              "\n",
              "[50 rows x 6 columns]"
            ]
          },
          "metadata": {
            "tags": []
          },
          "execution_count": 51
        }
      ]
    },
    {
      "cell_type": "code",
      "metadata": {
        "id": "eM_fK29IwRWn"
      },
      "source": [
        "allrecords.to_excel(r'2015_final.xlsx', index = False)"
      ],
      "execution_count": null,
      "outputs": []
    },
    {
      "cell_type": "markdown",
      "metadata": {
        "id": "XyAlsKYaBNje"
      },
      "source": [
        "#SINGLE SONG TESTING"
      ]
    },
    {
      "cell_type": "code",
      "metadata": {
        "id": "NIU82dEK4Gvk"
      },
      "source": [
        "testdf = importing('testsong')\n",
        "testdf = removing_lines(testdf)\n",
        "testdf = preprocess(testdf)"
      ],
      "execution_count": null,
      "outputs": []
    },
    {
      "cell_type": "code",
      "metadata": {
        "id": "CoKrYUMDqGQ6"
      },
      "source": [
        "test_all_words = get_all_words(testdf)"
      ],
      "execution_count": null,
      "outputs": []
    },
    {
      "cell_type": "code",
      "metadata": {
        "id": "XhR8toELqVPv"
      },
      "source": [
        "all_words = get_all_words(df)"
      ],
      "execution_count": null,
      "outputs": []
    },
    {
      "cell_type": "code",
      "metadata": {
        "id": "r91aPQZxqL7Y"
      },
      "source": [
        "# accepted = []\n",
        "# rejected = []\n",
        "# for word in test_all_words:\n",
        "#   if (word in all_words):\n",
        "#     accepted.append(word)\n",
        "#   else:\n",
        "#     rejected.append(word)"
      ],
      "execution_count": null,
      "outputs": []
    },
    {
      "cell_type": "code",
      "metadata": {
        "id": "xwtm8lxHY0ZS",
        "colab": {
          "base_uri": "https://localhost:8080/"
        },
        "outputId": "adfa6d67-6c02-466c-f7d2-7c8c10a28efe"
      },
      "source": [
        "\n",
        "final_sen = []\n",
        "for sentence in testdf['testsong']:\n",
        "\n",
        "  sentence = sentence.split(' ')\n",
        "\n",
        "  sentence1 = ''\n",
        "  for word in sentence:\n",
        "    \n",
        "    count_all = len(sentence)\n",
        "    if word in all_words:\n",
        "      sentence1 = sentence1 + ' ' + word\n",
        "      sentence1= re.sub('', '', sentence1)\n",
        "  final_sen.append(sentence1)\n",
        "\n",
        "\n",
        "final_sen\n",
        "# final_sen = []\n",
        "# for i in range(len(percentages)):\n",
        "#   if percentages[i] >= 90:\n",
        "#     final_sen.append(testdf['testsong'].iloc[i])"
      ],
      "execution_count": null,
      "outputs": [
        {
          "output_type": "execute_result",
          "data": {
            "text/plain": [
              "['  im ',\n",
              " '  wan na play ',\n",
              " '  tell wasnt shit thats murder ',\n",
              " '  wasnt find head cut ',\n",
              " '  dont let em run catch em ',\n",
              " '  grab arm grab arm let pull till em ',\n",
              " '  play pussy get fuck mean youre well dead ',\n",
              " '  wan na see head ',\n",
              " '  motherfucker cause im sick ',\n",
              " '  dead head leg mix ',\n",
              " '  night dead ',\n",
              " '  arm walk round givin nigga head ',\n",
              " '  didnt die would say get ',\n",
              " '  body find dead fuck ',\n",
              " '  play ',\n",
              " '  fuck killin ',\n",
              " '  gim barb ill start killin ',\n",
              " '  murder try slack ',\n",
              " '  little girl back ',\n",
              " '  name say im ',\n",
              " '  give gin might eat dog brain ',\n",
              " '  give motherfuckin pack ',\n",
              " '  ill damn dont bring dead nigga back ',\n",
              " '  murder contest know ill win ',\n",
              " '  cause every head knife ',\n",
              " '  im gettin hungry need ',\n",
              " '  feel like bag broke leg ',\n",
              " '  bustin neck brick ',\n",
              " '  half body half ',\n",
              " '  short nigga always ',\n",
              " '  figure way get fist ',\n",
              " '  get get light ',\n",
              " '  knife neck make spit ',\n",
              " '  ',\n",
              " '  inside chest find ',\n",
              " '  nerve try go ',\n",
              " '  gun fuck gon na yo ',\n",
              " '  im im ',\n",
              " '  pack nothin play ',\n",
              " '  youd well murder put rest ',\n",
              " '  cause dont ill come head chest ',\n",
              " '  piss way im always ',\n",
              " '  kill punk find ',\n",
              " '  say im say im crack ',\n",
              " '  die cut leg let die ',\n",
              " '  say im ',\n",
              " '  get piss leave ',\n",
              " '  bad never havin ',\n",
              " '  go last night kill people ',\n",
              " '  wake floor ',\n",
              " '  tell kill yo ',\n",
              " '  wan na go get war ',\n",
              " '  go jail ',\n",
              " '  might small nut big ',\n",
              " '  bad could let keep fuckin kid ',\n",
              " '  cause im em ',\n",
              " '  right ',\n",
              " '  uh use tryin spot em ',\n",
              " '  ill send motherfuckin note say get em ']"
            ]
          },
          "metadata": {
            "tags": []
          },
          "execution_count": 257
        }
      ]
    },
    {
      "cell_type": "code",
      "metadata": {
        "id": "dIFkO_8IruLw"
      },
      "source": [
        "# all_words = get_all_words(df)"
      ],
      "execution_count": null,
      "outputs": []
    },
    {
      "cell_type": "code",
      "metadata": {
        "id": "F77P_OIorzNx"
      },
      "source": [
        "# len(all_words)"
      ],
      "execution_count": null,
      "outputs": []
    },
    {
      "cell_type": "code",
      "metadata": {
        "id": "V-22l3RkgLTf"
      },
      "source": [
        "vocab_size = len(set(all_words))\n",
        "tokenizer = tf.keras.preprocessing.text.Tokenizer(num_words=vocab_size)\n",
        "tokenizer.fit_on_texts(df['text'])\n",
        "\n"
      ],
      "execution_count": null,
      "outputs": []
    },
    {
      "cell_type": "code",
      "metadata": {
        "id": "bTocHAotrT65",
        "colab": {
          "base_uri": "https://localhost:8080/"
        },
        "outputId": "1609e062-e517-440f-877a-86145c9d6cb3"
      },
      "source": [
        "\n",
        "\n",
        "X = tokenizer.texts_to_sequences(final_sen)\n",
        "X = pad_sequences(X, maxlen = 15)\n",
        "y = np.asarray(final_sen)\n",
        "\n",
        "print(\"Vocabulary Size:\", len(X))\n",
        "print(X[1])\n",
        "print(\"Sentence Size: \", len(y))\n",
        "print(y[1])"
      ],
      "execution_count": null,
      "outputs": [
        {
          "output_type": "stream",
          "text": [
            "Vocabulary Size: 59\n",
            "[  0   0   0   0   0   0   0   0   0   0   0   0  75  35 240]\n",
            "Sentence Size:  59\n",
            "  wan na play \n"
          ],
          "name": "stdout"
        }
      ]
    },
    {
      "cell_type": "code",
      "metadata": {
        "id": "jdPRI8x7Iscq"
      },
      "source": [
        "\n",
        "# X = tokenizer.texts_to_sequences(testdf['testsong'])\n",
        "# X = pad_sequences(X, maxlen = 15)\n",
        "# y = np.asarray(testdf['testsong'])\n",
        "\n",
        "# print(\"Vocabulary Size:\", len(X))\n",
        "# print(X[0])\n",
        "# print(\"Sentence Size: \", len(y))\n",
        "# print(y[0])"
      ],
      "execution_count": null,
      "outputs": []
    },
    {
      "cell_type": "code",
      "metadata": {
        "colab": {
          "base_uri": "https://localhost:8080/",
          "height": 347
        },
        "id": "OCpX-9Z1Y-J8",
        "outputId": "20c47c6a-3ac5-4e36-8e2a-208dc89ef8f7"
      },
      "source": [
        "testdf.head(10)"
      ],
      "execution_count": null,
      "outputs": [
        {
          "output_type": "execute_result",
          "data": {
            "text/html": [
              "<div>\n",
              "<style scoped>\n",
              "    .dataframe tbody tr th:only-of-type {\n",
              "        vertical-align: middle;\n",
              "    }\n",
              "\n",
              "    .dataframe tbody tr th {\n",
              "        vertical-align: top;\n",
              "    }\n",
              "\n",
              "    .dataframe thead th {\n",
              "        text-align: right;\n",
              "    }\n",
              "</style>\n",
              "<table border=\"1\" class=\"dataframe\">\n",
              "  <thead>\n",
              "    <tr style=\"text-align: right;\">\n",
              "      <th></th>\n",
              "      <th>testsong</th>\n",
              "    </tr>\n",
              "  </thead>\n",
              "  <tbody>\n",
              "    <tr>\n",
              "      <th>0</th>\n",
              "      <td>hi im chuckie</td>\n",
              "    </tr>\n",
              "    <tr>\n",
              "      <th>1</th>\n",
              "      <td>wan na play</td>\n",
              "    </tr>\n",
              "    <tr>\n",
              "      <th>2</th>\n",
              "      <td>tell size wasnt shit thats murder niece</td>\n",
              "    </tr>\n",
              "    <tr>\n",
              "      <th>3</th>\n",
              "      <td>wasnt fault find head cut piece</td>\n",
              "    </tr>\n",
              "    <tr>\n",
              "      <th>4</th>\n",
              "      <td>dont let em run hurry catch em</td>\n",
              "    </tr>\n",
              "    <tr>\n",
              "      <th>5</th>\n",
              "      <td>grab arm grab arm let pull till stretch em</td>\n",
              "    </tr>\n",
              "    <tr>\n",
              "      <th>6</th>\n",
              "      <td>play pussy get fuck mean youre well dead</td>\n",
              "    </tr>\n",
              "    <tr>\n",
              "      <th>7</th>\n",
              "      <td>wan na see food fish child head</td>\n",
              "    </tr>\n",
              "    <tr>\n",
              "      <th>8</th>\n",
              "      <td>motherfucker weary cause im sick</td>\n",
              "    </tr>\n",
              "    <tr>\n",
              "      <th>9</th>\n",
              "      <td>dead head frog leg mmm cake mix</td>\n",
              "    </tr>\n",
              "  </tbody>\n",
              "</table>\n",
              "</div>"
            ],
            "text/plain": [
              "                                       testsong\n",
              "0                                hi im chuckie \n",
              "1                                  wan na play \n",
              "2      tell size wasnt shit thats murder niece \n",
              "3              wasnt fault find head cut piece \n",
              "4               dont let em run hurry catch em \n",
              "5   grab arm grab arm let pull till stretch em \n",
              "6     play pussy get fuck mean youre well dead \n",
              "7              wan na see food fish child head \n",
              "8             motherfucker weary cause im sick \n",
              "9              dead head frog leg mmm cake mix "
            ]
          },
          "metadata": {
            "tags": []
          },
          "execution_count": 263
        }
      ]
    },
    {
      "cell_type": "code",
      "metadata": {
        "id": "l4KgMSvJOhsO"
      },
      "source": [
        "# vocab_size = len(set(all_words)) "
      ],
      "execution_count": null,
      "outputs": []
    },
    {
      "cell_type": "code",
      "metadata": {
        "id": "Ddd-lYgGOsFf"
      },
      "source": [],
      "execution_count": null,
      "outputs": []
    },
    {
      "cell_type": "code",
      "metadata": {
        "id": "t-Z7Uu6BOSCP"
      },
      "source": [],
      "execution_count": null,
      "outputs": []
    },
    {
      "cell_type": "code",
      "metadata": {
        "colab": {
          "base_uri": "https://localhost:8080/"
        },
        "id": "5Nc3zOE27kdv",
        "outputId": "7efbca4f-f7d9-4eec-9f5b-467766c5eed3"
      },
      "source": [
        "Y_pred = model.predict(X, verbose=0)\n",
        "Y_pred\n"
      ],
      "execution_count": null,
      "outputs": [
        {
          "output_type": "execute_result",
          "data": {
            "text/plain": [
              "array([[6.3678968e-01, 7.1018495e-02, 2.9219186e-01],\n",
              "       [7.3800129e-01, 4.4858716e-02, 2.1713994e-01],\n",
              "       [5.9130888e-02, 8.3607894e-01, 1.0479021e-01],\n",
              "       [2.6429580e-05, 2.9652263e-04, 9.9967706e-01],\n",
              "       [9.9982566e-01, 2.4475599e-05, 1.4991936e-04],\n",
              "       [4.9235598e-05, 3.1151585e-06, 9.9994767e-01],\n",
              "       [6.6169709e-10, 1.0000000e+00, 5.1631799e-10],\n",
              "       [9.7005826e-01, 5.3432384e-03, 2.4598410e-02],\n",
              "       [1.5053094e-02, 2.5903974e-02, 9.5904285e-01],\n",
              "       [2.3599941e-06, 4.7887629e-06, 9.9999285e-01],\n",
              "       [1.1150653e-02, 3.4159757e-02, 9.5468956e-01],\n",
              "       [1.0159753e-01, 4.8072562e-01, 4.1767690e-01],\n",
              "       [6.5153622e-04, 9.9913615e-01, 2.1238181e-04],\n",
              "       [2.6130879e-08, 3.4497020e-07, 9.9999964e-01],\n",
              "       [4.4912571e-01, 1.3219510e-01, 4.1867921e-01],\n",
              "       [2.6853385e-03, 7.9829335e-02, 9.1748536e-01],\n",
              "       [8.8932200e-07, 7.2752300e-06, 9.9999189e-01],\n",
              "       [1.4161292e-04, 4.0310177e-05, 9.9981815e-01],\n",
              "       [1.6510470e-02, 9.8059058e-01, 2.8990142e-03],\n",
              "       [1.1917975e-03, 9.9871576e-01, 9.2530616e-05],\n",
              "       [8.7911766e-03, 9.7210395e-01, 1.9104876e-02],\n",
              "       [1.9404627e-03, 1.4187655e-01, 8.5618299e-01],\n",
              "       [2.4492056e-05, 7.0268420e-06, 9.9996853e-01],\n",
              "       [3.0546845e-04, 1.9268768e-01, 8.0700690e-01],\n",
              "       [3.0315865e-04, 4.3076170e-03, 9.9538922e-01],\n",
              "       [9.4810981e-01, 2.5140077e-02, 2.6750196e-02],\n",
              "       [1.8825097e-01, 7.9589456e-01, 1.5854446e-02],\n",
              "       [7.1963092e-05, 4.0613806e-05, 9.9988747e-01],\n",
              "       [5.2784325e-04, 3.6303711e-03, 9.9584180e-01],\n",
              "       [2.5753558e-04, 9.9856013e-01, 1.1823735e-03],\n",
              "       [1.8400496e-02, 9.7355193e-01, 8.0476357e-03],\n",
              "       [6.5681392e-01, 1.8501905e-01, 1.5816696e-01],\n",
              "       [9.8249686e-05, 1.9424965e-04, 9.9970752e-01],\n",
              "       [5.0345266e-01, 3.1296588e-02, 4.6525067e-01],\n",
              "       [7.0193113e-05, 9.9685413e-01, 3.0757068e-03],\n",
              "       [1.2674467e-02, 7.5496063e-03, 9.7977591e-01],\n",
              "       [5.5878962e-07, 7.2903333e-07, 9.9999869e-01],\n",
              "       [6.8982494e-01, 2.1833692e-01, 9.1838077e-02],\n",
              "       [1.5176837e-01, 2.9709836e-02, 8.1852186e-01],\n",
              "       [8.3003467e-04, 1.7452505e-04, 9.9899548e-01],\n",
              "       [9.0049110e-02, 7.0378911e-01, 2.0616177e-01],\n",
              "       [8.9240103e-04, 9.9811447e-01, 9.9310442e-04],\n",
              "       [8.2683670e-07, 5.7731421e-07, 9.9999857e-01],\n",
              "       [7.6008115e-07, 9.9999928e-01, 9.7567177e-10],\n",
              "       [1.9756467e-03, 1.9534177e-04, 9.9782902e-01],\n",
              "       [7.0999958e-02, 9.2496109e-01, 4.0389560e-03],\n",
              "       [7.9637587e-02, 8.7337065e-01, 4.6991814e-02],\n",
              "       [3.9459261e-01, 6.0297972e-01, 2.4276976e-03],\n",
              "       [1.4407285e-03, 3.6475852e-03, 9.9491173e-01],\n",
              "       [8.4394693e-01, 1.2504245e-03, 1.5480268e-01],\n",
              "       [1.9527363e-02, 2.0607340e-03, 9.7841185e-01],\n",
              "       [4.5789000e-01, 1.4148309e-03, 5.4069513e-01],\n",
              "       [3.9954031e-01, 3.0511308e-02, 5.6994843e-01],\n",
              "       [2.3749007e-04, 9.9230099e-01, 7.4615055e-03],\n",
              "       [3.7631812e-03, 9.0026170e-01, 9.5975079e-02],\n",
              "       [7.7625400e-01, 2.0029874e-01, 2.3447340e-02],\n",
              "       [6.2461841e-01, 1.1304334e-01, 2.6233828e-01],\n",
              "       [6.8469538e-04, 9.8076367e-01, 1.8551629e-02],\n",
              "       [1.1733983e-06, 9.9999881e-01, 2.4282233e-08]], dtype=float32)"
            ]
          },
          "metadata": {
            "tags": []
          },
          "execution_count": 265
        }
      ]
    },
    {
      "cell_type": "code",
      "metadata": {
        "id": "UyfDju9g8Nnm"
      },
      "source": [
        "thresholds = []\n",
        "flag = 0\n",
        "for i in range (len(Y_pred)):\n",
        "  for j in range (3):\n",
        "      if (Y_pred[i][j] >= 0.8):\n",
        "        thresholds.append(j)\n",
        "        flag = 1\n",
        "      \n",
        "  if (flag==0):\n",
        "    thresholds.append(9)\n",
        "  flag = 0\n",
        "thresholds = np.array(thresholds)"
      ],
      "execution_count": null,
      "outputs": []
    },
    {
      "cell_type": "code",
      "metadata": {
        "colab": {
          "base_uri": "https://localhost:8080/"
        },
        "id": "5Xu3nmPkGUQg",
        "outputId": "b5d8d415-bd27-4211-df1c-8c671ae75e2d"
      },
      "source": [
        "thresholds"
      ],
      "execution_count": null,
      "outputs": [
        {
          "output_type": "execute_result",
          "data": {
            "text/plain": [
              "array([9, 9, 1, 2, 0, 2, 1, 0, 2, 2, 2, 9, 1, 2, 9, 2, 2, 2, 1, 1, 1, 2,\n",
              "       2, 2, 2, 0, 9, 2, 2, 1, 1, 9, 2, 9, 1, 2, 2, 9, 2, 2, 9, 1, 2, 1,\n",
              "       2, 1, 1, 9, 2, 0, 2, 9, 9, 1, 1, 9, 9, 1, 1])"
            ]
          },
          "metadata": {
            "tags": []
          },
          "execution_count": 267
        }
      ]
    },
    {
      "cell_type": "markdown",
      "metadata": {
        "id": "7Qf3Vd2Lh2F3"
      },
      "source": [
        "The labels or each class are as follows:\n",
        "0 drugs\n",
        "1 misogyny\n",
        "2 violence"
      ]
    },
    {
      "cell_type": "code",
      "metadata": {
        "id": "FNzg5pmMFumS"
      },
      "source": [
        "drugs = 0\n",
        "miso = 0\n",
        "violence = 0\n",
        "count9 = 0\n",
        "for i in thresholds:\n",
        "  if i == 0:\n",
        "    drugs+=1\n",
        "  elif i == 1: \n",
        "    miso+=1\n",
        "  elif i == 2:\n",
        "    violence+=1\n",
        "  elif i == 9:\n",
        "    count9+=1\n",
        "total = drugs + miso + violence + count9\n"
      ],
      "execution_count": null,
      "outputs": []
    },
    {
      "cell_type": "markdown",
      "metadata": {
        "id": "YgUnqwCQrfFX"
      },
      "source": [
        "#OUTPUT"
      ]
    },
    {
      "cell_type": "code",
      "metadata": {
        "colab": {
          "base_uri": "https://localhost:8080/"
        },
        "id": "sHylOamxrhxO",
        "outputId": "e24a3356-9193-4036-9487-fb0e81f3ef5a"
      },
      "source": [
        "print(\"Misogyny count:\" , (miso/total) * 100)\n",
        "print(\"Drugs count:\" , (drugs/total) * 100)\n",
        "print(\"Violence count:\" , (violence/total) * 100)\n",
        "print(\"Peace count:\" , (count9/total) * 100)"
      ],
      "execution_count": null,
      "outputs": [
        {
          "output_type": "stream",
          "text": [
            "Misogyny count: 28.8135593220339\n",
            "Drugs count: 6.779661016949152\n",
            "Violence count: 40.67796610169492\n",
            "Peace count: 23.728813559322035\n"
          ],
          "name": "stdout"
        }
      ]
    },
    {
      "cell_type": "code",
      "metadata": {
        "colab": {
          "base_uri": "https://localhost:8080/"
        },
        "id": "9PCy0c8Md2GQ",
        "outputId": "bd306429-df5a-43e3-be6d-0738ad539fdb"
      },
      "source": [
        "thresholds"
      ],
      "execution_count": null,
      "outputs": [
        {
          "output_type": "execute_result",
          "data": {
            "text/plain": [
              "array([9, 9, 1, 2, 1, 1, 0, 1, 2, 9, 1, 0, 1, 9, 1, 1, 2, 1, 2, 0, 2, 2,\n",
              "       0, 0, 9, 1, 0, 2, 9, 1, 0, 0, 9, 1, 9, 1, 9, 1, 9, 1, 1, 0, 9, 9,\n",
              "       1, 1, 1, 9, 0, 0, 9, 2, 2, 9, 2, 1, 1, 9, 9, 1, 1, 9, 1, 1, 0, 2,\n",
              "       9, 1, 1, 1, 1, 0, 1, 9, 1, 9, 1, 9, 1, 9, 1, 1, 1])"
            ]
          },
          "metadata": {
            "tags": []
          },
          "execution_count": 249
        }
      ]
    },
    {
      "cell_type": "code",
      "metadata": {
        "colab": {
          "base_uri": "https://localhost:8080/"
        },
        "id": "EhuQvxb4v8TM",
        "outputId": "bcb704f1-facf-4071-d032-531a1717bba6"
      },
      "source": [
        "\n",
        "final_sen"
      ],
      "execution_count": null,
      "outputs": [
        {
          "output_type": "execute_result",
          "data": {
            "text/plain": [
              "['  say ',\n",
              " '  seven day ',\n",
              " '  pussy ',\n",
              " '  make game ',\n",
              " '  yeah yeah yeah yeah ',\n",
              " '  yeah fuck pussy ',\n",
              " '  bring pussy ',\n",
              " '  give get pussy ',\n",
              " '  beat nigga catch ',\n",
              " '  large hard ',\n",
              " '  put pussy right face ',\n",
              " '  nose like ',\n",
              " '  hop top wan na ',\n",
              " '  inside ',\n",
              " '  spit mouth look eye ',\n",
              " '  pussy wet come take dive ',\n",
              " '  tie like im ',\n",
              " '  let play ill ',\n",
              " '  want big ',\n",
              " '  right little ',\n",
              " '  make make scream ',\n",
              " '  public make ',\n",
              " '  dont cook dont clean ',\n",
              " '  let tell get ',\n",
              " '  side yeah ',\n",
              " '  jump let get inside yeah ',\n",
              " '  tell put never tell im bout ',\n",
              " '  ill run nigga run ',\n",
              " '  talk shit bite lip yeah ',\n",
              " '  car dick dick ',\n",
              " '  really never get ta fuck yeah ',\n",
              " '  make mind come ',\n",
              " '  get ',\n",
              " '  pussy ',\n",
              " '  buy phone ',\n",
              " '  pussy ',\n",
              " '  pay kiss ',\n",
              " '  pussy ',\n",
              " '  make wan na ',\n",
              " '  see pussy yeah yeah ',\n",
              " '  look need hard need ',\n",
              " '  need need weed smoker ',\n",
              " '  need ',\n",
              " '  hope ',\n",
              " '  get money thats im head ',\n",
              " '  pussy like ',\n",
              " '  get well im tryna wet ',\n",
              " '  let taste ',\n",
              " '  dont wan na spit wan na gulp ',\n",
              " '  wan na wan na choke ',\n",
              " '  want touch ',\n",
              " '  swing back throat ',\n",
              " '  head game fire ',\n",
              " '  go dry come ',\n",
              " '  like cop behind yeah ',\n",
              " '  spit tryna ',\n",
              " '  im bitch ',\n",
              " '  make feel like ',\n",
              " '  put knee give ',\n",
              " '  never lose fight im look ',\n",
              " '  im one eat ya ',\n",
              " '  eat bottom ',\n",
              " '  big stand big ',\n",
              " '  could make bust ever meet ya ',\n",
              " '  dont hang cant ',\n",
              " '  cant hurt like pain ',\n",
              " '  fuck ',\n",
              " '  dick ima name ',\n",
              " '  whore house ',\n",
              " '  yeah yeah yeah ',\n",
              " '  yeah fuck pussy ',\n",
              " '  bring pussy ',\n",
              " '  give get pussy ',\n",
              " '  top make drop ',\n",
              " '  thats pussy ',\n",
              " '  get ',\n",
              " '  thats pussy ',\n",
              " '  im talk ',\n",
              " '  thats pussy ',\n",
              " '  pot ',\n",
              " '  thats pussy ',\n",
              " '  whore house ',\n",
              " '  whore house ']"
            ]
          },
          "metadata": {
            "tags": []
          },
          "execution_count": 250
        }
      ]
    },
    {
      "cell_type": "code",
      "metadata": {
        "colab": {
          "base_uri": "https://localhost:8080/"
        },
        "id": "kz6kaqKUU2pN",
        "outputId": "39e3773a-bbb6-4c8b-924e-7d20e294ad1a"
      },
      "source": [
        "thresholds"
      ],
      "execution_count": null,
      "outputs": [
        {
          "output_type": "execute_result",
          "data": {
            "text/plain": [
              "array([9, 9, 1, 2, 1, 1, 0, 1, 2, 9, 1, 0, 1, 9, 1, 1, 2, 1, 2, 0, 2, 2,\n",
              "       0, 0, 9, 1, 0, 2, 9, 1, 0, 0, 9, 1, 9, 1, 9, 1, 9, 1, 1, 0, 9, 9,\n",
              "       1, 1, 1, 9, 0, 0, 9, 2, 2, 9, 2, 1, 1, 9, 9, 1, 1, 9, 1, 1, 0, 2,\n",
              "       9, 1, 1, 1, 1, 0, 1, 9, 1, 9, 1, 9, 1, 9, 1, 1, 1])"
            ]
          },
          "metadata": {
            "tags": []
          },
          "execution_count": 251
        }
      ]
    },
    {
      "cell_type": "code",
      "metadata": {
        "colab": {
          "base_uri": "https://localhost:8080/"
        },
        "id": "L6bOnS6SBJBv",
        "outputId": "cc1d0cd6-4abf-4a81-810d-5d4bb0e5a84f"
      },
      "source": [
        "Y_pred"
      ],
      "execution_count": null,
      "outputs": [
        {
          "output_type": "execute_result",
          "data": {
            "text/plain": [
              "array([[4.77454931e-01, 3.76256853e-01, 1.46288246e-01],\n",
              "       [5.61021864e-01, 2.86449552e-01, 1.52528599e-01],\n",
              "       [1.02571234e-01, 8.29579651e-01, 6.78490698e-02],\n",
              "       [3.91292125e-02, 1.49151403e-02, 9.45955634e-01],\n",
              "       [5.30967582e-03, 9.94690299e-01, 5.21858716e-08],\n",
              "       [2.64399223e-05, 9.99967217e-01, 6.34679782e-06],\n",
              "       [8.45281661e-01, 8.33726972e-02, 7.13456050e-02],\n",
              "       [1.19371945e-03, 9.97604549e-01, 1.20171276e-03],\n",
              "       [7.81995186e-04, 2.76007946e-03, 9.96457875e-01],\n",
              "       [4.12372917e-01, 2.93798149e-01, 2.93828905e-01],\n",
              "       [1.17641844e-06, 9.99997258e-01, 1.59208423e-06],\n",
              "       [9.94317591e-01, 1.44741079e-03, 4.23507253e-03],\n",
              "       [5.30533167e-03, 9.90847945e-01, 3.84680880e-03],\n",
              "       [3.55566531e-01, 2.81155854e-01, 3.63277555e-01],\n",
              "       [2.03507028e-07, 9.99999762e-01, 2.43289406e-08],\n",
              "       [1.07125846e-08, 1.00000000e+00, 4.67896832e-11],\n",
              "       [6.45089373e-02, 7.34429061e-02, 8.62048149e-01],\n",
              "       [9.24916565e-02, 8.98798168e-01, 8.71024560e-03],\n",
              "       [9.76313204e-02, 7.97390006e-03, 8.94394755e-01],\n",
              "       [8.69448245e-01, 1.18078463e-01, 1.24733606e-02],\n",
              "       [1.89175690e-03, 1.01353206e-01, 8.96755040e-01],\n",
              "       [7.14081004e-02, 2.01578159e-02, 9.08434153e-01],\n",
              "       [9.99901056e-01, 7.00059036e-06, 9.19003069e-05],\n",
              "       [9.59223926e-01, 4.00942937e-02, 6.81775913e-04],\n",
              "       [3.93327504e-01, 5.83659589e-01, 2.30129100e-02],\n",
              "       [1.19790629e-05, 9.99988079e-01, 2.86225088e-08],\n",
              "       [9.85895813e-01, 1.23616755e-02, 1.74251944e-03],\n",
              "       [6.87379861e-06, 2.95554695e-04, 9.99697566e-01],\n",
              "       [4.16162275e-02, 5.01848936e-01, 4.56534803e-01],\n",
              "       [4.69906581e-07, 9.99996305e-01, 3.18625075e-06],\n",
              "       [9.47132945e-01, 4.21652757e-02, 1.07018361e-02],\n",
              "       [8.04395795e-01, 1.57085031e-01, 3.85191329e-02],\n",
              "       [6.09239280e-01, 5.38997985e-02, 3.36860985e-01],\n",
              "       [1.02571234e-01, 8.29579651e-01, 6.78490698e-02],\n",
              "       [6.27395689e-01, 2.04122975e-01, 1.68481261e-01],\n",
              "       [1.02571234e-01, 8.29579651e-01, 6.78490698e-02],\n",
              "       [2.94629604e-01, 2.89265007e-01, 4.16105390e-01],\n",
              "       [1.02571234e-01, 8.29579651e-01, 6.78490698e-02],\n",
              "       [2.98428208e-01, 3.03607374e-01, 3.97964388e-01],\n",
              "       [3.69322629e-06, 9.99996305e-01, 3.14568954e-10],\n",
              "       [2.05391296e-03, 9.97856319e-01, 8.97898062e-05],\n",
              "       [9.99987364e-01, 1.00999659e-05, 2.54224824e-06],\n",
              "       [6.34518862e-01, 3.84366550e-02, 3.27044487e-01],\n",
              "       [7.25267768e-01, 1.13182897e-02, 2.63413936e-01],\n",
              "       [9.07652531e-09, 9.99999881e-01, 7.21273992e-08],\n",
              "       [1.34981901e-03, 9.98145342e-01, 5.04897791e-04],\n",
              "       [1.67136211e-02, 9.82959747e-01, 3.26567912e-04],\n",
              "       [6.48745418e-01, 2.84527898e-01, 6.67267293e-02],\n",
              "       [9.98867989e-01, 1.89217681e-04, 9.42885876e-04],\n",
              "       [8.97457957e-01, 1.43078738e-03, 1.01111136e-01],\n",
              "       [2.53104806e-01, 9.65971500e-03, 7.37235546e-01],\n",
              "       [1.62730248e-05, 1.96278444e-04, 9.99787509e-01],\n",
              "       [5.27028402e-04, 6.82074460e-05, 9.99404788e-01],\n",
              "       [6.65208161e-01, 1.40808448e-01, 1.93983421e-01],\n",
              "       [9.22249723e-03, 6.70296047e-03, 9.84074593e-01],\n",
              "       [4.11177762e-02, 8.82382631e-01, 7.64995888e-02],\n",
              "       [3.41520570e-02, 9.55881774e-01, 9.96616017e-03],\n",
              "       [4.18996632e-01, 4.83200625e-02, 5.32683313e-01],\n",
              "       [7.28185615e-03, 5.05168736e-01, 4.87549454e-01],\n",
              "       [3.20146419e-03, 9.91599083e-01, 5.19951340e-03],\n",
              "       [2.88675237e-05, 9.99892950e-01, 7.82300631e-05],\n",
              "       [2.20268592e-01, 2.70976484e-01, 5.08754969e-01],\n",
              "       [7.19891908e-03, 9.55997109e-01, 3.68038975e-02],\n",
              "       [1.56712823e-03, 9.97195721e-01, 1.23715820e-03],\n",
              "       [9.48001146e-01, 2.04854645e-03, 4.99502644e-02],\n",
              "       [1.39870103e-02, 1.04751572e-01, 8.81261349e-01],\n",
              "       [7.11507648e-02, 1.48225501e-01, 7.80623794e-01],\n",
              "       [5.89292949e-06, 9.99965906e-01, 2.82799119e-05],\n",
              "       [5.24508907e-03, 9.92554367e-01, 2.20051920e-03],\n",
              "       [1.30802631e-01, 8.69183779e-01, 1.35913542e-05],\n",
              "       [2.64399223e-05, 9.99967217e-01, 6.34679782e-06],\n",
              "       [8.45281661e-01, 8.33726972e-02, 7.13456050e-02],\n",
              "       [1.19371945e-03, 9.97604549e-01, 1.20171276e-03],\n",
              "       [1.60430290e-03, 5.78296721e-01, 4.20098960e-01],\n",
              "       [2.46621040e-03, 9.75817442e-01, 2.17162967e-02],\n",
              "       [6.09239280e-01, 5.38997985e-02, 3.36860985e-01],\n",
              "       [2.46621040e-03, 9.75817442e-01, 2.17162967e-02],\n",
              "       [3.79899234e-01, 6.08913228e-02, 5.59209466e-01],\n",
              "       [2.46621040e-03, 9.75817442e-01, 2.17162967e-02],\n",
              "       [7.89643407e-01, 1.47831552e-02, 1.95573360e-01],\n",
              "       [2.46621040e-03, 9.75817442e-01, 2.17162967e-02],\n",
              "       [5.24508907e-03, 9.92554367e-01, 2.20051920e-03],\n",
              "       [5.24508907e-03, 9.92554367e-01, 2.20051920e-03]], dtype=float32)"
            ]
          },
          "metadata": {
            "tags": []
          },
          "execution_count": 252
        }
      ]
    },
    {
      "cell_type": "markdown",
      "metadata": {
        "id": "qxYy92nupqXK"
      },
      "source": [
        "#Predicting popular hip hop songs yearwise"
      ]
    },
    {
      "cell_type": "code",
      "metadata": {
        "id": "UMYv1c0L-lzY"
      },
      "source": [
        "import pandas as pd"
      ],
      "execution_count": null,
      "outputs": []
    },
    {
      "cell_type": "code",
      "metadata": {
        "id": "KWP8EGEl7oK7"
      },
      "source": [
        "siddf = pd.read_csv('songs.csv')"
      ],
      "execution_count": null,
      "outputs": []
    },
    {
      "cell_type": "code",
      "metadata": {
        "id": "MtI8ou_F_SPg"
      },
      "source": [
        "len(siddf)"
      ],
      "execution_count": null,
      "outputs": []
    },
    {
      "cell_type": "code",
      "metadata": {
        "id": "eWpAJ479_sGo"
      },
      "source": [
        "siddf.iloc[3]['Name']"
      ],
      "execution_count": null,
      "outputs": []
    },
    {
      "cell_type": "code",
      "metadata": {
        "id": "r2fFVw6DppRO"
      },
      "source": [
        "import json\n",
        "import requests\n",
        "lyrics = []\n",
        "try:\n",
        "  artist = 'Taylor Swift'\n",
        "  song = 'Delicate'\n",
        "  url = 'https://api.lyrics.ovh/v1/' + artist + '/' + song\n",
        "\n",
        "  response = requests.get(url)\n",
        "  json_data = json.loads(response.content)\n",
        "  lyrics = json_data['lyrics']\n",
        "except:\n",
        "  print('NOT FOUND')"
      ],
      "execution_count": null,
      "outputs": []
    },
    {
      "cell_type": "code",
      "metadata": {
        "id": "FLWu7XvqAWJM"
      },
      "source": [
        "lyrics"
      ],
      "execution_count": null,
      "outputs": []
    },
    {
      "cell_type": "code",
      "metadata": {
        "id": "rCLOtGoQppY6"
      },
      "source": [
        "import pprint"
      ],
      "execution_count": null,
      "outputs": []
    },
    {
      "cell_type": "markdown",
      "metadata": {
        "id": "cnOa1aUlrX6D"
      },
      "source": [
        "# PIPELINE (FOR TESTING)"
      ]
    },
    {
      "cell_type": "code",
      "metadata": {
        "id": "WI9EMFOhsFXr"
      },
      "source": [
        "testdf = pd.DataFrame()"
      ],
      "execution_count": null,
      "outputs": []
    },
    {
      "cell_type": "code",
      "metadata": {
        "id": "S6Vvr2PcseI1"
      },
      "source": [
        "lyrics"
      ],
      "execution_count": null,
      "outputs": []
    },
    {
      "cell_type": "code",
      "metadata": {
        "id": "s6tVKtmEwjp1"
      },
      "source": [
        "lyrics = lyrics.split('\\n\\n')"
      ],
      "execution_count": null,
      "outputs": []
    },
    {
      "cell_type": "code",
      "metadata": {
        "id": "LcOIcB0JywbI"
      },
      "source": [
        "lyrics"
      ],
      "execution_count": null,
      "outputs": []
    },
    {
      "cell_type": "code",
      "metadata": {
        "id": "_yabkr-KsKVr"
      },
      "source": [
        "testdf['text'] = lyrics\n"
      ],
      "execution_count": null,
      "outputs": []
    },
    {
      "cell_type": "code",
      "metadata": {
        "id": "Al0jC2CnsQzB"
      },
      "source": [
        "testdf"
      ],
      "execution_count": null,
      "outputs": []
    },
    {
      "cell_type": "code",
      "metadata": {
        "id": "2q1dYG3XrX6g"
      },
      "source": [
        "testdf = removing_lines(testdf)\n",
        "testdf = preprocess(testdf)"
      ],
      "execution_count": null,
      "outputs": []
    },
    {
      "cell_type": "code",
      "metadata": {
        "id": "MiIa7dmZrX6l"
      },
      "source": [
        "bi_gram(testdf['text'])"
      ],
      "execution_count": null,
      "outputs": []
    },
    {
      "cell_type": "code",
      "metadata": {
        "id": "T5M_6pyprX6n"
      },
      "source": [
        "e = freq_words(testdf['text'], 100)"
      ],
      "execution_count": null,
      "outputs": []
    },
    {
      "cell_type": "code",
      "metadata": {
        "id": "rVGgzd8arX6p"
      },
      "source": [
        "testdf = preprocess(testdf)"
      ],
      "execution_count": null,
      "outputs": []
    },
    {
      "cell_type": "code",
      "metadata": {
        "id": "KHRJm7_IrX6s"
      },
      "source": [
        "testdf.shape"
      ],
      "execution_count": null,
      "outputs": []
    },
    {
      "cell_type": "code",
      "metadata": {
        "id": "_e_Vsuf3rX6u"
      },
      "source": [
        "all_words = get_all_words(testdf)\n",
        "X = token(testdf)"
      ],
      "execution_count": null,
      "outputs": []
    },
    {
      "cell_type": "code",
      "metadata": {
        "id": "cd-6ajdLppy7"
      },
      "source": [],
      "execution_count": null,
      "outputs": []
    },
    {
      "cell_type": "markdown",
      "metadata": {
        "id": "auVOzsRa6JZg"
      },
      "source": [
        "# PREDICT NEW SONG"
      ]
    },
    {
      "cell_type": "code",
      "metadata": {
        "id": "YXHXLFUU6Jaz"
      },
      "source": [
        "Y_pred = model.predict(X, verbose=0)\n",
        "Y_pred\n"
      ],
      "execution_count": null,
      "outputs": []
    },
    {
      "cell_type": "code",
      "metadata": {
        "id": "oHjYEKUy6Ja9"
      },
      "source": [
        "thresholds = []\n",
        "flag = 0\n",
        "for i in range (len(Y_pred)):\n",
        "  for j in range (3):\n",
        "      if (Y_pred[i][j] >= 0.7):\n",
        "        thresholds.append(j)\n",
        "        flag = 1\n",
        "      \n",
        "  if (flag==0):\n",
        "    thresholds.append(9)\n",
        "  flag = 0\n",
        "thresholds = np.array(thresholds)"
      ],
      "execution_count": null,
      "outputs": []
    },
    {
      "cell_type": "code",
      "metadata": {
        "id": "qPqk9vOz6JbA"
      },
      "source": [
        "thresholds"
      ],
      "execution_count": null,
      "outputs": []
    },
    {
      "cell_type": "code",
      "metadata": {
        "id": "NU17ip7q6JbE"
      },
      "source": [
        "# Needs to be changed\n",
        "count0 = 0\n",
        "count1 = 0\n",
        "count2 = 0 \n",
        "count9 = 0\n",
        "for i in thresholds:\n",
        "  if i == 1:\n",
        "    count1+=1\n",
        "  elif i == 0: \n",
        "    count0+=1\n",
        "  elif i == 2:\n",
        "    count2+=1\n",
        "  elif i == 9:\n",
        "    count9+=1\n",
        "print(\"Drugs count:\" , count0)\n",
        "print(\"Misogyny count:\" , count1)\n",
        "print(\"Violence count:\" , count2)\n",
        "print(\"Peace count:\" , count9)"
      ],
      "execution_count": null,
      "outputs": []
    },
    {
      "cell_type": "markdown",
      "metadata": {
        "id": "s0w8aCjjqaQg"
      },
      "source": [
        "#Logistic Regression"
      ]
    },
    {
      "cell_type": "code",
      "metadata": {
        "id": "6Ui4XeDTqiv8"
      },
      "source": [
        "import pandas as pd\n",
        "from sklearn.model_selection import train_test_split\n",
        "from sklearn.linear_model import LogisticRegression\n",
        "from sklearn.feature_extraction.text import CountVectorizer,TfidfVectorizer"
      ],
      "execution_count": null,
      "outputs": []
    },
    {
      "cell_type": "markdown",
      "metadata": {
        "id": "a8JFGphePYuc"
      },
      "source": [
        "#SAVING THE MODEL"
      ]
    },
    {
      "cell_type": "code",
      "metadata": {
        "id": "Cc19xvEEPX0G"
      },
      "source": [
        "\n",
        "model.save('saved_model/lstm') "
      ],
      "execution_count": null,
      "outputs": []
    },
    {
      "cell_type": "code",
      "metadata": {
        "id": "bUZ_A6VNPX4n"
      },
      "source": [
        "#!ls saved_model\n",
        "\n",
        "# Contains an assets folder, saved_model.pb, and variables folder.\n",
        "#!ls saved_model/lstm"
      ],
      "execution_count": null,
      "outputs": []
    },
    {
      "cell_type": "markdown",
      "metadata": {
        "id": "uX5DWJIJ8NrV"
      },
      "source": [
        "#USING K FOLD"
      ]
    },
    {
      "cell_type": "code",
      "metadata": {
        "id": "cVb0WcrV8jgS"
      },
      "source": [
        "from sklearn.ensemble import RandomForestRegressor"
      ],
      "execution_count": null,
      "outputs": []
    },
    {
      "cell_type": "code",
      "metadata": {
        "id": "RH5kddeQ8dNI"
      },
      "source": [
        "rf_reg = RandomForestRegressor()"
      ],
      "execution_count": null,
      "outputs": []
    },
    {
      "cell_type": "code",
      "metadata": {
        "id": "PpQtslf5m01-"
      },
      "source": [
        "Y.shape"
      ],
      "execution_count": null,
      "outputs": []
    },
    {
      "cell_type": "code",
      "metadata": {
        "id": "7uQ8JvXXZUoI"
      },
      "source": [
        "\n",
        "from sklearn.model_selection import cross_val_score, cross_val_predict\n",
        "cv_r2_scores_rf = cross_val_score(rf_reg, X, Y, cv=5,scoring='r2')"
      ],
      "execution_count": null,
      "outputs": []
    },
    {
      "cell_type": "code",
      "metadata": {
        "id": "nZzPp1A_8QW3"
      },
      "source": [
        "\n",
        "kf = KFold(n_splits = 5, shuffle = True)"
      ],
      "execution_count": null,
      "outputs": []
    },
    {
      "cell_type": "markdown",
      "metadata": {
        "id": "NdSho8rowrnl"
      },
      "source": [
        "BAGGING"
      ]
    },
    {
      "cell_type": "code",
      "metadata": {
        "id": "h0M6jI4Q89Rx"
      },
      "source": [
        "from sklearn.ensemble import BaggingClassifier\n",
        "bgcl = BaggingClassifier(n_estimators=100, max_samples=.50 , oob_score=True)\n",
        "\n",
        "bgcl = bgcl.fit(X, Y)\n",
        "print(bgcl.oob_score_)"
      ],
      "execution_count": null,
      "outputs": []
    },
    {
      "cell_type": "markdown",
      "metadata": {
        "id": "l1lzXXw5wrno"
      },
      "source": [
        "BOOSTING"
      ]
    },
    {
      "cell_type": "code",
      "metadata": {
        "id": "kV74HGv29J9h"
      },
      "source": [
        "from sklearn.ensemble import AdaBoostClassifier\n",
        "abcl = AdaBoostClassifier( n_estimators=50, random_state=1)\n",
        "#abcl = AdaBoostClassifier(n_estimators=50)\n",
        "abcl = abcl.fit(X_train, Y_train)"
      ],
      "execution_count": null,
      "outputs": []
    },
    {
      "cell_type": "code",
      "metadata": {
        "id": "NugPL-Ocwrnq"
      },
      "source": [
        "test_pred = abcl.predict(X_test)\n",
        "abcl.score(X_test , Y_test)"
      ],
      "execution_count": null,
      "outputs": []
    },
    {
      "cell_type": "markdown",
      "metadata": {
        "id": "-btouxKQwrnr"
      },
      "source": [
        "GRADIENT BOOSTING"
      ]
    },
    {
      "cell_type": "code",
      "metadata": {
        "id": "U_NxR89Bwrns"
      },
      "source": [
        "from sklearn.ensemble import GradientBoostingClassifier"
      ],
      "execution_count": null,
      "outputs": []
    },
    {
      "cell_type": "code",
      "metadata": {
        "id": "P-RljJWMwrnt"
      },
      "source": [
        "gbcl = GradientBoostingClassifier(n_estimators = 50, learning_rate = 0.09, max_depth=5)\n",
        "gbcl = gbcl.fit(X_train, Y_train)"
      ],
      "execution_count": null,
      "outputs": []
    },
    {
      "cell_type": "code",
      "metadata": {
        "id": "Gdi4b_KXwrnu"
      },
      "source": [
        "test_pred = gbcl.predict(X_test)\n",
        "gbcl.score(X_test , Y_test)"
      ],
      "execution_count": null,
      "outputs": []
    },
    {
      "cell_type": "code",
      "metadata": {
        "id": "jIBZPUCmwrnw"
      },
      "source": [
        "from sklearn.ensemble import RandomForestClassifier"
      ],
      "execution_count": null,
      "outputs": []
    },
    {
      "cell_type": "code",
      "metadata": {
        "id": "j20ERnwqwrnx"
      },
      "source": [
        "rfcl = RandomForestClassifier(n_estimators = 6)\n",
        "rfcl = rfcl.fit(X_train, Y_train)"
      ],
      "execution_count": null,
      "outputs": []
    },
    {
      "cell_type": "code",
      "metadata": {
        "id": "FplcnX4Zwrny"
      },
      "source": [
        "test_pred = rfcl.predict(X_test)\n",
        "rfcl.score(X_test , Y_test)"
      ],
      "execution_count": null,
      "outputs": []
    },
    {
      "cell_type": "code",
      "metadata": {
        "id": "HUw_BXWiwrn7"
      },
      "source": [
        "from sklearn.tree import DecisionTreeClassifier\n",
        "dt_model = DecisionTreeClassifier(criterion = 'entropy' )"
      ],
      "execution_count": null,
      "outputs": []
    },
    {
      "cell_type": "code",
      "metadata": {
        "id": "agRmG81SwroG"
      },
      "source": [
        "dt_model.fit(X_train, Y_train)"
      ],
      "execution_count": null,
      "outputs": []
    },
    {
      "cell_type": "code",
      "metadata": {
        "id": "KHtjZMJowroM"
      },
      "source": [
        "dt_model.score(X_test , Y_test)"
      ],
      "execution_count": null,
      "outputs": []
    },
    {
      "cell_type": "code",
      "metadata": {
        "id": "Y7UtShjrwroO"
      },
      "source": [
        "dt_model.score(X_train, Y_train) "
      ],
      "execution_count": null,
      "outputs": []
    },
    {
      "cell_type": "code",
      "metadata": {
        "id": "Ge02sP5KwroP"
      },
      "source": [
        "dt_model = DecisionTreeClassifier(criterion = 'entropy', class_weight={0:.5,1:.5}, max_depth = 3, min_samples_leaf=5 )\n",
        "dt_model.fit(X_train, Y_train)\n"
      ],
      "execution_count": null,
      "outputs": []
    },
    {
      "cell_type": "code",
      "metadata": {
        "id": "zdBXdxK3wroQ"
      },
      "source": [
        "dt_model.score(X_test , Y_test)"
      ],
      "execution_count": null,
      "outputs": []
    },
    {
      "cell_type": "code",
      "metadata": {
        "id": "AfNbRo3FwroR"
      },
      "source": [
        "dt_model.score(X_train, Y_train)"
      ],
      "execution_count": null,
      "outputs": []
    },
    {
      "cell_type": "code",
      "metadata": {
        "id": "6M6qVQS8wroS"
      },
      "source": [
        "gbcl = GradientBoostingClassifier(n_estimators = 50,learning_rate = 0.09, max_depth=5,algorithm = \"SAMME.R\")\n",
        "gbcl = gbcl.fit(X_train, Y_train)"
      ],
      "execution_count": null,
      "outputs": []
    },
    {
      "cell_type": "code",
      "metadata": {
        "id": "NJ7GLiBNwroU"
      },
      "source": [],
      "execution_count": null,
      "outputs": []
    },
    {
      "cell_type": "code",
      "metadata": {
        "id": "63_MaxbCwroU"
      },
      "source": [],
      "execution_count": null,
      "outputs": []
    },
    {
      "cell_type": "code",
      "metadata": {
        "id": "aF8V-uJxwroV"
      },
      "source": [],
      "execution_count": null,
      "outputs": []
    },
    {
      "cell_type": "markdown",
      "metadata": {
        "id": "7QtW2YtDwroW"
      },
      "source": [
        "### TESTING FOR NEW SONG"
      ]
    },
    {
      "cell_type": "markdown",
      "metadata": {
        "id": "7ugEHRvIwroX"
      },
      "source": []
    },
    {
      "cell_type": "code",
      "metadata": {
        "id": "QFkE23ObwroZ"
      },
      "source": [
        "a_file = open(\"song.txt\" , \"r\") \n",
        "print(a_file)\n",
        "\n",
        "new = []\n",
        "\n",
        "for line in a_file:\n",
        "\n",
        "    stripped_line = line.strip()\n",
        "\n",
        "    line_list = stripped_line\n",
        "\n",
        "    new.append(line_list)\n",
        "\n",
        "a_file.close()\n",
        "\n",
        "DF_new= pd.DataFrame()\n",
        "DF_new['new'] = new\n",
        "\n",
        "\n",
        "\n",
        "#print(doroth_diags)\n"
      ],
      "execution_count": null,
      "outputs": []
    },
    {
      "cell_type": "code",
      "metadata": {
        "id": "JFkTuh0jwroa"
      },
      "source": [
        "DF_new"
      ],
      "execution_count": null,
      "outputs": []
    },
    {
      "cell_type": "code",
      "metadata": {
        "id": "iD1wlYNqwrod"
      },
      "source": [
        "from contextlib import redirect_stdout\n",
        "with redirect_stdout(open(os.devnull, \"w\")):             ### Silence download progressing by re-directing to stdout\n",
        "   nltk.download('stopwords')\n",
        "   nltk.download('punkt')\n",
        "   nltk.download('averaged_perceptron_tagger')\n",
        "   nltk.download('wordnet')\n",
        "   from nltk.corpus import stopwords"
      ],
      "execution_count": null,
      "outputs": []
    },
    {
      "cell_type": "code",
      "metadata": {
        "id": "4o2A5cFzwrog"
      },
      "source": [
        "stop = set(stopwords.words('english'))\n",
        "\n",
        "lemmatizer = WordNetLemmatizer()"
      ],
      "execution_count": null,
      "outputs": []
    },
    {
      "cell_type": "code",
      "metadata": {
        "id": "SlMWH_pswroi"
      },
      "source": [
        "# function to convert nltk tag to wordnet tag\n",
        "def nltk_tag_to_wordnet_tag(nltk_tag):\n",
        "    if nltk_tag.startswith('J'):\n",
        "        return wordnet.ADJ\n",
        "    elif nltk_tag.startswith('V'):\n",
        "        return wordnet.VERB\n",
        "    elif nltk_tag.startswith('N'):\n",
        "        return wordnet.NOUN\n",
        "    elif nltk_tag.startswith('R'):\n",
        "        return wordnet.ADV\n",
        "    else:          \n",
        "        return None"
      ],
      "execution_count": null,
      "outputs": []
    },
    {
      "cell_type": "code",
      "metadata": {
        "id": "RB_sBbO-wrok"
      },
      "source": [
        "#lemmatization \n",
        "def lemmatize_sentence(sentence):\n",
        "\n",
        "    #tokenize the sentence and find the POS tag for each token\n",
        "    nltk_tagged = nltk.pos_tag(nltk.word_tokenize(sentence))  \n",
        "    \n",
        "    #tuple of (token, wordnet_tag)\n",
        "\n",
        "    wordnet_tagged = map(lambda x: (x[0], nltk_tag_to_wordnet_tag(x[1])), nltk_tagged)\n",
        "    lemmatized_sentence = []\n",
        "    for word, tag in wordnet_tagged:\n",
        "        if tag is None:\n",
        "            #if there is no available tag, append the token as is\n",
        "            lemmatized_sentence.append(word)\n",
        "        else:        \n",
        "            #else use the tag to lemmatize the token\n",
        "            lemmatized_sentence.append(lemmatizer.lemmatize(word, tag))\n",
        "    return \" \".join(lemmatized_sentence)"
      ],
      "execution_count": null,
      "outputs": []
    },
    {
      "cell_type": "code",
      "metadata": {
        "id": "xtwfm_dCwroo"
      },
      "source": [
        "# function to identify & remove unwanted characters from text in \"Combined Description\"\n",
        "temp1 =[]\n",
        "for sentence in DF_new['new']:\n",
        "    sentence = sentence.lower() #lower case\n",
        "    cleanr = re.compile('<.*?>')\n",
        "    sentence = re.sub(cleanr, ' ', sentence)        #removing HTML tags\n",
        "    sentence = re.sub(r'\\S+@\\S+', 'EmailId', sentence)#removing mail ids\n",
        "    sentence = re.sub(r'\\S+@\\S+', 'https', sentence)#removing https\n",
        "    sentence = re.sub(r'\\S+@\\S+', 'http', sentence)#removing http\n",
        "    sentence = re.sub(r'\\'', '', sentence, re.I|re.A)\n",
        "    sentence = re.sub(r'[0-9]', '', sentence, re.I|re.A)\n",
        "    sentence = re.sub(r'[^a-zA-Z0-9\\s]', ' ', sentence)\n",
        "    sentence = sentence.lower()\n",
        "    sentence = re.sub(r'com ', ' ', sentence, re.I|re.A)\n",
        "    sentence = re.sub(r'Subject: ', ' ', sentence, re.I|re.A)\n",
        "    sentence = re.sub(r'\\[cid:(.*)]', ' ', sentence, re.I|re.A)\n",
        "    sentence = re.sub(r'hello ', ' ', sentence, re.I|re.A)\n",
        "    #sentence = re.sub(r'The information(.*)infection', ' ', sentence, re.I|re.A)  # footer\n",
        "    #sentence = re.sub(r'Endava Limited is a company(.*)or omissions', ' ', sentence,  re.I|re.A)  # footer\n",
        "    #sentence = re.sub(r'The information in this email is confidential and may be legally(.*)interference if you are not the intended recipient', ' ', sentence, re.I|re.A)  # footer\n",
        "    #sentence = re.sub(r'select the following link to view the disclaimer in an alternate language.', ' ', sentence, re.I|re.A)  # disclaimer footer\n",
        "    l_sentence = lemmatize_sentence(sentence)\n",
        "\n",
        "    words = [word for word in l_sentence.split() if word not in stopwords.words('english')]\n",
        "    temp1.append(words)\n",
        "\n",
        "    #print (\"Sentence = \",sentence)"
      ],
      "execution_count": null,
      "outputs": []
    },
    {
      "cell_type": "code",
      "metadata": {
        "id": "cO9yN1Hfwroq"
      },
      "source": [
        "temp1"
      ],
      "execution_count": null,
      "outputs": []
    },
    {
      "cell_type": "code",
      "metadata": {
        "id": "NFHWKtVHwros"
      },
      "source": [
        "def listToString(s):  \n",
        "    \n",
        "    # initialize an empty string \n",
        "    str1 = \" \"  \n",
        "    \n",
        "    # traverse in the string   \n",
        "    for ele in s:  \n",
        "        \n",
        "        str1 += ele   \n",
        "        str1+=' '\n",
        "\n",
        "    \n",
        "    # return string   \n",
        "    return str1  \n",
        "        \n",
        "        \n",
        "# Driver code     \n",
        "for sentence in range (len(temp1)):\n",
        "  DF_new['new'][sentence] = listToString(temp1[sentence])"
      ],
      "execution_count": null,
      "outputs": []
    },
    {
      "cell_type": "code",
      "metadata": {
        "id": "SEgmsLTawrov"
      },
      "source": [
        "DF_new"
      ],
      "execution_count": null,
      "outputs": []
    },
    {
      "cell_type": "code",
      "metadata": {
        "id": "D4tdMxtqwroy"
      },
      "source": [
        "all_words = list()\n",
        "for w in DF_new['new']:\n",
        "    all_words.append(w)"
      ],
      "execution_count": null,
      "outputs": []
    },
    {
      "cell_type": "code",
      "metadata": {
        "id": "v07AGoH-wro2"
      },
      "source": [
        "print('Size of vocabulary: {}'.format(len(set(all_words))))"
      ],
      "execution_count": null,
      "outputs": []
    },
    {
      "cell_type": "code",
      "metadata": {
        "id": "DZjmnZR3wrpA"
      },
      "source": [
        "index_dict = dict()\n",
        "count = 1\n",
        "index_dict['<unk>'] = 0\n",
        "for word in set(all_words):\n",
        "    index_dict[word] = count\n",
        "    count += 1"
      ],
      "execution_count": null,
      "outputs": []
    },
    {
      "cell_type": "code",
      "metadata": {
        "id": "pv-gs2hvwrpK"
      },
      "source": [
        "vocab_size = (len(set(all_words)))  # There are 6655 words in total\n",
        "tokenizer = tf.keras.preprocessing.text.Tokenizer(num_words=vocab_size)\n",
        "tokenizer.fit_on_texts(DF_new['new'])\n",
        "\n",
        "train_inputs = tokenizer.texts_to_sequences(DF_new['new'])\n",
        "sns.distplot([len(l) for l in train_inputs])"
      ],
      "execution_count": null,
      "outputs": []
    },
    {
      "cell_type": "code",
      "metadata": {
        "id": "zxNrZQ6owrpM"
      },
      "source": [
        "A = tokenizer.texts_to_sequences(DF_new['new'])\n",
        "A = pad_sequences(A, maxlen = len(set(all_words)))\n",
        "B = np.asarray(DF_new['new'])\n",
        "\n",
        "print(\"Number of Samples:\", len(A))\n",
        "print(A[18])\n",
        "print(\"Number of Labels: \", len(B))\n",
        "print(B[18])"
      ],
      "execution_count": null,
      "outputs": []
    },
    {
      "cell_type": "code",
      "metadata": {
        "id": "DZdsogN8wrpN"
      },
      "source": [
        "Embedding((len(set(all_words))), 32, input_length= len(set(all_words)))"
      ],
      "execution_count": null,
      "outputs": []
    },
    {
      "cell_type": "code",
      "metadata": {
        "id": "g5V43NYdwrpP"
      },
      "source": [],
      "execution_count": null,
      "outputs": []
    },
    {
      "cell_type": "code",
      "metadata": {
        "id": "33Z6V2YAwrpR"
      },
      "source": [
        "# predict probabilities for test set\n",
        "B_pred = model.predict(A, verbose=0)"
      ],
      "execution_count": null,
      "outputs": []
    },
    {
      "cell_type": "code",
      "metadata": {
        "id": "fVIUA44iwrpS",
        "scrolled": true
      },
      "source": [
        "print(B_pred)"
      ],
      "execution_count": null,
      "outputs": []
    },
    {
      "cell_type": "code",
      "metadata": {
        "id": "jR3iaGLEwrpT"
      },
      "source": [
        "DF_new.tail(10)"
      ],
      "execution_count": null,
      "outputs": []
    },
    {
      "cell_type": "code",
      "metadata": {
        "id": "VIF8Yt30nqbI"
      },
      "source": [
        "model = Sequential()\n",
        "model.add(Embedding(vocab_size, embed_dim,input_length = 15))\n",
        "model.add(SpatialDropout1D(0.4))\n",
        "model.add(LSTM(lstm_out, dropout=0.2, recurrent_dropout=0.2))\n",
        "model.add(Dense(3,activation='softmax'))\n",
        "model.compile(loss = 'sparse_categorical_crossentropy', optimizer='adam',metrics = ['accuracy'])\n",
        "print(model.summary())"
      ],
      "execution_count": null,
      "outputs": []
    },
    {
      "cell_type": "code",
      "metadata": {
        "id": "EYV42wn2MnhO"
      },
      "source": [],
      "execution_count": null,
      "outputs": []
    }
  ]
}